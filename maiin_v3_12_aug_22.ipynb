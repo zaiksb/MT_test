{
 "cells": [
  {
   "cell_type": "markdown",
   "metadata": {
    "collapsed": true,
    "pycharm": {
     "name": "#%% md\n"
    }
   },
   "source": [
    "# Answers to coding questions in deep learning\n",
    "Peeter Niidas"
   ]
  },
  {
   "cell_type": "code",
   "execution_count": 57,
   "outputs": [],
   "source": [
    "# Make some preparations\n",
    "\n",
    "import glob\n",
    "import json\n",
    "import pandas as pd\n",
    "import numpy as np\n",
    "import re\n",
    "import spacy\n",
    "from gensim.models import Word2Vec\n",
    "import os\n",
    "import sys\n",
    "from time import time\n",
    "\n",
    "import matplotlib.pyplot as plt\n",
    "#%tensorflow_version 1.x\n",
    "\n",
    "import tensorflow as tf\n",
    "tf.compat.v1.logging.set_verbosity(tf.compat.v1.logging.ERROR)"
   ],
   "metadata": {
    "collapsed": false,
    "pycharm": {
     "name": "#%%\n"
    }
   }
  },
  {
   "cell_type": "markdown",
   "source": [
    "1. Download either the PHEME5 or PHEME9 dataset.\n",
    "2. Choose any one event from the dataset and load its first 100 JSON files into\n",
    "python memory.\n",
    "3. Extract and load attributes such as source tweets, reply tweets, and favorites\n",
    "count, labels of the source tweets."
   ],
   "metadata": {
    "collapsed": false
   }
  },
  {
   "cell_type": "code",
   "execution_count": 58,
   "outputs": [],
   "source": [
    "# Get filenames and load data\n",
    "\n",
    "def read_rename_data (dirr, length):\n",
    "    path = dirr\n",
    "    df = pd.DataFrame()\n",
    "    for filename in glob.iglob(path + '**/*.json', recursive=True):\n",
    "        if 'source-tweet' in filename:\n",
    "            i = 1\n",
    "            f = open(filename)\n",
    "            data = json.load(f)\n",
    "            new_row = {'source_tweet': data['text'], 'favorite_count': data['favorite_count'], 'retweet_count':data['retweet_count']}\n",
    "            df = df.append(new_row, ignore_index=True)\n",
    "            f.close()\n",
    "        elif 'reactions' in filename:\n",
    "            f = open(filename)\n",
    "            data = json.load(f)\n",
    "            new_name = 'reply_' + str(i)\n",
    "            df.loc[df.index[-1], new_name] = data['text']\n",
    "            i += 1\n",
    "        if df.shape[0] == length + 1:\n",
    "            df.drop(df.tail(1).index,inplace=True)\n",
    "            return df\n",
    "    return df"
   ],
   "metadata": {
    "collapsed": false,
    "pycharm": {
     "name": "#%%\n"
    }
   }
  },
  {
   "cell_type": "code",
   "execution_count": 116,
   "outputs": [
    {
     "data": {
      "text/plain": "(2, 73)"
     },
     "execution_count": 116,
     "metadata": {},
     "output_type": "execute_result"
    }
   ],
   "source": [
    "df_true = read_rename_data('./data/pheme-rnr-dataset/sydneysiege/non-rumours/', 2)\n",
    "df_true.shape"
   ],
   "metadata": {
    "collapsed": false,
    "pycharm": {
     "name": "#%%\n"
    }
   }
  },
  {
   "cell_type": "code",
   "execution_count": 60,
   "outputs": [
    {
     "data": {
      "text/plain": "(100, 94)"
     },
     "execution_count": 60,
     "metadata": {},
     "output_type": "execute_result"
    }
   ],
   "source": [
    "df_rumors = read_rename_data('./data/pheme-rnr-dataset/sydneysiege/rumours/', 100)\n",
    "df_rumors.shape"
   ],
   "metadata": {
    "collapsed": false,
    "pycharm": {
     "name": "#%%\n"
    }
   }
  },
  {
   "cell_type": "code",
   "execution_count": 110,
   "outputs": [
    {
     "data": {
      "text/plain": "                                        source_tweet  favorite_count  \\\n0  There are no verses in the Quran about Me want...          4533.0   \n1  Mosques, synagogues and churches are inviting ...           116.0   \n\n   retweet_count                                            reply_1  \\\n0         4465.0  @withnodriver no shit sherlock. are you for re...   \n1          157.0  @elronxenu I'm surprised he hasn't been taken ...   \n\n                                             reply_2  \\\n0  @withnodriver @basznocz Religion doesnt have t...   \n1  @TeamOyeniyi Specifically: guy was on his way ...   \n\n                                             reply_3  \\\n0               @fury_jen @TheTweetOfGod blasphemer.   \n1  @TeamOyeniyi So long as he doesn't kill any ho...   \n\n                                             reply_4  \\\n0   @runitright1 @TheTweetOfGod Sometime also Thor..   \n1  @elronxenu So is he just holed up until the bi...   \n\n                                             reply_5  \\\n0  @Usairam1 mohamed liked to fuck little aisha. ...   \n1  @abcnewsSydney #sydneysiege Very disturbing ne...   \n\n                                             reply_6  \\\n0  @RStarovich @TheTweetOfGod Hahahha...you're ri...   \n1                @abcnewsSydney @jarrodmckenna Amen.   \n\n                                             reply_7  ...  \\\n0  @Usairam1 @basznocz you're kidding they're mak...  ...   \n1  @elronxenu I'm inclined to think outside the s...  ...   \n\n                                            reply_61  \\\n0  @nselby @TheTweetOfGod  no one has guns? It sa...   \n1                                                NaN   \n\n                                            reply_62  \\\n0  @basznocz islam is a lie, just a suppressive m...   \n1                                                NaN   \n\n                                            reply_63  \\\n0  @withnodriver @basznocz Haha. All the science ...   \n1                                                NaN   \n\n                                            reply_64  \\\n0  @cIeopatrio @TheTweetOfGod you know it was a j...   \n1                                                NaN   \n\n                                            reply_65  \\\n0  @timpoliti @runitright1 @TheTweetOfGod Allah t...   \n1                                                NaN   \n\n                                            reply_66  \\\n0  @fury_jen @TheTweetOfGod his voicemail is  ful...   \n1                                                NaN   \n\n                                            reply_67  \\\n0  @withnodriver @basznocz Were WW1 WW2 and many ...   \n1                                                NaN   \n\n                                            reply_68  \\\n0  @basznocz @TheTweetOfGod religion is a complet...   \n1                                                NaN   \n\n                                            reply_69  \\\n0  @weisblumen @IncredulousMark @withnodriver @ba...   \n1                                                NaN   \n\n                                            reply_70  \n0  @TheTweetOfGod sorry god but you're wrong. hav...  \n1                                                NaN  \n\n[2 rows x 73 columns]",
      "text/html": "<div>\n<style scoped>\n    .dataframe tbody tr th:only-of-type {\n        vertical-align: middle;\n    }\n\n    .dataframe tbody tr th {\n        vertical-align: top;\n    }\n\n    .dataframe thead th {\n        text-align: right;\n    }\n</style>\n<table border=\"1\" class=\"dataframe\">\n  <thead>\n    <tr style=\"text-align: right;\">\n      <th></th>\n      <th>source_tweet</th>\n      <th>favorite_count</th>\n      <th>retweet_count</th>\n      <th>reply_1</th>\n      <th>reply_2</th>\n      <th>reply_3</th>\n      <th>reply_4</th>\n      <th>reply_5</th>\n      <th>reply_6</th>\n      <th>reply_7</th>\n      <th>...</th>\n      <th>reply_61</th>\n      <th>reply_62</th>\n      <th>reply_63</th>\n      <th>reply_64</th>\n      <th>reply_65</th>\n      <th>reply_66</th>\n      <th>reply_67</th>\n      <th>reply_68</th>\n      <th>reply_69</th>\n      <th>reply_70</th>\n    </tr>\n  </thead>\n  <tbody>\n    <tr>\n      <th>0</th>\n      <td>There are no verses in the Quran about Me want...</td>\n      <td>4533.0</td>\n      <td>4465.0</td>\n      <td>@withnodriver no shit sherlock. are you for re...</td>\n      <td>@withnodriver @basznocz Religion doesnt have t...</td>\n      <td>@fury_jen @TheTweetOfGod blasphemer.</td>\n      <td>@runitright1 @TheTweetOfGod Sometime also Thor..</td>\n      <td>@Usairam1 mohamed liked to fuck little aisha. ...</td>\n      <td>@RStarovich @TheTweetOfGod Hahahha...you're ri...</td>\n      <td>@Usairam1 @basznocz you're kidding they're mak...</td>\n      <td>...</td>\n      <td>@nselby @TheTweetOfGod  no one has guns? It sa...</td>\n      <td>@basznocz islam is a lie, just a suppressive m...</td>\n      <td>@withnodriver @basznocz Haha. All the science ...</td>\n      <td>@cIeopatrio @TheTweetOfGod you know it was a j...</td>\n      <td>@timpoliti @runitright1 @TheTweetOfGod Allah t...</td>\n      <td>@fury_jen @TheTweetOfGod his voicemail is  ful...</td>\n      <td>@withnodriver @basznocz Were WW1 WW2 and many ...</td>\n      <td>@basznocz @TheTweetOfGod religion is a complet...</td>\n      <td>@weisblumen @IncredulousMark @withnodriver @ba...</td>\n      <td>@TheTweetOfGod sorry god but you're wrong. hav...</td>\n    </tr>\n    <tr>\n      <th>1</th>\n      <td>Mosques, synagogues and churches are inviting ...</td>\n      <td>116.0</td>\n      <td>157.0</td>\n      <td>@elronxenu I'm surprised he hasn't been taken ...</td>\n      <td>@TeamOyeniyi Specifically: guy was on his way ...</td>\n      <td>@TeamOyeniyi So long as he doesn't kill any ho...</td>\n      <td>@elronxenu So is he just holed up until the bi...</td>\n      <td>@abcnewsSydney #sydneysiege Very disturbing ne...</td>\n      <td>@abcnewsSydney @jarrodmckenna Amen.</td>\n      <td>@elronxenu I'm inclined to think outside the s...</td>\n      <td>...</td>\n      <td>NaN</td>\n      <td>NaN</td>\n      <td>NaN</td>\n      <td>NaN</td>\n      <td>NaN</td>\n      <td>NaN</td>\n      <td>NaN</td>\n      <td>NaN</td>\n      <td>NaN</td>\n      <td>NaN</td>\n    </tr>\n  </tbody>\n</table>\n<p>2 rows × 73 columns</p>\n</div>"
     },
     "execution_count": 110,
     "metadata": {},
     "output_type": "execute_result"
    }
   ],
   "source": [
    "df_true.head()"
   ],
   "metadata": {
    "collapsed": false,
    "pycharm": {
     "name": "#%%\n"
    }
   }
  },
  {
   "cell_type": "markdown",
   "source": [
    "Data cleaning"
   ],
   "metadata": {
    "collapsed": false,
    "pycharm": {
     "name": "#%% md\n"
    }
   }
  },
  {
   "cell_type": "code",
   "execution_count": 101,
   "outputs": [
    {
     "name": "stderr",
     "output_type": "stream",
     "text": [
      "[nltk_data] Error loading stopwords: <urlopen error [SSL:\n",
      "[nltk_data]     CERTIFICATE_VERIFY_FAILED] certificate verify failed:\n",
      "[nltk_data]     unable to get local issuer certificate (_ssl.c:1124)>\n"
     ]
    }
   ],
   "source": [
    "# remove hashtags and mentions of other users, lowercase everything, remove punctuation and stopwords\n",
    "\n",
    "import re\n",
    "import string\n",
    "from nltk.corpus import stopwords\n"
   ],
   "metadata": {
    "collapsed": false,
    "pycharm": {
     "name": "#%%\n"
    }
   }
  },
  {
   "cell_type": "code",
   "execution_count": 114,
   "outputs": [
    {
     "name": "stdout",
     "output_type": "stream",
     "text": [
      "showing info https://raw.githubusercontent.com/nltk/nltk_data/gh-pages/index.xml\n"
     ]
    },
    {
     "name": "stderr",
     "output_type": "stream",
     "text": [
      "invalid command name \"exit\"\n",
      "    while executing\n",
      "\"exit\"\n"
     ]
    },
    {
     "data": {
      "text/plain": "True"
     },
     "execution_count": 114,
     "metadata": {},
     "output_type": "execute_result"
    }
   ],
   "source": [
    "import nltk\n",
    "import ssl\n",
    "\n",
    "try:\n",
    "    _create_unverified_https_context = ssl._create_unverified_context\n",
    "except AttributeError:\n",
    "    pass\n",
    "else:\n",
    "    ssl._create_default_https_context = _create_unverified_https_context\n",
    "\n",
    "nltk.download()"
   ],
   "metadata": {
    "collapsed": false,
    "pycharm": {
     "name": "#%%\n"
    }
   }
  },
  {
   "cell_type": "code",
   "execution_count": 111,
   "outputs": [],
   "source": [
    "stop = stopwords.words('english')\n",
    "\n",
    "def data_cleaning(x):\n",
    "    exclusion_list = ['#', '@']\n",
    "    x = str(x).lower()\n",
    "    for char in string.punctuation:\n",
    "        x = x.replace(char, '')\n",
    "    x = x.replace(\"\\n\", \" \")\n",
    "    words = str(x).split()\n",
    "    cleaned = [word for word in words if all(ch not in word for ch in exclusion_list)]\n",
    "    cleaned_stopwords = [word for word in cleaned if word not in stop]\n",
    "    return ' '.join(cleaned_stopwords)\n"
   ],
   "metadata": {
    "collapsed": false,
    "pycharm": {
     "name": "#%%\n"
    }
   }
  },
  {
   "cell_type": "code",
   "execution_count": 112,
   "outputs": [],
   "source": [
    "df_true = df_true.applymap(data_cleaning)"
   ],
   "metadata": {
    "collapsed": false,
    "pycharm": {
     "name": "#%%\n"
    }
   }
  },
  {
   "cell_type": "code",
   "execution_count": 113,
   "outputs": [
    {
     "data": {
      "text/plain": "                                        source_tweet favorite_count  \\\n0  verses quran wanting anyone hold hostages choc...          45330   \n1  mosques synagogues churches inviting public pr...           1160   \n\n  retweet_count                                            reply_1  \\\n0         44650  withnodriver shit sherlock real said decades t...   \n1          1570  elronxenu im surprised hasnt taken hostages ou...   \n\n                                             reply_2  \\\n0  withnodriver basznocz religion doesnt anything...   \n1  teamoyeniyi specifically guy way bigger event ...   \n\n                                             reply_3  \\\n0                   furyjen thetweetofgod blasphemer   \n1  teamoyeniyi long doesnt kill hostages excellen...   \n\n                                        reply_4  \\\n0  runitright1 thetweetofgod sometime also thor   \n1          elronxenu holed bigger event happens   \n\n                                             reply_5  \\\n0  usairam1 mohamed liked fuck little aisha liked...   \n1  abcnewssydney sydneysiege disturbing news deep...   \n\n                                             reply_6  \\\n0  rstarovich thetweetofgod hahahhayoure right pl...   \n1                   abcnewssydney jarrodmckenna amen   \n\n                                             reply_7  ...  \\\n0  usairam1 basznocz youre kidding theyre making ...  ...   \n1  elronxenu im inclined think outside square one...  ...   \n\n                                       reply_61  \\\n0  nselby thetweetofgod one guns says hes armed   \n1                                           nan   \n\n                                            reply_62  \\\n0  basznocz islam lie suppressive measure populat...   \n1                                                nan   \n\n                                            reply_63  \\\n0  withnodriver basznocz haha science rn due sinc...   \n1                                                nan   \n\n                                   reply_64  \\\n0  cieopatrio thetweetofgod know joke right   \n1                                       nan   \n\n                                            reply_65  \\\n0  timpoliti runitright1 thetweetofgod allah tras...   \n1                                                nan   \n\n                                            reply_66  \\\n0  furyjen thetweetofgod voicemail full please tr...   \n1                                                nan   \n\n                                            reply_67  \\\n0  withnodriver basznocz ww1 ww2 many wars killed...   \n1                                                nan   \n\n                                           reply_68  \\\n0  basznocz thetweetofgod religion complete fallacy   \n1                                               nan   \n\n                                            reply_69  \\\n0  weisblumen incredulousmark withnodriver baszno...   \n1                                                nan   \n\n                                            reply_70  \n0  thetweetofgod sorry god youre wrong havent rea...  \n1                                                nan  \n\n[2 rows x 73 columns]",
      "text/html": "<div>\n<style scoped>\n    .dataframe tbody tr th:only-of-type {\n        vertical-align: middle;\n    }\n\n    .dataframe tbody tr th {\n        vertical-align: top;\n    }\n\n    .dataframe thead th {\n        text-align: right;\n    }\n</style>\n<table border=\"1\" class=\"dataframe\">\n  <thead>\n    <tr style=\"text-align: right;\">\n      <th></th>\n      <th>source_tweet</th>\n      <th>favorite_count</th>\n      <th>retweet_count</th>\n      <th>reply_1</th>\n      <th>reply_2</th>\n      <th>reply_3</th>\n      <th>reply_4</th>\n      <th>reply_5</th>\n      <th>reply_6</th>\n      <th>reply_7</th>\n      <th>...</th>\n      <th>reply_61</th>\n      <th>reply_62</th>\n      <th>reply_63</th>\n      <th>reply_64</th>\n      <th>reply_65</th>\n      <th>reply_66</th>\n      <th>reply_67</th>\n      <th>reply_68</th>\n      <th>reply_69</th>\n      <th>reply_70</th>\n    </tr>\n  </thead>\n  <tbody>\n    <tr>\n      <th>0</th>\n      <td>verses quran wanting anyone hold hostages choc...</td>\n      <td>45330</td>\n      <td>44650</td>\n      <td>withnodriver shit sherlock real said decades t...</td>\n      <td>withnodriver basznocz religion doesnt anything...</td>\n      <td>furyjen thetweetofgod blasphemer</td>\n      <td>runitright1 thetweetofgod sometime also thor</td>\n      <td>usairam1 mohamed liked fuck little aisha liked...</td>\n      <td>rstarovich thetweetofgod hahahhayoure right pl...</td>\n      <td>usairam1 basznocz youre kidding theyre making ...</td>\n      <td>...</td>\n      <td>nselby thetweetofgod one guns says hes armed</td>\n      <td>basznocz islam lie suppressive measure populat...</td>\n      <td>withnodriver basznocz haha science rn due sinc...</td>\n      <td>cieopatrio thetweetofgod know joke right</td>\n      <td>timpoliti runitright1 thetweetofgod allah tras...</td>\n      <td>furyjen thetweetofgod voicemail full please tr...</td>\n      <td>withnodriver basznocz ww1 ww2 many wars killed...</td>\n      <td>basznocz thetweetofgod religion complete fallacy</td>\n      <td>weisblumen incredulousmark withnodriver baszno...</td>\n      <td>thetweetofgod sorry god youre wrong havent rea...</td>\n    </tr>\n    <tr>\n      <th>1</th>\n      <td>mosques synagogues churches inviting public pr...</td>\n      <td>1160</td>\n      <td>1570</td>\n      <td>elronxenu im surprised hasnt taken hostages ou...</td>\n      <td>teamoyeniyi specifically guy way bigger event ...</td>\n      <td>teamoyeniyi long doesnt kill hostages excellen...</td>\n      <td>elronxenu holed bigger event happens</td>\n      <td>abcnewssydney sydneysiege disturbing news deep...</td>\n      <td>abcnewssydney jarrodmckenna amen</td>\n      <td>elronxenu im inclined think outside square one...</td>\n      <td>...</td>\n      <td>nan</td>\n      <td>nan</td>\n      <td>nan</td>\n      <td>nan</td>\n      <td>nan</td>\n      <td>nan</td>\n      <td>nan</td>\n      <td>nan</td>\n      <td>nan</td>\n      <td>nan</td>\n    </tr>\n  </tbody>\n</table>\n<p>2 rows × 73 columns</p>\n</div>"
     },
     "execution_count": 113,
     "metadata": {},
     "output_type": "execute_result"
    }
   ],
   "source": [
    "df_true"
   ],
   "metadata": {
    "collapsed": false,
    "pycharm": {
     "name": "#%%\n"
    }
   }
  },
  {
   "cell_type": "code",
   "execution_count": 115,
   "outputs": [],
   "source": [
    "# Cleaning with spaCy\n",
    "import spacy"
   ],
   "metadata": {
    "collapsed": false,
    "pycharm": {
     "name": "#%%\n"
    }
   }
  },
  {
   "cell_type": "code",
   "execution_count": 117,
   "outputs": [
    {
     "data": {
      "text/plain": "<generator object <genexpr> at 0x7fcf9a3096d0>"
     },
     "execution_count": 117,
     "metadata": {},
     "output_type": "execute_result"
    }
   ],
   "source": [
    "nlp = spacy.load('en_core_web_sm', disable=['ner', 'parser'])\n",
    "\n",
    "def cleaning (entry):\n",
    "    txt = [token.lemma_ for token in doc if not token.is_stop]\n",
    "    if len(txt) > 2:\n",
    "        return ' '.join(txt)\n",
    "\n",
    "brief_cleaning = (re.sub(\"[^A-Za-z']+\", ' ', str(row)).lower() for row in df_true['source_tweet'])"
   ],
   "metadata": {
    "collapsed": false,
    "pycharm": {
     "name": "#%%\n"
    }
   }
  },
  {
   "cell_type": "code",
   "execution_count": 118,
   "outputs": [
    {
     "ename": "NameError",
     "evalue": "name 'doc' is not defined",
     "output_type": "error",
     "traceback": [
      "\u001B[0;31m---------------------------------------------------------------------------\u001B[0m",
      "\u001B[0;31mNameError\u001B[0m                                 Traceback (most recent call last)",
      "\u001B[0;32m/var/folders/8y/yq5dpggj5gq0006wv9sxbx1h0000gn/T/ipykernel_5976/2132066040.py\u001B[0m in \u001B[0;36m<module>\u001B[0;34m\u001B[0m\n\u001B[0;32m----> 1\u001B[0;31m \u001B[0mtxt\u001B[0m \u001B[0;34m=\u001B[0m \u001B[0;34m[\u001B[0m\u001B[0mcleaning\u001B[0m\u001B[0;34m(\u001B[0m\u001B[0mdoc\u001B[0m\u001B[0;34m)\u001B[0m \u001B[0;32mfor\u001B[0m \u001B[0mdoc\u001B[0m \u001B[0;32min\u001B[0m \u001B[0mnlp\u001B[0m\u001B[0;34m.\u001B[0m\u001B[0mpipe\u001B[0m\u001B[0;34m(\u001B[0m\u001B[0mbrief_cleaning\u001B[0m\u001B[0;34m,\u001B[0m \u001B[0mbatch_size\u001B[0m\u001B[0;34m=\u001B[0m\u001B[0;36m5000\u001B[0m\u001B[0;34m,\u001B[0m \u001B[0mn_process\u001B[0m\u001B[0;34m=\u001B[0m\u001B[0;34m-\u001B[0m\u001B[0;36m1\u001B[0m\u001B[0;34m)\u001B[0m\u001B[0;34m]\u001B[0m\u001B[0;34m\u001B[0m\u001B[0;34m\u001B[0m\u001B[0m\n\u001B[0m\u001B[1;32m      2\u001B[0m \u001B[0;34m\u001B[0m\u001B[0m\n\u001B[1;32m      3\u001B[0m \u001B[0;34m\u001B[0m\u001B[0m\n",
      "\u001B[0;32m/var/folders/8y/yq5dpggj5gq0006wv9sxbx1h0000gn/T/ipykernel_5976/2132066040.py\u001B[0m in \u001B[0;36m<listcomp>\u001B[0;34m(.0)\u001B[0m\n\u001B[0;32m----> 1\u001B[0;31m \u001B[0mtxt\u001B[0m \u001B[0;34m=\u001B[0m \u001B[0;34m[\u001B[0m\u001B[0mcleaning\u001B[0m\u001B[0;34m(\u001B[0m\u001B[0mdoc\u001B[0m\u001B[0;34m)\u001B[0m \u001B[0;32mfor\u001B[0m \u001B[0mdoc\u001B[0m \u001B[0;32min\u001B[0m \u001B[0mnlp\u001B[0m\u001B[0;34m.\u001B[0m\u001B[0mpipe\u001B[0m\u001B[0;34m(\u001B[0m\u001B[0mbrief_cleaning\u001B[0m\u001B[0;34m,\u001B[0m \u001B[0mbatch_size\u001B[0m\u001B[0;34m=\u001B[0m\u001B[0;36m5000\u001B[0m\u001B[0;34m,\u001B[0m \u001B[0mn_process\u001B[0m\u001B[0;34m=\u001B[0m\u001B[0;34m-\u001B[0m\u001B[0;36m1\u001B[0m\u001B[0;34m)\u001B[0m\u001B[0;34m]\u001B[0m\u001B[0;34m\u001B[0m\u001B[0;34m\u001B[0m\u001B[0m\n\u001B[0m\u001B[1;32m      2\u001B[0m \u001B[0;34m\u001B[0m\u001B[0m\n\u001B[1;32m      3\u001B[0m \u001B[0;34m\u001B[0m\u001B[0m\n",
      "\u001B[0;32m/var/folders/8y/yq5dpggj5gq0006wv9sxbx1h0000gn/T/ipykernel_5976/1736416592.py\u001B[0m in \u001B[0;36mcleaning\u001B[0;34m(entry)\u001B[0m\n\u001B[1;32m      2\u001B[0m \u001B[0;34m\u001B[0m\u001B[0m\n\u001B[1;32m      3\u001B[0m \u001B[0;32mdef\u001B[0m \u001B[0mcleaning\u001B[0m \u001B[0;34m(\u001B[0m\u001B[0mentry\u001B[0m\u001B[0;34m)\u001B[0m\u001B[0;34m:\u001B[0m\u001B[0;34m\u001B[0m\u001B[0;34m\u001B[0m\u001B[0m\n\u001B[0;32m----> 4\u001B[0;31m     \u001B[0mtxt\u001B[0m \u001B[0;34m=\u001B[0m \u001B[0;34m[\u001B[0m\u001B[0mtoken\u001B[0m\u001B[0;34m.\u001B[0m\u001B[0mlemma_\u001B[0m \u001B[0;32mfor\u001B[0m \u001B[0mtoken\u001B[0m \u001B[0;32min\u001B[0m \u001B[0mdoc\u001B[0m \u001B[0;32mif\u001B[0m \u001B[0;32mnot\u001B[0m \u001B[0mtoken\u001B[0m\u001B[0;34m.\u001B[0m\u001B[0mis_stop\u001B[0m\u001B[0;34m]\u001B[0m\u001B[0;34m\u001B[0m\u001B[0;34m\u001B[0m\u001B[0m\n\u001B[0m\u001B[1;32m      5\u001B[0m     \u001B[0;32mif\u001B[0m \u001B[0mlen\u001B[0m\u001B[0;34m(\u001B[0m\u001B[0mtxt\u001B[0m\u001B[0;34m)\u001B[0m \u001B[0;34m>\u001B[0m \u001B[0;36m2\u001B[0m\u001B[0;34m:\u001B[0m\u001B[0;34m\u001B[0m\u001B[0;34m\u001B[0m\u001B[0m\n\u001B[1;32m      6\u001B[0m         \u001B[0;32mreturn\u001B[0m \u001B[0;34m' '\u001B[0m\u001B[0;34m.\u001B[0m\u001B[0mjoin\u001B[0m\u001B[0;34m(\u001B[0m\u001B[0mtxt\u001B[0m\u001B[0;34m)\u001B[0m\u001B[0;34m\u001B[0m\u001B[0;34m\u001B[0m\u001B[0m\n",
      "\u001B[0;31mNameError\u001B[0m: name 'doc' is not defined"
     ]
    }
   ],
   "source": [
    "txt = [cleaning(doc) for doc in nlp.pipe(brief_cleaning, batch_size=5000, n_process=-1)]\n"
   ],
   "metadata": {
    "collapsed": false,
    "pycharm": {
     "name": "#%%\n"
    }
   }
  },
  {
   "cell_type": "code",
   "execution_count": null,
   "outputs": [],
   "source": [
    "# Tokenize everything\n",
    "\n",
    "from nltk.tokenize import sent_tokenize, word_tokenize\n",
    "\n",
    "import warnings\n",
    "warnings.filterwarnings(action = 'ignore')\n",
    "import gensim\n",
    "from gensim.models import Word2Vec"
   ],
   "metadata": {
    "collapsed": false,
    "pycharm": {
     "name": "#%%\n"
    }
   }
  },
  {
   "cell_type": "code",
   "execution_count": 96,
   "outputs": [
    {
     "name": "stdout",
     "output_type": "stream",
     "text": [
      "mosques synagogues and churches are inviting the public to pray for sydney hostages tonightsydneysiege\n"
     ]
    },
    {
     "ename": "TypeError",
     "evalue": "'Series' object is not callable",
     "output_type": "error",
     "traceback": [
      "\u001B[0;31m---------------------------------------------------------------------------\u001B[0m",
      "\u001B[0;31mTypeError\u001B[0m                                 Traceback (most recent call last)",
      "\u001B[0;32m/var/folders/8y/yq5dpggj5gq0006wv9sxbx1h0000gn/T/ipykernel_5976/2615292020.py\u001B[0m in \u001B[0;36m<module>\u001B[0;34m\u001B[0m\n\u001B[1;32m      8\u001B[0m     \u001B[0;31m#data = np.array(data)\u001B[0m\u001B[0;34m\u001B[0m\u001B[0;34m\u001B[0m\u001B[0;34m\u001B[0m\u001B[0m\n\u001B[1;32m      9\u001B[0m     \u001B[0;32mfor\u001B[0m \u001B[0mj\u001B[0m \u001B[0;32min\u001B[0m \u001B[0mdata\u001B[0m\u001B[0;34m:\u001B[0m\u001B[0;34m\u001B[0m\u001B[0;34m\u001B[0m\u001B[0m\n\u001B[0;32m---> 10\u001B[0;31m         \u001B[0mprint\u001B[0m\u001B[0;34m(\u001B[0m\u001B[0mdata\u001B[0m\u001B[0;34m(\u001B[0m\u001B[0mj\u001B[0m\u001B[0;34m)\u001B[0m\u001B[0;34m)\u001B[0m\u001B[0;34m\u001B[0m\u001B[0;34m\u001B[0m\u001B[0m\n\u001B[0m",
      "\u001B[0;31mTypeError\u001B[0m: 'Series' object is not callable"
     ]
    }
   ],
   "source": [
    "# Creating database of main posts and comments (all text)\n",
    "output = ''\n",
    "\n",
    "i = 1\n",
    "for i in df_true:\n",
    "    data = df_true[i]\n",
    "    #print(data[1])\n",
    "    #data = np.array(data)\n",
    "    for j in data:\n",
    "        print(data(j))"
   ],
   "metadata": {
    "collapsed": false,
    "pycharm": {
     "name": "#%%\n"
    }
   }
  },
  {
   "cell_type": "code",
   "execution_count": 97,
   "outputs": [
    {
     "data": {
      "text/plain": "''"
     },
     "execution_count": 97,
     "metadata": {},
     "output_type": "execute_result"
    }
   ],
   "source": [
    "output"
   ],
   "metadata": {
    "collapsed": false,
    "pycharm": {
     "name": "#%%\n"
    }
   }
  },
  {
   "cell_type": "code",
   "execution_count": 85,
   "outputs": [],
   "source": [
    "sent = [row for row in df_true['source_tweet']]"
   ],
   "metadata": {
    "collapsed": false,
    "pycharm": {
     "name": "#%%\n"
    }
   }
  },
  {
   "cell_type": "code",
   "execution_count": 86,
   "outputs": [
    {
     "data": {
      "text/plain": "['there are no verses in the quran about me wanting anyone to hold hostages in a chocolate shop in sydney you terrorist fucks',\n 'mosques synagogues and churches are inviting the public to pray for sydney hostages tonightsydneysiege']"
     },
     "execution_count": 86,
     "metadata": {},
     "output_type": "execute_result"
    }
   ],
   "source": [
    "sent"
   ],
   "metadata": {
    "collapsed": false,
    "pycharm": {
     "name": "#%%\n"
    }
   }
  },
  {
   "cell_type": "code",
   "execution_count": null,
   "outputs": [],
   "source": [
    "def tokenise(x):\n",
    "    data = []\n",
    "    for i in sent_tokenize(x):\n",
    "        temp =  []\n",
    "        for j in word_tokenize(i):\n",
    "            temp.append(j)\n",
    "        data.append(temp)\n",
    "    return data"
   ],
   "metadata": {
    "collapsed": false,
    "pycharm": {
     "name": "#%%\n"
    }
   }
  },
  {
   "cell_type": "code",
   "execution_count": 84,
   "outputs": [
    {
     "ename": "LookupError",
     "evalue": "\n**********************************************************************\n  Resource \u001B[93mpunkt\u001B[0m not found.\n  Please use the NLTK Downloader to obtain the resource:\n\n  \u001B[31m>>> import nltk\n  >>> nltk.download('punkt')\n  \u001B[0m\n  For more information see: https://www.nltk.org/data.html\n\n  Attempted to load \u001B[93mtokenizers/punkt/PY3/english.pickle\u001B[0m\n\n  Searched in:\n    - '/Users/peeter/nltk_data'\n    - '/Library/Frameworks/Python.framework/Versions/3.8/nltk_data'\n    - '/Library/Frameworks/Python.framework/Versions/3.8/share/nltk_data'\n    - '/Library/Frameworks/Python.framework/Versions/3.8/lib/nltk_data'\n    - '/usr/share/nltk_data'\n    - '/usr/local/share/nltk_data'\n    - '/usr/lib/nltk_data'\n    - '/usr/local/lib/nltk_data'\n    - ''\n**********************************************************************\n",
     "output_type": "error",
     "traceback": [
      "\u001B[0;31m---------------------------------------------------------------------------\u001B[0m",
      "\u001B[0;31mLookupError\u001B[0m                               Traceback (most recent call last)",
      "\u001B[0;32m/var/folders/8y/yq5dpggj5gq0006wv9sxbx1h0000gn/T/ipykernel_5976/1820193189.py\u001B[0m in \u001B[0;36m<module>\u001B[0;34m\u001B[0m\n\u001B[0;32m----> 1\u001B[0;31m \u001B[0mdf_true\u001B[0m\u001B[0;34m.\u001B[0m\u001B[0mapplymap\u001B[0m\u001B[0;34m(\u001B[0m\u001B[0mtokenise\u001B[0m\u001B[0;34m)\u001B[0m\u001B[0;34m\u001B[0m\u001B[0;34m\u001B[0m\u001B[0m\n\u001B[0m",
      "\u001B[0;32m/Library/Frameworks/Python.framework/Versions/3.8/lib/python3.8/site-packages/pandas/core/frame.py\u001B[0m in \u001B[0;36mapplymap\u001B[0;34m(self, func, na_action, **kwargs)\u001B[0m\n\u001B[1;32m   8819\u001B[0m             \u001B[0;32mreturn\u001B[0m \u001B[0mlib\u001B[0m\u001B[0;34m.\u001B[0m\u001B[0mmap_infer\u001B[0m\u001B[0;34m(\u001B[0m\u001B[0mx\u001B[0m\u001B[0;34m.\u001B[0m\u001B[0mastype\u001B[0m\u001B[0;34m(\u001B[0m\u001B[0mobject\u001B[0m\u001B[0;34m)\u001B[0m\u001B[0;34m.\u001B[0m\u001B[0m_values\u001B[0m\u001B[0;34m,\u001B[0m \u001B[0mfunc\u001B[0m\u001B[0;34m,\u001B[0m \u001B[0mignore_na\u001B[0m\u001B[0;34m=\u001B[0m\u001B[0mignore_na\u001B[0m\u001B[0;34m)\u001B[0m\u001B[0;34m\u001B[0m\u001B[0;34m\u001B[0m\u001B[0m\n\u001B[1;32m   8820\u001B[0m \u001B[0;34m\u001B[0m\u001B[0m\n\u001B[0;32m-> 8821\u001B[0;31m         \u001B[0;32mreturn\u001B[0m \u001B[0mself\u001B[0m\u001B[0;34m.\u001B[0m\u001B[0mapply\u001B[0m\u001B[0;34m(\u001B[0m\u001B[0minfer\u001B[0m\u001B[0;34m)\u001B[0m\u001B[0;34m.\u001B[0m\u001B[0m__finalize__\u001B[0m\u001B[0;34m(\u001B[0m\u001B[0mself\u001B[0m\u001B[0;34m,\u001B[0m \u001B[0;34m\"applymap\"\u001B[0m\u001B[0;34m)\u001B[0m\u001B[0;34m\u001B[0m\u001B[0;34m\u001B[0m\u001B[0m\n\u001B[0m\u001B[1;32m   8822\u001B[0m \u001B[0;34m\u001B[0m\u001B[0m\n\u001B[1;32m   8823\u001B[0m     \u001B[0;31m# ----------------------------------------------------------------------\u001B[0m\u001B[0;34m\u001B[0m\u001B[0;34m\u001B[0m\u001B[0;34m\u001B[0m\u001B[0m\n",
      "\u001B[0;32m/Library/Frameworks/Python.framework/Versions/3.8/lib/python3.8/site-packages/pandas/core/frame.py\u001B[0m in \u001B[0;36mapply\u001B[0;34m(self, func, axis, raw, result_type, args, **kwargs)\u001B[0m\n\u001B[1;32m   8734\u001B[0m             \u001B[0mkwargs\u001B[0m\u001B[0;34m=\u001B[0m\u001B[0mkwargs\u001B[0m\u001B[0;34m,\u001B[0m\u001B[0;34m\u001B[0m\u001B[0;34m\u001B[0m\u001B[0m\n\u001B[1;32m   8735\u001B[0m         )\n\u001B[0;32m-> 8736\u001B[0;31m         \u001B[0;32mreturn\u001B[0m \u001B[0mop\u001B[0m\u001B[0;34m.\u001B[0m\u001B[0mapply\u001B[0m\u001B[0;34m(\u001B[0m\u001B[0;34m)\u001B[0m\u001B[0;34m\u001B[0m\u001B[0;34m\u001B[0m\u001B[0m\n\u001B[0m\u001B[1;32m   8737\u001B[0m \u001B[0;34m\u001B[0m\u001B[0m\n\u001B[1;32m   8738\u001B[0m     def applymap(\n",
      "\u001B[0;32m/Library/Frameworks/Python.framework/Versions/3.8/lib/python3.8/site-packages/pandas/core/apply.py\u001B[0m in \u001B[0;36mapply\u001B[0;34m(self)\u001B[0m\n\u001B[1;32m    686\u001B[0m             \u001B[0;32mreturn\u001B[0m \u001B[0mself\u001B[0m\u001B[0;34m.\u001B[0m\u001B[0mapply_raw\u001B[0m\u001B[0;34m(\u001B[0m\u001B[0;34m)\u001B[0m\u001B[0;34m\u001B[0m\u001B[0;34m\u001B[0m\u001B[0m\n\u001B[1;32m    687\u001B[0m \u001B[0;34m\u001B[0m\u001B[0m\n\u001B[0;32m--> 688\u001B[0;31m         \u001B[0;32mreturn\u001B[0m \u001B[0mself\u001B[0m\u001B[0;34m.\u001B[0m\u001B[0mapply_standard\u001B[0m\u001B[0;34m(\u001B[0m\u001B[0;34m)\u001B[0m\u001B[0;34m\u001B[0m\u001B[0;34m\u001B[0m\u001B[0m\n\u001B[0m\u001B[1;32m    689\u001B[0m \u001B[0;34m\u001B[0m\u001B[0m\n\u001B[1;32m    690\u001B[0m     \u001B[0;32mdef\u001B[0m \u001B[0magg\u001B[0m\u001B[0;34m(\u001B[0m\u001B[0mself\u001B[0m\u001B[0;34m)\u001B[0m\u001B[0;34m:\u001B[0m\u001B[0;34m\u001B[0m\u001B[0;34m\u001B[0m\u001B[0m\n",
      "\u001B[0;32m/Library/Frameworks/Python.framework/Versions/3.8/lib/python3.8/site-packages/pandas/core/apply.py\u001B[0m in \u001B[0;36mapply_standard\u001B[0;34m(self)\u001B[0m\n\u001B[1;32m    810\u001B[0m \u001B[0;34m\u001B[0m\u001B[0m\n\u001B[1;32m    811\u001B[0m     \u001B[0;32mdef\u001B[0m \u001B[0mapply_standard\u001B[0m\u001B[0;34m(\u001B[0m\u001B[0mself\u001B[0m\u001B[0;34m)\u001B[0m\u001B[0;34m:\u001B[0m\u001B[0;34m\u001B[0m\u001B[0;34m\u001B[0m\u001B[0m\n\u001B[0;32m--> 812\u001B[0;31m         \u001B[0mresults\u001B[0m\u001B[0;34m,\u001B[0m \u001B[0mres_index\u001B[0m \u001B[0;34m=\u001B[0m \u001B[0mself\u001B[0m\u001B[0;34m.\u001B[0m\u001B[0mapply_series_generator\u001B[0m\u001B[0;34m(\u001B[0m\u001B[0;34m)\u001B[0m\u001B[0;34m\u001B[0m\u001B[0;34m\u001B[0m\u001B[0m\n\u001B[0m\u001B[1;32m    813\u001B[0m \u001B[0;34m\u001B[0m\u001B[0m\n\u001B[1;32m    814\u001B[0m         \u001B[0;31m# wrap results\u001B[0m\u001B[0;34m\u001B[0m\u001B[0;34m\u001B[0m\u001B[0;34m\u001B[0m\u001B[0m\n",
      "\u001B[0;32m/Library/Frameworks/Python.framework/Versions/3.8/lib/python3.8/site-packages/pandas/core/apply.py\u001B[0m in \u001B[0;36mapply_series_generator\u001B[0;34m(self)\u001B[0m\n\u001B[1;32m    826\u001B[0m             \u001B[0;32mfor\u001B[0m \u001B[0mi\u001B[0m\u001B[0;34m,\u001B[0m \u001B[0mv\u001B[0m \u001B[0;32min\u001B[0m \u001B[0menumerate\u001B[0m\u001B[0;34m(\u001B[0m\u001B[0mseries_gen\u001B[0m\u001B[0;34m)\u001B[0m\u001B[0;34m:\u001B[0m\u001B[0;34m\u001B[0m\u001B[0;34m\u001B[0m\u001B[0m\n\u001B[1;32m    827\u001B[0m                 \u001B[0;31m# ignore SettingWithCopy here in case the user mutates\u001B[0m\u001B[0;34m\u001B[0m\u001B[0;34m\u001B[0m\u001B[0;34m\u001B[0m\u001B[0m\n\u001B[0;32m--> 828\u001B[0;31m                 \u001B[0mresults\u001B[0m\u001B[0;34m[\u001B[0m\u001B[0mi\u001B[0m\u001B[0;34m]\u001B[0m \u001B[0;34m=\u001B[0m \u001B[0mself\u001B[0m\u001B[0;34m.\u001B[0m\u001B[0mf\u001B[0m\u001B[0;34m(\u001B[0m\u001B[0mv\u001B[0m\u001B[0;34m)\u001B[0m\u001B[0;34m\u001B[0m\u001B[0;34m\u001B[0m\u001B[0m\n\u001B[0m\u001B[1;32m    829\u001B[0m                 \u001B[0;32mif\u001B[0m \u001B[0misinstance\u001B[0m\u001B[0;34m(\u001B[0m\u001B[0mresults\u001B[0m\u001B[0;34m[\u001B[0m\u001B[0mi\u001B[0m\u001B[0;34m]\u001B[0m\u001B[0;34m,\u001B[0m \u001B[0mABCSeries\u001B[0m\u001B[0;34m)\u001B[0m\u001B[0;34m:\u001B[0m\u001B[0;34m\u001B[0m\u001B[0;34m\u001B[0m\u001B[0m\n\u001B[1;32m    830\u001B[0m                     \u001B[0;31m# If we have a view on v, we need to make a copy because\u001B[0m\u001B[0;34m\u001B[0m\u001B[0;34m\u001B[0m\u001B[0;34m\u001B[0m\u001B[0m\n",
      "\u001B[0;32m/Library/Frameworks/Python.framework/Versions/3.8/lib/python3.8/site-packages/pandas/core/frame.py\u001B[0m in \u001B[0;36minfer\u001B[0;34m(x)\u001B[0m\n\u001B[1;32m   8817\u001B[0m             \u001B[0;32mif\u001B[0m \u001B[0mx\u001B[0m\u001B[0;34m.\u001B[0m\u001B[0mempty\u001B[0m\u001B[0;34m:\u001B[0m\u001B[0;34m\u001B[0m\u001B[0;34m\u001B[0m\u001B[0m\n\u001B[1;32m   8818\u001B[0m                 \u001B[0;32mreturn\u001B[0m \u001B[0mlib\u001B[0m\u001B[0;34m.\u001B[0m\u001B[0mmap_infer\u001B[0m\u001B[0;34m(\u001B[0m\u001B[0mx\u001B[0m\u001B[0;34m,\u001B[0m \u001B[0mfunc\u001B[0m\u001B[0;34m,\u001B[0m \u001B[0mignore_na\u001B[0m\u001B[0;34m=\u001B[0m\u001B[0mignore_na\u001B[0m\u001B[0;34m)\u001B[0m\u001B[0;34m\u001B[0m\u001B[0;34m\u001B[0m\u001B[0m\n\u001B[0;32m-> 8819\u001B[0;31m             \u001B[0;32mreturn\u001B[0m \u001B[0mlib\u001B[0m\u001B[0;34m.\u001B[0m\u001B[0mmap_infer\u001B[0m\u001B[0;34m(\u001B[0m\u001B[0mx\u001B[0m\u001B[0;34m.\u001B[0m\u001B[0mastype\u001B[0m\u001B[0;34m(\u001B[0m\u001B[0mobject\u001B[0m\u001B[0;34m)\u001B[0m\u001B[0;34m.\u001B[0m\u001B[0m_values\u001B[0m\u001B[0;34m,\u001B[0m \u001B[0mfunc\u001B[0m\u001B[0;34m,\u001B[0m \u001B[0mignore_na\u001B[0m\u001B[0;34m=\u001B[0m\u001B[0mignore_na\u001B[0m\u001B[0;34m)\u001B[0m\u001B[0;34m\u001B[0m\u001B[0;34m\u001B[0m\u001B[0m\n\u001B[0m\u001B[1;32m   8820\u001B[0m \u001B[0;34m\u001B[0m\u001B[0m\n\u001B[1;32m   8821\u001B[0m         \u001B[0;32mreturn\u001B[0m \u001B[0mself\u001B[0m\u001B[0;34m.\u001B[0m\u001B[0mapply\u001B[0m\u001B[0;34m(\u001B[0m\u001B[0minfer\u001B[0m\u001B[0;34m)\u001B[0m\u001B[0;34m.\u001B[0m\u001B[0m__finalize__\u001B[0m\u001B[0;34m(\u001B[0m\u001B[0mself\u001B[0m\u001B[0;34m,\u001B[0m \u001B[0;34m\"applymap\"\u001B[0m\u001B[0;34m)\u001B[0m\u001B[0;34m\u001B[0m\u001B[0;34m\u001B[0m\u001B[0m\n",
      "\u001B[0;32m/Library/Frameworks/Python.framework/Versions/3.8/lib/python3.8/site-packages/pandas/_libs/lib.pyx\u001B[0m in \u001B[0;36mpandas._libs.lib.map_infer\u001B[0;34m()\u001B[0m\n",
      "\u001B[0;32m/var/folders/8y/yq5dpggj5gq0006wv9sxbx1h0000gn/T/ipykernel_5976/882220068.py\u001B[0m in \u001B[0;36mtokenise\u001B[0;34m(x)\u001B[0m\n\u001B[1;32m      1\u001B[0m \u001B[0;32mdef\u001B[0m \u001B[0mtokenise\u001B[0m\u001B[0;34m(\u001B[0m\u001B[0mx\u001B[0m\u001B[0;34m)\u001B[0m\u001B[0;34m:\u001B[0m\u001B[0;34m\u001B[0m\u001B[0;34m\u001B[0m\u001B[0m\n\u001B[1;32m      2\u001B[0m     \u001B[0mdata\u001B[0m \u001B[0;34m=\u001B[0m \u001B[0;34m[\u001B[0m\u001B[0;34m]\u001B[0m\u001B[0;34m\u001B[0m\u001B[0;34m\u001B[0m\u001B[0m\n\u001B[0;32m----> 3\u001B[0;31m     \u001B[0;32mfor\u001B[0m \u001B[0mi\u001B[0m \u001B[0;32min\u001B[0m \u001B[0msent_tokenize\u001B[0m\u001B[0;34m(\u001B[0m\u001B[0mx\u001B[0m\u001B[0;34m)\u001B[0m\u001B[0;34m:\u001B[0m\u001B[0;34m\u001B[0m\u001B[0;34m\u001B[0m\u001B[0m\n\u001B[0m\u001B[1;32m      4\u001B[0m         \u001B[0mtemp\u001B[0m \u001B[0;34m=\u001B[0m  \u001B[0;34m[\u001B[0m\u001B[0;34m]\u001B[0m\u001B[0;34m\u001B[0m\u001B[0;34m\u001B[0m\u001B[0m\n\u001B[1;32m      5\u001B[0m         \u001B[0;32mfor\u001B[0m \u001B[0mj\u001B[0m \u001B[0;32min\u001B[0m \u001B[0mword_tokenize\u001B[0m\u001B[0;34m(\u001B[0m\u001B[0mi\u001B[0m\u001B[0;34m)\u001B[0m\u001B[0;34m:\u001B[0m\u001B[0;34m\u001B[0m\u001B[0;34m\u001B[0m\u001B[0m\n",
      "\u001B[0;32m/Library/Frameworks/Python.framework/Versions/3.8/lib/python3.8/site-packages/nltk/tokenize/__init__.py\u001B[0m in \u001B[0;36msent_tokenize\u001B[0;34m(text, language)\u001B[0m\n\u001B[1;32m    104\u001B[0m     \u001B[0;34m:\u001B[0m\u001B[0mparam\u001B[0m \u001B[0mlanguage\u001B[0m\u001B[0;34m:\u001B[0m \u001B[0mthe\u001B[0m \u001B[0mmodel\u001B[0m \u001B[0mname\u001B[0m \u001B[0;32min\u001B[0m \u001B[0mthe\u001B[0m \u001B[0mPunkt\u001B[0m \u001B[0mcorpus\u001B[0m\u001B[0;34m\u001B[0m\u001B[0;34m\u001B[0m\u001B[0m\n\u001B[1;32m    105\u001B[0m     \"\"\"\n\u001B[0;32m--> 106\u001B[0;31m     \u001B[0mtokenizer\u001B[0m \u001B[0;34m=\u001B[0m \u001B[0mload\u001B[0m\u001B[0;34m(\u001B[0m\u001B[0;34mf\"tokenizers/punkt/{language}.pickle\"\u001B[0m\u001B[0;34m)\u001B[0m\u001B[0;34m\u001B[0m\u001B[0;34m\u001B[0m\u001B[0m\n\u001B[0m\u001B[1;32m    107\u001B[0m     \u001B[0;32mreturn\u001B[0m \u001B[0mtokenizer\u001B[0m\u001B[0;34m.\u001B[0m\u001B[0mtokenize\u001B[0m\u001B[0;34m(\u001B[0m\u001B[0mtext\u001B[0m\u001B[0;34m)\u001B[0m\u001B[0;34m\u001B[0m\u001B[0;34m\u001B[0m\u001B[0m\n\u001B[1;32m    108\u001B[0m \u001B[0;34m\u001B[0m\u001B[0m\n",
      "\u001B[0;32m/Library/Frameworks/Python.framework/Versions/3.8/lib/python3.8/site-packages/nltk/data.py\u001B[0m in \u001B[0;36mload\u001B[0;34m(resource_url, format, cache, verbose, logic_parser, fstruct_reader, encoding)\u001B[0m\n\u001B[1;32m    748\u001B[0m \u001B[0;34m\u001B[0m\u001B[0m\n\u001B[1;32m    749\u001B[0m     \u001B[0;31m# Load the resource.\u001B[0m\u001B[0;34m\u001B[0m\u001B[0;34m\u001B[0m\u001B[0;34m\u001B[0m\u001B[0m\n\u001B[0;32m--> 750\u001B[0;31m     \u001B[0mopened_resource\u001B[0m \u001B[0;34m=\u001B[0m \u001B[0m_open\u001B[0m\u001B[0;34m(\u001B[0m\u001B[0mresource_url\u001B[0m\u001B[0;34m)\u001B[0m\u001B[0;34m\u001B[0m\u001B[0;34m\u001B[0m\u001B[0m\n\u001B[0m\u001B[1;32m    751\u001B[0m \u001B[0;34m\u001B[0m\u001B[0m\n\u001B[1;32m    752\u001B[0m     \u001B[0;32mif\u001B[0m \u001B[0mformat\u001B[0m \u001B[0;34m==\u001B[0m \u001B[0;34m\"raw\"\u001B[0m\u001B[0;34m:\u001B[0m\u001B[0;34m\u001B[0m\u001B[0;34m\u001B[0m\u001B[0m\n",
      "\u001B[0;32m/Library/Frameworks/Python.framework/Versions/3.8/lib/python3.8/site-packages/nltk/data.py\u001B[0m in \u001B[0;36m_open\u001B[0;34m(resource_url)\u001B[0m\n\u001B[1;32m    874\u001B[0m \u001B[0;34m\u001B[0m\u001B[0m\n\u001B[1;32m    875\u001B[0m     \u001B[0;32mif\u001B[0m \u001B[0mprotocol\u001B[0m \u001B[0;32mis\u001B[0m \u001B[0;32mNone\u001B[0m \u001B[0;32mor\u001B[0m \u001B[0mprotocol\u001B[0m\u001B[0;34m.\u001B[0m\u001B[0mlower\u001B[0m\u001B[0;34m(\u001B[0m\u001B[0;34m)\u001B[0m \u001B[0;34m==\u001B[0m \u001B[0;34m\"nltk\"\u001B[0m\u001B[0;34m:\u001B[0m\u001B[0;34m\u001B[0m\u001B[0;34m\u001B[0m\u001B[0m\n\u001B[0;32m--> 876\u001B[0;31m         \u001B[0;32mreturn\u001B[0m \u001B[0mfind\u001B[0m\u001B[0;34m(\u001B[0m\u001B[0mpath_\u001B[0m\u001B[0;34m,\u001B[0m \u001B[0mpath\u001B[0m \u001B[0;34m+\u001B[0m \u001B[0;34m[\u001B[0m\u001B[0;34m\"\"\u001B[0m\u001B[0;34m]\u001B[0m\u001B[0;34m)\u001B[0m\u001B[0;34m.\u001B[0m\u001B[0mopen\u001B[0m\u001B[0;34m(\u001B[0m\u001B[0;34m)\u001B[0m\u001B[0;34m\u001B[0m\u001B[0;34m\u001B[0m\u001B[0m\n\u001B[0m\u001B[1;32m    877\u001B[0m     \u001B[0;32melif\u001B[0m \u001B[0mprotocol\u001B[0m\u001B[0;34m.\u001B[0m\u001B[0mlower\u001B[0m\u001B[0;34m(\u001B[0m\u001B[0;34m)\u001B[0m \u001B[0;34m==\u001B[0m \u001B[0;34m\"file\"\u001B[0m\u001B[0;34m:\u001B[0m\u001B[0;34m\u001B[0m\u001B[0;34m\u001B[0m\u001B[0m\n\u001B[1;32m    878\u001B[0m         \u001B[0;31m# urllib might not use mode='rb', so handle this one ourselves:\u001B[0m\u001B[0;34m\u001B[0m\u001B[0;34m\u001B[0m\u001B[0;34m\u001B[0m\u001B[0m\n",
      "\u001B[0;32m/Library/Frameworks/Python.framework/Versions/3.8/lib/python3.8/site-packages/nltk/data.py\u001B[0m in \u001B[0;36mfind\u001B[0;34m(resource_name, paths)\u001B[0m\n\u001B[1;32m    581\u001B[0m     \u001B[0msep\u001B[0m \u001B[0;34m=\u001B[0m \u001B[0;34m\"*\"\u001B[0m \u001B[0;34m*\u001B[0m \u001B[0;36m70\u001B[0m\u001B[0;34m\u001B[0m\u001B[0;34m\u001B[0m\u001B[0m\n\u001B[1;32m    582\u001B[0m     \u001B[0mresource_not_found\u001B[0m \u001B[0;34m=\u001B[0m \u001B[0;34mf\"\\n{sep}\\n{msg}\\n{sep}\\n\"\u001B[0m\u001B[0;34m\u001B[0m\u001B[0;34m\u001B[0m\u001B[0m\n\u001B[0;32m--> 583\u001B[0;31m     \u001B[0;32mraise\u001B[0m \u001B[0mLookupError\u001B[0m\u001B[0;34m(\u001B[0m\u001B[0mresource_not_found\u001B[0m\u001B[0;34m)\u001B[0m\u001B[0;34m\u001B[0m\u001B[0;34m\u001B[0m\u001B[0m\n\u001B[0m\u001B[1;32m    584\u001B[0m \u001B[0;34m\u001B[0m\u001B[0m\n\u001B[1;32m    585\u001B[0m \u001B[0;34m\u001B[0m\u001B[0m\n",
      "\u001B[0;31mLookupError\u001B[0m: \n**********************************************************************\n  Resource \u001B[93mpunkt\u001B[0m not found.\n  Please use the NLTK Downloader to obtain the resource:\n\n  \u001B[31m>>> import nltk\n  >>> nltk.download('punkt')\n  \u001B[0m\n  For more information see: https://www.nltk.org/data.html\n\n  Attempted to load \u001B[93mtokenizers/punkt/PY3/english.pickle\u001B[0m\n\n  Searched in:\n    - '/Users/peeter/nltk_data'\n    - '/Library/Frameworks/Python.framework/Versions/3.8/nltk_data'\n    - '/Library/Frameworks/Python.framework/Versions/3.8/share/nltk_data'\n    - '/Library/Frameworks/Python.framework/Versions/3.8/lib/nltk_data'\n    - '/usr/share/nltk_data'\n    - '/usr/local/share/nltk_data'\n    - '/usr/lib/nltk_data'\n    - '/usr/local/lib/nltk_data'\n    - ''\n**********************************************************************\n"
     ]
    }
   ],
   "source": [
    "df_true.applymap(tokenise)"
   ],
   "metadata": {
    "collapsed": false,
    "pycharm": {
     "name": "#%%\n"
    }
   }
  },
  {
   "cell_type": "code",
   "execution_count": null,
   "outputs": [],
   "source": [],
   "metadata": {
    "collapsed": false,
    "pycharm": {
     "name": "#%%\n"
    }
   }
  }
 ],
 "metadata": {
  "kernelspec": {
   "name": "pycharm-99298bfd",
   "language": "python",
   "display_name": "PyCharm (_project)"
  },
  "language_info": {
   "codemirror_mode": {
    "name": "ipython",
    "version": 2
   },
   "file_extension": ".py",
   "mimetype": "text/x-python",
   "name": "python",
   "nbconvert_exporter": "python",
   "pygments_lexer": "ipython2",
   "version": "2.7.6"
  }
 },
 "nbformat": 4,
 "nbformat_minor": 0
}