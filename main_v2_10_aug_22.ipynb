{
 "cells": [
  {
   "cell_type": "markdown",
   "source": [
    "# Answers to coding questions in deep learning\n",
    "Peeter Niidas"
   ],
   "metadata": {
    "collapsed": false
   }
  },
  {
   "cell_type": "code",
   "execution_count": 1,
   "outputs": [],
   "source": [
    "# Make some preparations\n",
    "\n",
    "import glob\n",
    "import json\n",
    "import pandas as pd\n",
    "import numpy as np\n",
    "import re\n",
    "import spacy\n",
    "from gensim.models import Word2Vec\n",
    "import os\n",
    "import sys\n",
    "from time import time\n",
    "\n",
    "import matplotlib.pyplot as plt\n",
    "#%tensorflow_version 1.x\n",
    "\n",
    "import tensorflow as tf\n",
    "tf.compat.v1.logging.set_verbosity(tf.compat.v1.logging.ERROR)"
   ],
   "metadata": {
    "collapsed": false,
    "pycharm": {
     "name": "#%%\n"
    }
   }
  },
  {
   "cell_type": "markdown",
   "source": [
    "1. Download either the PHEME5 or PHEME9 dataset.\n",
    "2. Choose any one event from the dataset and load its first 100 JSON files into\n",
    "python memory.\n",
    "3. Extract and load attributes such as source tweets, reply tweets, and favorites\n",
    "count, labels of the source tweets."
   ],
   "metadata": {
    "collapsed": false
   }
  },
  {
   "cell_type": "code",
   "execution_count": 2,
   "outputs": [],
   "source": [
    "# Get filenames and load data\n",
    "\n",
    "def read_rename_data (dirr, length):\n",
    "    path = dirr\n",
    "    df = pd.DataFrame()\n",
    "    for filename in glob.iglob(path + '**/*.json', recursive=True):\n",
    "        if 'source-tweet' in filename:\n",
    "            i = 1\n",
    "            f = open(filename)\n",
    "            data = json.load(f)\n",
    "            new_row = {'source_tweet': data['text'], 'favorite_count': data['favorite_count'], 'retweet_count':data['retweet_count']}\n",
    "            df = df.append(new_row, ignore_index=True)\n",
    "            f.close()\n",
    "        elif 'reactions' in filename:\n",
    "            f = open(filename)\n",
    "            data = json.load(f)\n",
    "            new_name = 'reply_' + str(i)\n",
    "            df.loc[df.index[-1], new_name] = data['text']\n",
    "            i += 1\n",
    "        if df.shape[0] == length:\n",
    "            return df\n",
    "    return df"
   ],
   "metadata": {
    "collapsed": false,
    "pycharm": {
     "name": "#%%\n"
    }
   }
  },
  {
   "cell_type": "code",
   "execution_count": 3,
   "outputs": [
    {
     "name": "stderr",
     "output_type": "stream",
     "text": [
      "/Library/Frameworks/Python.framework/Versions/3.8/lib/python3.8/site-packages/pandas/core/indexing.py:1684: PerformanceWarning: DataFrame is highly fragmented.  This is usually the result of calling `frame.insert` many times, which has poor performance.  Consider joining all columns at once using pd.concat(axis=1) instead.  To get a de-fragmented frame, use `newframe = frame.copy()`\n",
      "  self.obj[key] = infer_fill_value(value)\n"
     ]
    },
    {
     "data": {
      "text/plain": "(100, 344)"
     },
     "execution_count": 3,
     "metadata": {},
     "output_type": "execute_result"
    }
   ],
   "source": [
    "df_true = read_rename_data('./data/pheme-rnr-dataset/sydneysiege/non-rumours/', 100)\n",
    "df_true.shape"
   ],
   "metadata": {
    "collapsed": false,
    "pycharm": {
     "name": "#%%\n"
    }
   }
  },
  {
   "cell_type": "code",
   "execution_count": 4,
   "outputs": [
    {
     "data": {
      "text/plain": "(100, 94)"
     },
     "execution_count": 4,
     "metadata": {},
     "output_type": "execute_result"
    }
   ],
   "source": [
    "df_rumors = read_rename_data('./data/pheme-rnr-dataset/sydneysiege/rumours/', 100)\n",
    "df_rumors.shape"
   ],
   "metadata": {
    "collapsed": false,
    "pycharm": {
     "name": "#%%\n"
    }
   }
  },
  {
   "cell_type": "code",
   "execution_count": 5,
   "outputs": [
    {
     "data": {
      "text/plain": "                                        source_tweet  favorite_count  \\\n0  There are no verses in the Quran about Me want...          4533.0   \n1  Mosques, synagogues and churches are inviting ...           116.0   \n2  #illridewithyou: Viral Aussie solidarity amid ...            85.0   \n3  We continue to monitor the situation in #Sydne...            68.0   \n4  We love the #illridewithyou initiative. Spread...           106.0   \n\n   retweet_count                                            reply_1  \\\n0         4465.0  @withnodriver no shit sherlock. are you for re...   \n1          157.0  @elronxenu I'm surprised he hasn't been taken ...   \n2          148.0                 @MelonRouge I'll ride u and ur mom   \n3          138.0                                                NaN   \n4          156.0  @KatSiecris we agree. It's important to rememb...   \n\n                                             reply_2  \\\n0  @withnodriver @basznocz Religion doesnt have t...   \n1  @TeamOyeniyi Specifically: guy was on his way ...   \n2  @sirmomonothomo @MelonRouge \\nLol\\nKeep tweeti...   \n3                                                NaN   \n4  @AmnestyNSW this quote was the first thing I t...   \n\n                                             reply_3  \\\n0               @fury_jen @TheTweetOfGod blasphemer.   \n1  @TeamOyeniyi So long as he doesn't kill any ho...   \n2    @sirmomonothomo @RT_com truth hurts dogs breath   \n3                                                NaN   \n4                                                NaN   \n\n                                             reply_4  \\\n0   @runitright1 @TheTweetOfGod Sometime also Thor..   \n1  @elronxenu So is he just holed up until the bi...   \n2  @rhu71 @RT_com u look like ur waiting for a cu...   \n3                                                NaN   \n4                                                NaN   \n\n                                             reply_5  \\\n0  @Usairam1 mohamed liked to fuck little aisha. ...   \n1  @abcnewsSydney #sydneysiege Very disturbing ne...   \n2                 @sirmomonothomo #iwon'tridewithyou   \n3                                                NaN   \n4                                                NaN   \n\n                                             reply_6  \\\n0  @RStarovich @TheTweetOfGod Hahahha...you're ri...   \n1                @abcnewsSydney @jarrodmckenna Amen.   \n2           @RT_com Will Abbot shirtfront terrorist?   \n3                                                NaN   \n4                                                NaN   \n\n                                             reply_7  ... reply_332 reply_333  \\\n0  @Usairam1 @basznocz you're kidding they're mak...  ...       NaN       NaN   \n1  @elronxenu I'm inclined to think outside the s...  ...       NaN       NaN   \n2                    @RT_com ISIS is Islam is terror  ...       NaN       NaN   \n3                                                NaN  ...       NaN       NaN   \n4                                                NaN  ...       NaN       NaN   \n\n  reply_334 reply_335 reply_336 reply_337 reply_338 reply_339 reply_340  \\\n0       NaN       NaN       NaN       NaN       NaN       NaN       NaN   \n1       NaN       NaN       NaN       NaN       NaN       NaN       NaN   \n2       NaN       NaN       NaN       NaN       NaN       NaN       NaN   \n3       NaN       NaN       NaN       NaN       NaN       NaN       NaN   \n4       NaN       NaN       NaN       NaN       NaN       NaN       NaN   \n\n  reply_341  \n0       NaN  \n1       NaN  \n2       NaN  \n3       NaN  \n4       NaN  \n\n[5 rows x 344 columns]",
      "text/html": "<div>\n<style scoped>\n    .dataframe tbody tr th:only-of-type {\n        vertical-align: middle;\n    }\n\n    .dataframe tbody tr th {\n        vertical-align: top;\n    }\n\n    .dataframe thead th {\n        text-align: right;\n    }\n</style>\n<table border=\"1\" class=\"dataframe\">\n  <thead>\n    <tr style=\"text-align: right;\">\n      <th></th>\n      <th>source_tweet</th>\n      <th>favorite_count</th>\n      <th>retweet_count</th>\n      <th>reply_1</th>\n      <th>reply_2</th>\n      <th>reply_3</th>\n      <th>reply_4</th>\n      <th>reply_5</th>\n      <th>reply_6</th>\n      <th>reply_7</th>\n      <th>...</th>\n      <th>reply_332</th>\n      <th>reply_333</th>\n      <th>reply_334</th>\n      <th>reply_335</th>\n      <th>reply_336</th>\n      <th>reply_337</th>\n      <th>reply_338</th>\n      <th>reply_339</th>\n      <th>reply_340</th>\n      <th>reply_341</th>\n    </tr>\n  </thead>\n  <tbody>\n    <tr>\n      <th>0</th>\n      <td>There are no verses in the Quran about Me want...</td>\n      <td>4533.0</td>\n      <td>4465.0</td>\n      <td>@withnodriver no shit sherlock. are you for re...</td>\n      <td>@withnodriver @basznocz Religion doesnt have t...</td>\n      <td>@fury_jen @TheTweetOfGod blasphemer.</td>\n      <td>@runitright1 @TheTweetOfGod Sometime also Thor..</td>\n      <td>@Usairam1 mohamed liked to fuck little aisha. ...</td>\n      <td>@RStarovich @TheTweetOfGod Hahahha...you're ri...</td>\n      <td>@Usairam1 @basznocz you're kidding they're mak...</td>\n      <td>...</td>\n      <td>NaN</td>\n      <td>NaN</td>\n      <td>NaN</td>\n      <td>NaN</td>\n      <td>NaN</td>\n      <td>NaN</td>\n      <td>NaN</td>\n      <td>NaN</td>\n      <td>NaN</td>\n      <td>NaN</td>\n    </tr>\n    <tr>\n      <th>1</th>\n      <td>Mosques, synagogues and churches are inviting ...</td>\n      <td>116.0</td>\n      <td>157.0</td>\n      <td>@elronxenu I'm surprised he hasn't been taken ...</td>\n      <td>@TeamOyeniyi Specifically: guy was on his way ...</td>\n      <td>@TeamOyeniyi So long as he doesn't kill any ho...</td>\n      <td>@elronxenu So is he just holed up until the bi...</td>\n      <td>@abcnewsSydney #sydneysiege Very disturbing ne...</td>\n      <td>@abcnewsSydney @jarrodmckenna Amen.</td>\n      <td>@elronxenu I'm inclined to think outside the s...</td>\n      <td>...</td>\n      <td>NaN</td>\n      <td>NaN</td>\n      <td>NaN</td>\n      <td>NaN</td>\n      <td>NaN</td>\n      <td>NaN</td>\n      <td>NaN</td>\n      <td>NaN</td>\n      <td>NaN</td>\n      <td>NaN</td>\n    </tr>\n    <tr>\n      <th>2</th>\n      <td>#illridewithyou: Viral Aussie solidarity amid ...</td>\n      <td>85.0</td>\n      <td>148.0</td>\n      <td>@MelonRouge I'll ride u and ur mom</td>\n      <td>@sirmomonothomo @MelonRouge \\nLol\\nKeep tweeti...</td>\n      <td>@sirmomonothomo @RT_com truth hurts dogs breath</td>\n      <td>@rhu71 @RT_com u look like ur waiting for a cu...</td>\n      <td>@sirmomonothomo #iwon'tridewithyou</td>\n      <td>@RT_com Will Abbot shirtfront terrorist?</td>\n      <td>@RT_com ISIS is Islam is terror</td>\n      <td>...</td>\n      <td>NaN</td>\n      <td>NaN</td>\n      <td>NaN</td>\n      <td>NaN</td>\n      <td>NaN</td>\n      <td>NaN</td>\n      <td>NaN</td>\n      <td>NaN</td>\n      <td>NaN</td>\n      <td>NaN</td>\n    </tr>\n    <tr>\n      <th>3</th>\n      <td>We continue to monitor the situation in #Sydne...</td>\n      <td>68.0</td>\n      <td>138.0</td>\n      <td>NaN</td>\n      <td>NaN</td>\n      <td>NaN</td>\n      <td>NaN</td>\n      <td>NaN</td>\n      <td>NaN</td>\n      <td>NaN</td>\n      <td>...</td>\n      <td>NaN</td>\n      <td>NaN</td>\n      <td>NaN</td>\n      <td>NaN</td>\n      <td>NaN</td>\n      <td>NaN</td>\n      <td>NaN</td>\n      <td>NaN</td>\n      <td>NaN</td>\n      <td>NaN</td>\n    </tr>\n    <tr>\n      <th>4</th>\n      <td>We love the #illridewithyou initiative. Spread...</td>\n      <td>106.0</td>\n      <td>156.0</td>\n      <td>@KatSiecris we agree. It's important to rememb...</td>\n      <td>@AmnestyNSW this quote was the first thing I t...</td>\n      <td>NaN</td>\n      <td>NaN</td>\n      <td>NaN</td>\n      <td>NaN</td>\n      <td>NaN</td>\n      <td>...</td>\n      <td>NaN</td>\n      <td>NaN</td>\n      <td>NaN</td>\n      <td>NaN</td>\n      <td>NaN</td>\n      <td>NaN</td>\n      <td>NaN</td>\n      <td>NaN</td>\n      <td>NaN</td>\n      <td>NaN</td>\n    </tr>\n  </tbody>\n</table>\n<p>5 rows × 344 columns</p>\n</div>"
     },
     "execution_count": 5,
     "metadata": {},
     "output_type": "execute_result"
    }
   ],
   "source": [
    "df_true.head()"
   ],
   "metadata": {
    "collapsed": false,
    "pycharm": {
     "name": "#%%\n"
    }
   }
  },
  {
   "cell_type": "markdown",
   "source": [
    "Cleaning data"
   ],
   "metadata": {
    "collapsed": false
   }
  },
  {
   "cell_type": "code",
   "execution_count": 6,
   "outputs": [],
   "source": [
    "df_source = df_true[['source_tweet']].copy()"
   ],
   "metadata": {
    "collapsed": false,
    "pycharm": {
     "name": "#%%\n"
    }
   }
  },
  {
   "cell_type": "code",
   "execution_count": 10,
   "outputs": [
    {
     "data": {
      "text/plain": "                                        source_tweet\n0  There are no verses in the Quran about Me want...\n1  Mosques, synagogues and churches are inviting ...\n2  #illridewithyou: Viral Aussie solidarity amid ...\n3  We continue to monitor the situation in #Sydne...\n4  We love the #illridewithyou initiative. Spread...",
      "text/html": "<div>\n<style scoped>\n    .dataframe tbody tr th:only-of-type {\n        vertical-align: middle;\n    }\n\n    .dataframe tbody tr th {\n        vertical-align: top;\n    }\n\n    .dataframe thead th {\n        text-align: right;\n    }\n</style>\n<table border=\"1\" class=\"dataframe\">\n  <thead>\n    <tr style=\"text-align: right;\">\n      <th></th>\n      <th>source_tweet</th>\n    </tr>\n  </thead>\n  <tbody>\n    <tr>\n      <th>0</th>\n      <td>There are no verses in the Quran about Me want...</td>\n    </tr>\n    <tr>\n      <th>1</th>\n      <td>Mosques, synagogues and churches are inviting ...</td>\n    </tr>\n    <tr>\n      <th>2</th>\n      <td>#illridewithyou: Viral Aussie solidarity amid ...</td>\n    </tr>\n    <tr>\n      <th>3</th>\n      <td>We continue to monitor the situation in #Sydne...</td>\n    </tr>\n    <tr>\n      <th>4</th>\n      <td>We love the #illridewithyou initiative. Spread...</td>\n    </tr>\n  </tbody>\n</table>\n</div>"
     },
     "execution_count": 10,
     "metadata": {},
     "output_type": "execute_result"
    }
   ],
   "source": [
    "df_source.head()"
   ],
   "metadata": {
    "collapsed": false,
    "pycharm": {
     "name": "#%%\n"
    }
   }
  },
  {
   "cell_type": "code",
   "execution_count": 11,
   "outputs": [],
   "source": [
    "sent = [row.split(' ') for row in df_source['source_tweet']]"
   ],
   "metadata": {
    "collapsed": false,
    "pycharm": {
     "name": "#%%\n"
    }
   }
  },
  {
   "cell_type": "code",
   "execution_count": 14,
   "outputs": [],
   "source": [
    "model = Word2Vec(sent, min_count=1,vector_size= 50,workers=3, window =3, sg = 1)"
   ],
   "metadata": {
    "collapsed": false,
    "pycharm": {
     "name": "#%%\n"
    }
   }
  },
  {
   "cell_type": "code",
   "execution_count": 18,
   "outputs": [],
   "source": [
    "from gensim.models.phrases import Phrases, Phraser"
   ],
   "metadata": {
    "collapsed": false,
    "pycharm": {
     "name": "#%%\n"
    }
   }
  },
  {
   "cell_type": "code",
   "execution_count": 19,
   "outputs": [],
   "source": [
    "phrases = Phrases(sent, min_count=30, progress_per=10000)"
   ],
   "metadata": {
    "collapsed": false,
    "pycharm": {
     "name": "#%%\n"
    }
   }
  },
  {
   "cell_type": "code",
   "execution_count": 20,
   "outputs": [],
   "source": [
    "phrases = Phrases(sent, min_count=30, progress_per=10000)"
   ],
   "metadata": {
    "collapsed": false,
    "pycharm": {
     "name": "#%%\n"
    }
   }
  },
  {
   "cell_type": "code",
   "execution_count": 21,
   "outputs": [],
   "source": [
    "bigram = Phraser(phrases)"
   ],
   "metadata": {
    "collapsed": false,
    "pycharm": {
     "name": "#%%\n"
    }
   }
  },
  {
   "cell_type": "code",
   "execution_count": 22,
   "outputs": [],
   "source": [
    "sentences = bigram[sent]"
   ],
   "metadata": {
    "collapsed": false,
    "pycharm": {
     "name": "#%%\n"
    }
   }
  },
  {
   "cell_type": "code",
   "execution_count": 24,
   "outputs": [],
   "source": [
    "from collections import defaultdict"
   ],
   "metadata": {
    "collapsed": false,
    "pycharm": {
     "name": "#%%\n"
    }
   }
  },
  {
   "cell_type": "code",
   "execution_count": 25,
   "outputs": [
    {
     "data": {
      "text/plain": "851"
     },
     "execution_count": 25,
     "metadata": {},
     "output_type": "execute_result"
    }
   ],
   "source": [
    "word_freq = defaultdict(int)\n",
    "for sent in sentences:\n",
    "    for i in sent:\n",
    "        word_freq[i] += 1\n",
    "len(word_freq)"
   ],
   "metadata": {
    "collapsed": false,
    "pycharm": {
     "name": "#%%\n"
    }
   }
  },
  {
   "cell_type": "code",
   "execution_count": 26,
   "outputs": [
    {
     "data": {
      "text/plain": "['the',\n 'to',\n '#sydneysiege',\n 'in',\n 'of',\n 'is',\n 'for',\n 'Sydney',\n 'and',\n 'hostages']"
     },
     "execution_count": 26,
     "metadata": {},
     "output_type": "execute_result"
    }
   ],
   "source": [
    "sorted(word_freq, key=word_freq.get, reverse=True)[:10]"
   ],
   "metadata": {
    "collapsed": false,
    "pycharm": {
     "name": "#%%\n"
    }
   }
  },
  {
   "cell_type": "code",
   "execution_count": 27,
   "outputs": [],
   "source": [
    "import multiprocessing\n",
    "from gensim.models import Word2Vec"
   ],
   "metadata": {
    "collapsed": false,
    "pycharm": {
     "name": "#%%\n"
    }
   }
  },
  {
   "cell_type": "code",
   "execution_count": 28,
   "outputs": [],
   "source": [
    "cores = multiprocessing.cpu_count()"
   ],
   "metadata": {
    "collapsed": false,
    "pycharm": {
     "name": "#%%\n"
    }
   }
  },
  {
   "cell_type": "code",
   "execution_count": 29,
   "outputs": [
    {
     "data": {
      "text/plain": "16"
     },
     "execution_count": 29,
     "metadata": {},
     "output_type": "execute_result"
    }
   ],
   "source": [
    "cores"
   ],
   "metadata": {
    "collapsed": false,
    "pycharm": {
     "name": "#%%\n"
    }
   }
  },
  {
   "cell_type": "code",
   "execution_count": 31,
   "outputs": [],
   "source": [
    "w2v_model = Word2Vec(min_count=20,\n",
    "                     window=2,\n",
    "                     vector_size=300,\n",
    "                     sample=6e-5,\n",
    "                     alpha=0.03,\n",
    "                     min_alpha=0.0007,\n",
    "                     negative=20,\n",
    "                     workers=cores-1)"
   ],
   "metadata": {
    "collapsed": false,
    "pycharm": {
     "name": "#%%\n"
    }
   }
  },
  {
   "cell_type": "code",
   "execution_count": 33,
   "outputs": [],
   "source": [
    "from time import time\n",
    "import logging  # Setting up the loggings to monitor gensim\n",
    "logging.basicConfig(format=\"%(levelname)s - %(asctime)s: %(message)s\", datefmt= '%H:%M:%S', level=logging.INFO)"
   ],
   "metadata": {
    "collapsed": false,
    "pycharm": {
     "name": "#%%\n"
    }
   }
  },
  {
   "cell_type": "code",
   "execution_count": 34,
   "outputs": [
    {
     "name": "stderr",
     "output_type": "stream",
     "text": [
      "INFO - 00:04:33: collecting all words and their counts\n",
      "INFO - 00:04:33: PROGRESS: at sentence #0, processed 0 words, keeping 0 word types\n",
      "INFO - 00:04:33: collected 851 word types from a corpus of 1635 raw words and 100 sentences\n",
      "INFO - 00:04:33: Creating a fresh vocabulary\n",
      "INFO - 00:04:33: Word2Vec lifecycle event {'msg': 'effective_min_count=20 retains 8 unique words (0.94% of original 851, drops 843)', 'datetime': '2022-08-11T00:04:33.505392', 'gensim': '4.2.0', 'python': '3.8.6 (v3.8.6:db455296be, Sep 23 2020, 13:31:39) \\n[Clang 6.0 (clang-600.0.57)]', 'platform': 'macOS-10.16-x86_64-i386-64bit', 'event': 'prepare_vocab'}\n",
      "INFO - 00:04:33: Word2Vec lifecycle event {'msg': 'effective_min_count=20 leaves 285 word corpus (17.43% of original 1635, drops 1350)', 'datetime': '2022-08-11T00:04:33.506368', 'gensim': '4.2.0', 'python': '3.8.6 (v3.8.6:db455296be, Sep 23 2020, 13:31:39) \\n[Clang 6.0 (clang-600.0.57)]', 'platform': 'macOS-10.16-x86_64-i386-64bit', 'event': 'prepare_vocab'}\n",
      "INFO - 00:04:33: deleting the raw counts dictionary of 851 items\n",
      "INFO - 00:04:33: sample=6e-05 downsamples 8 most-common words\n",
      "INFO - 00:04:33: Word2Vec lifecycle event {'msg': 'downsampling leaves estimated 6.277704977513257 word corpus (2.2%% of prior 285)', 'datetime': '2022-08-11T00:04:33.508911', 'gensim': '4.2.0', 'python': '3.8.6 (v3.8.6:db455296be, Sep 23 2020, 13:31:39) \\n[Clang 6.0 (clang-600.0.57)]', 'platform': 'macOS-10.16-x86_64-i386-64bit', 'event': 'prepare_vocab'}\n",
      "INFO - 00:04:33: estimated required memory for 8 words and 300 dimensions: 23200 bytes\n",
      "INFO - 00:04:33: resetting layer weights\n",
      "INFO - 00:04:33: Word2Vec lifecycle event {'update': False, 'trim_rule': 'None', 'datetime': '2022-08-11T00:04:33.512234', 'gensim': '4.2.0', 'python': '3.8.6 (v3.8.6:db455296be, Sep 23 2020, 13:31:39) \\n[Clang 6.0 (clang-600.0.57)]', 'platform': 'macOS-10.16-x86_64-i386-64bit', 'event': 'build_vocab'}\n"
     ]
    },
    {
     "name": "stdout",
     "output_type": "stream",
     "text": [
      "Time to build vocab: 0.0 mins\n"
     ]
    }
   ],
   "source": [
    "t = time()\n",
    "w2v_model.build_vocab(sentences, progress_per=10000)\n",
    "print('Time to build vocab: {} mins'.format(round((time() - t) / 60, 2)))"
   ],
   "metadata": {
    "collapsed": false,
    "pycharm": {
     "name": "#%%\n"
    }
   }
  },
  {
   "cell_type": "code",
   "execution_count": 38,
   "outputs": [
    {
     "ename": "KeyError",
     "evalue": "\"Key 'and' not present in vocabulary\"",
     "output_type": "error",
     "traceback": [
      "\u001B[0;31m---------------------------------------------------------------------------\u001B[0m",
      "\u001B[0;31mKeyError\u001B[0m                                  Traceback (most recent call last)",
      "\u001B[0;32m/var/folders/8y/yq5dpggj5gq0006wv9sxbx1h0000gn/T/ipykernel_51079/2488425302.py\u001B[0m in \u001B[0;36m<module>\u001B[0;34m\u001B[0m\n\u001B[0;32m----> 1\u001B[0;31m \u001B[0mw2v_model\u001B[0m\u001B[0;34m.\u001B[0m\u001B[0mwv\u001B[0m\u001B[0;34m.\u001B[0m\u001B[0mmost_similar\u001B[0m\u001B[0;34m(\u001B[0m\u001B[0mpositive\u001B[0m\u001B[0;34m=\u001B[0m\u001B[0;34m[\u001B[0m\u001B[0;34m\"and\"\u001B[0m\u001B[0;34m]\u001B[0m\u001B[0;34m)\u001B[0m\u001B[0;34m\u001B[0m\u001B[0;34m\u001B[0m\u001B[0m\n\u001B[0m",
      "\u001B[0;32m/Library/Frameworks/Python.framework/Versions/3.8/lib/python3.8/site-packages/gensim/models/keyedvectors.py\u001B[0m in \u001B[0;36mmost_similar\u001B[0;34m(self, positive, negative, topn, clip_start, clip_end, restrict_vocab, indexer)\u001B[0m\n\u001B[1;32m    840\u001B[0m \u001B[0;34m\u001B[0m\u001B[0m\n\u001B[1;32m    841\u001B[0m         \u001B[0;31m# compute the weighted average of all keys\u001B[0m\u001B[0;34m\u001B[0m\u001B[0;34m\u001B[0m\u001B[0;34m\u001B[0m\u001B[0m\n\u001B[0;32m--> 842\u001B[0;31m         \u001B[0mmean\u001B[0m \u001B[0;34m=\u001B[0m \u001B[0mself\u001B[0m\u001B[0;34m.\u001B[0m\u001B[0mget_mean_vector\u001B[0m\u001B[0;34m(\u001B[0m\u001B[0mkeys\u001B[0m\u001B[0;34m,\u001B[0m \u001B[0mweight\u001B[0m\u001B[0;34m,\u001B[0m \u001B[0mpre_normalize\u001B[0m\u001B[0;34m=\u001B[0m\u001B[0;32mTrue\u001B[0m\u001B[0;34m,\u001B[0m \u001B[0mpost_normalize\u001B[0m\u001B[0;34m=\u001B[0m\u001B[0;32mTrue\u001B[0m\u001B[0;34m,\u001B[0m \u001B[0mignore_missing\u001B[0m\u001B[0;34m=\u001B[0m\u001B[0;32mFalse\u001B[0m\u001B[0;34m)\u001B[0m\u001B[0;34m\u001B[0m\u001B[0;34m\u001B[0m\u001B[0m\n\u001B[0m\u001B[1;32m    843\u001B[0m         all_keys = [\n\u001B[1;32m    844\u001B[0m             \u001B[0mself\u001B[0m\u001B[0;34m.\u001B[0m\u001B[0mget_index\u001B[0m\u001B[0;34m(\u001B[0m\u001B[0mkey\u001B[0m\u001B[0;34m)\u001B[0m \u001B[0;32mfor\u001B[0m \u001B[0mkey\u001B[0m \u001B[0;32min\u001B[0m \u001B[0mkeys\u001B[0m \u001B[0;32mif\u001B[0m \u001B[0misinstance\u001B[0m\u001B[0;34m(\u001B[0m\u001B[0mkey\u001B[0m\u001B[0;34m,\u001B[0m \u001B[0m_KEY_TYPES\u001B[0m\u001B[0;34m)\u001B[0m \u001B[0;32mand\u001B[0m \u001B[0mself\u001B[0m\u001B[0;34m.\u001B[0m\u001B[0mhas_index_for\u001B[0m\u001B[0;34m(\u001B[0m\u001B[0mkey\u001B[0m\u001B[0;34m)\u001B[0m\u001B[0;34m\u001B[0m\u001B[0;34m\u001B[0m\u001B[0m\n",
      "\u001B[0;32m/Library/Frameworks/Python.framework/Versions/3.8/lib/python3.8/site-packages/gensim/models/keyedvectors.py\u001B[0m in \u001B[0;36mget_mean_vector\u001B[0;34m(self, keys, weights, pre_normalize, post_normalize, ignore_missing)\u001B[0m\n\u001B[1;32m    517\u001B[0m                 \u001B[0mtotal_weight\u001B[0m \u001B[0;34m+=\u001B[0m \u001B[0mabs\u001B[0m\u001B[0;34m(\u001B[0m\u001B[0mweights\u001B[0m\u001B[0;34m[\u001B[0m\u001B[0midx\u001B[0m\u001B[0;34m]\u001B[0m\u001B[0;34m)\u001B[0m\u001B[0;34m\u001B[0m\u001B[0;34m\u001B[0m\u001B[0m\n\u001B[1;32m    518\u001B[0m             \u001B[0;32melif\u001B[0m \u001B[0;32mnot\u001B[0m \u001B[0mignore_missing\u001B[0m\u001B[0;34m:\u001B[0m\u001B[0;34m\u001B[0m\u001B[0;34m\u001B[0m\u001B[0m\n\u001B[0;32m--> 519\u001B[0;31m                 \u001B[0;32mraise\u001B[0m \u001B[0mKeyError\u001B[0m\u001B[0;34m(\u001B[0m\u001B[0;34mf\"Key '{key}' not present in vocabulary\"\u001B[0m\u001B[0;34m)\u001B[0m\u001B[0;34m\u001B[0m\u001B[0;34m\u001B[0m\u001B[0m\n\u001B[0m\u001B[1;32m    520\u001B[0m \u001B[0;34m\u001B[0m\u001B[0m\n\u001B[1;32m    521\u001B[0m         \u001B[0;32mif\u001B[0m\u001B[0;34m(\u001B[0m\u001B[0mtotal_weight\u001B[0m \u001B[0;34m>\u001B[0m \u001B[0;36m0\u001B[0m\u001B[0;34m)\u001B[0m\u001B[0;34m:\u001B[0m\u001B[0;34m\u001B[0m\u001B[0;34m\u001B[0m\u001B[0m\n",
      "\u001B[0;31mKeyError\u001B[0m: \"Key 'and' not present in vocabulary\""
     ]
    }
   ],
   "source": [
    "w2v_model.wv.most_similar(positive=[\"and\"])"
   ],
   "metadata": {
    "collapsed": false,
    "pycharm": {
     "name": "#%%\n"
    }
   }
  },
  {
   "cell_type": "code",
   "execution_count": null,
   "outputs": [],
   "source": [],
   "metadata": {
    "collapsed": false,
    "pycharm": {
     "name": "#%%\n"
    }
   }
  }
 ],
 "metadata": {
  "kernelspec": {
   "name": "pycharm-99298bfd",
   "language": "python",
   "display_name": "PyCharm (_project)"
  },
  "language_info": {
   "codemirror_mode": {
    "name": "ipython",
    "version": 2
   },
   "file_extension": ".py",
   "mimetype": "text/x-python",
   "name": "python",
   "nbconvert_exporter": "python",
   "pygments_lexer": "ipython2",
   "version": "2.7.6"
  }
 },
 "nbformat": 4,
 "nbformat_minor": 0
}