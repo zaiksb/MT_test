{
 "cells": [
  {
   "cell_type": "markdown",
   "metadata": {
    "collapsed": true,
    "pycharm": {
     "name": "#%% md\n"
    }
   },
   "source": [
    "# Answers to coding questions in deep learning\n",
    "## By Peeter Niidas"
   ]
  },
  {
   "cell_type": "code",
   "execution_count": 56,
   "outputs": [],
   "source": [
    "import pandas as pd\n",
    "import numpy as np\n",
    "import os\n",
    "import sys\n",
    "import glob\n",
    "import matplotlib.pyplot as plt\n",
    "#%tensorflow_version 1.x\n",
    "\n",
    "import tensorflow as tf\n",
    "tf.compat.v1.logging.set_verbosity(tf.compat.v1.logging.ERROR)"
   ],
   "metadata": {
    "collapsed": false,
    "pycharm": {
     "name": "#%%\n"
    }
   }
  },
  {
   "cell_type": "code",
   "execution_count": 57,
   "outputs": [],
   "source": [
    "# Get filenames and load data\n",
    "\n",
    "def read_rename_data (dirr):\n",
    "    path = dirr\n",
    "    i = 0\n",
    "    for filename in glob.iglob(path + '**/*.json', recursive=True):\n",
    "        if i < 100:\n",
    "            print(filename)\n",
    "            i += 1\n",
    "            df = pd.read_json(filename)\n",
    "    return df"
   ],
   "metadata": {
    "collapsed": false,
    "pycharm": {
     "name": "#%%\n"
    }
   }
  },
  {
   "cell_type": "code",
   "execution_count": 58,
   "outputs": [
    {
     "name": "stdout",
     "output_type": "stream",
     "text": [
      "./data/pheme-rnr-dataset/sydneysiege/non-rumours/544282393801007104/source-tweet/544282393801007104.json\n",
      "./data/pheme-rnr-dataset/sydneysiege/non-rumours/544282393801007104/reactions/544285550824669184.json\n",
      "./data/pheme-rnr-dataset/sydneysiege/non-rumours/544282393801007104/reactions/544287961559203840.json\n",
      "./data/pheme-rnr-dataset/sydneysiege/non-rumours/544282393801007104/reactions/544284195074629632.json\n",
      "./data/pheme-rnr-dataset/sydneysiege/non-rumours/544282393801007104/reactions/544540145803071488.json\n",
      "./data/pheme-rnr-dataset/sydneysiege/non-rumours/544282393801007104/reactions/544312169597517825.json\n",
      "./data/pheme-rnr-dataset/sydneysiege/non-rumours/544282393801007104/reactions/544372236971286528.json\n",
      "./data/pheme-rnr-dataset/sydneysiege/non-rumours/544282393801007104/reactions/544289020071923712.json\n",
      "./data/pheme-rnr-dataset/sydneysiege/non-rumours/544282393801007104/reactions/544325510033969152.json\n",
      "./data/pheme-rnr-dataset/sydneysiege/non-rumours/544282393801007104/reactions/544287367285071872.json\n",
      "./data/pheme-rnr-dataset/sydneysiege/non-rumours/544282393801007104/reactions/545156369507033088.json\n",
      "./data/pheme-rnr-dataset/sydneysiege/non-rumours/544282393801007104/reactions/544501502740803584.json\n",
      "./data/pheme-rnr-dataset/sydneysiege/non-rumours/544282393801007104/reactions/545613864805478400.json\n",
      "./data/pheme-rnr-dataset/sydneysiege/non-rumours/544282393801007104/reactions/544297071646605312.json\n",
      "./data/pheme-rnr-dataset/sydneysiege/non-rumours/544282393801007104/reactions/544967191926697984.json\n",
      "./data/pheme-rnr-dataset/sydneysiege/non-rumours/544282393801007104/reactions/544283165431693312.json\n",
      "./data/pheme-rnr-dataset/sydneysiege/non-rumours/544282393801007104/reactions/545180048178032640.json\n",
      "./data/pheme-rnr-dataset/sydneysiege/non-rumours/544282393801007104/reactions/545097819850153984.json\n",
      "./data/pheme-rnr-dataset/sydneysiege/non-rumours/544282393801007104/reactions/544284359465771009.json\n",
      "./data/pheme-rnr-dataset/sydneysiege/non-rumours/544282393801007104/reactions/545580717103513600.json\n",
      "./data/pheme-rnr-dataset/sydneysiege/non-rumours/544282393801007104/reactions/544287599331135490.json\n",
      "./data/pheme-rnr-dataset/sydneysiege/non-rumours/544282393801007104/reactions/545220367006978049.json\n",
      "./data/pheme-rnr-dataset/sydneysiege/non-rumours/544282393801007104/reactions/544284012513337344.json\n",
      "./data/pheme-rnr-dataset/sydneysiege/non-rumours/544282393801007104/reactions/544282668238901248.json\n",
      "./data/pheme-rnr-dataset/sydneysiege/non-rumours/544282393801007104/reactions/544285787844784128.json\n",
      "./data/pheme-rnr-dataset/sydneysiege/non-rumours/544282393801007104/reactions/544287114838294528.json\n",
      "./data/pheme-rnr-dataset/sydneysiege/non-rumours/544282393801007104/reactions/544310202884186112.json\n",
      "./data/pheme-rnr-dataset/sydneysiege/non-rumours/544282393801007104/reactions/544285522748002305.json\n",
      "./data/pheme-rnr-dataset/sydneysiege/non-rumours/544282393801007104/reactions/545394262813446144.json\n",
      "./data/pheme-rnr-dataset/sydneysiege/non-rumours/544282393801007104/reactions/544283195471310848.json\n",
      "./data/pheme-rnr-dataset/sydneysiege/non-rumours/544282393801007104/reactions/544284121217126401.json\n",
      "./data/pheme-rnr-dataset/sydneysiege/non-rumours/544282393801007104/reactions/544311498521067520.json\n",
      "./data/pheme-rnr-dataset/sydneysiege/non-rumours/544282393801007104/reactions/545266461963337729.json\n",
      "./data/pheme-rnr-dataset/sydneysiege/non-rumours/544282393801007104/reactions/544287091438260225.json\n",
      "./data/pheme-rnr-dataset/sydneysiege/non-rumours/544282393801007104/reactions/544296501070278656.json\n",
      "./data/pheme-rnr-dataset/sydneysiege/non-rumours/544282393801007104/reactions/544282739047170048.json\n",
      "./data/pheme-rnr-dataset/sydneysiege/non-rumours/544282393801007104/reactions/544289464546504705.json\n",
      "./data/pheme-rnr-dataset/sydneysiege/non-rumours/544282393801007104/reactions/544286864753307648.json\n",
      "./data/pheme-rnr-dataset/sydneysiege/non-rumours/544282393801007104/reactions/544282936170655745.json\n",
      "./data/pheme-rnr-dataset/sydneysiege/non-rumours/544282393801007104/reactions/544291079290646529.json\n",
      "./data/pheme-rnr-dataset/sydneysiege/non-rumours/544282393801007104/reactions/545266083985256448.json\n",
      "./data/pheme-rnr-dataset/sydneysiege/non-rumours/544282393801007104/reactions/544284335701254144.json\n",
      "./data/pheme-rnr-dataset/sydneysiege/non-rumours/544282393801007104/reactions/544283083487580161.json\n",
      "./data/pheme-rnr-dataset/sydneysiege/non-rumours/544282393801007104/reactions/544309999900450816.json\n",
      "./data/pheme-rnr-dataset/sydneysiege/non-rumours/544282393801007104/reactions/545265338393190400.json\n",
      "./data/pheme-rnr-dataset/sydneysiege/non-rumours/544282393801007104/reactions/544287725763842049.json\n",
      "./data/pheme-rnr-dataset/sydneysiege/non-rumours/544282393801007104/reactions/544283636250333184.json\n",
      "./data/pheme-rnr-dataset/sydneysiege/non-rumours/544282393801007104/reactions/544282860358606848.json\n",
      "./data/pheme-rnr-dataset/sydneysiege/non-rumours/544282393801007104/reactions/544282722584121344.json\n",
      "./data/pheme-rnr-dataset/sydneysiege/non-rumours/544282393801007104/reactions/544282547371663360.json\n",
      "./data/pheme-rnr-dataset/sydneysiege/non-rumours/544282393801007104/reactions/544289356132151298.json\n",
      "./data/pheme-rnr-dataset/sydneysiege/non-rumours/544282393801007104/reactions/544283395971620864.json\n",
      "./data/pheme-rnr-dataset/sydneysiege/non-rumours/544282393801007104/reactions/544311246409842688.json\n",
      "./data/pheme-rnr-dataset/sydneysiege/non-rumours/544282393801007104/reactions/544283906334158848.json\n",
      "./data/pheme-rnr-dataset/sydneysiege/non-rumours/544282393801007104/reactions/544311799521112064.json\n",
      "./data/pheme-rnr-dataset/sydneysiege/non-rumours/544282393801007104/reactions/544311179674664960.json\n",
      "./data/pheme-rnr-dataset/sydneysiege/non-rumours/544282393801007104/reactions/545122884679913472.json\n",
      "./data/pheme-rnr-dataset/sydneysiege/non-rumours/544282393801007104/reactions/545615624010227713.json\n",
      "./data/pheme-rnr-dataset/sydneysiege/non-rumours/544282393801007104/reactions/544332227568746496.json\n",
      "./data/pheme-rnr-dataset/sydneysiege/non-rumours/544282393801007104/reactions/544290058543853569.json\n",
      "./data/pheme-rnr-dataset/sydneysiege/non-rumours/544282393801007104/reactions/544288382470197248.json\n",
      "./data/pheme-rnr-dataset/sydneysiege/non-rumours/544282393801007104/reactions/544284954277187586.json\n",
      "./data/pheme-rnr-dataset/sydneysiege/non-rumours/544282393801007104/reactions/544285155855458304.json\n",
      "./data/pheme-rnr-dataset/sydneysiege/non-rumours/544282393801007104/reactions/544286501266145280.json\n",
      "./data/pheme-rnr-dataset/sydneysiege/non-rumours/544282393801007104/reactions/545040682025779201.json\n",
      "./data/pheme-rnr-dataset/sydneysiege/non-rumours/544282393801007104/reactions/544285231722016768.json\n",
      "./data/pheme-rnr-dataset/sydneysiege/non-rumours/544282393801007104/reactions/544284881992568832.json\n",
      "./data/pheme-rnr-dataset/sydneysiege/non-rumours/544282393801007104/reactions/544310816929890304.json\n",
      "./data/pheme-rnr-dataset/sydneysiege/non-rumours/544282393801007104/reactions/544284136811552769.json\n",
      "./data/pheme-rnr-dataset/sydneysiege/non-rumours/544282393801007104/reactions/545156324061749248.json\n",
      "./data/pheme-rnr-dataset/sydneysiege/non-rumours/544282393801007104/reactions/544282613637472256.json\n",
      "./data/pheme-rnr-dataset/sydneysiege/non-rumours/544406902990323712/source-tweet/544406902990323712.json\n",
      "./data/pheme-rnr-dataset/sydneysiege/non-rumours/544406902990323712/reactions/544414461600083970.json\n",
      "./data/pheme-rnr-dataset/sydneysiege/non-rumours/544406902990323712/reactions/544412687002644480.json\n",
      "./data/pheme-rnr-dataset/sydneysiege/non-rumours/544406902990323712/reactions/544414366624251904.json\n",
      "./data/pheme-rnr-dataset/sydneysiege/non-rumours/544406902990323712/reactions/544413020646932480.json\n",
      "./data/pheme-rnr-dataset/sydneysiege/non-rumours/544406902990323712/reactions/544408290738704384.json\n",
      "./data/pheme-rnr-dataset/sydneysiege/non-rumours/544406902990323712/reactions/544412587161423872.json\n",
      "./data/pheme-rnr-dataset/sydneysiege/non-rumours/544406902990323712/reactions/544412804111806464.json\n",
      "./data/pheme-rnr-dataset/sydneysiege/non-rumours/544406902990323712/reactions/544408507680702464.json\n",
      "./data/pheme-rnr-dataset/sydneysiege/non-rumours/544406902990323712/reactions/544413262784114689.json\n",
      "./data/pheme-rnr-dataset/sydneysiege/non-rumours/544406902990323712/reactions/544411805213155328.json\n",
      "./data/pheme-rnr-dataset/sydneysiege/non-rumours/544406902990323712/reactions/544414047391600641.json\n",
      "./data/pheme-rnr-dataset/sydneysiege/non-rumours/544406902990323712/reactions/544411210670551040.json\n",
      "./data/pheme-rnr-dataset/sydneysiege/non-rumours/544406902990323712/reactions/544413024979656705.json\n",
      "./data/pheme-rnr-dataset/sydneysiege/non-rumours/544406902990323712/reactions/544411363700117504.json\n",
      "./data/pheme-rnr-dataset/sydneysiege/non-rumours/544406902990323712/reactions/544412875389800448.json\n",
      "./data/pheme-rnr-dataset/sydneysiege/non-rumours/544406902990323712/reactions/544409454536843264.json\n",
      "./data/pheme-rnr-dataset/sydneysiege/non-rumours/544406902990323712/reactions/544412360488648704.json\n",
      "./data/pheme-rnr-dataset/sydneysiege/non-rumours/544406902990323712/reactions/544413316953542656.json\n",
      "./data/pheme-rnr-dataset/sydneysiege/non-rumours/544406902990323712/reactions/544414139968266240.json\n",
      "./data/pheme-rnr-dataset/sydneysiege/non-rumours/544482664515121153/source-tweet/544482664515121153.json\n",
      "./data/pheme-rnr-dataset/sydneysiege/non-rumours/544482664515121153/reactions/544490580261474304.json\n",
      "./data/pheme-rnr-dataset/sydneysiege/non-rumours/544482664515121153/reactions/544491358145490945.json\n",
      "./data/pheme-rnr-dataset/sydneysiege/non-rumours/544482664515121153/reactions/544486203517861888.json\n",
      "./data/pheme-rnr-dataset/sydneysiege/non-rumours/544482664515121153/reactions/544487528469131264.json\n",
      "./data/pheme-rnr-dataset/sydneysiege/non-rumours/544482664515121153/reactions/544490479426220032.json\n",
      "./data/pheme-rnr-dataset/sydneysiege/non-rumours/544482664515121153/reactions/544486837323313152.json\n",
      "./data/pheme-rnr-dataset/sydneysiege/non-rumours/544482664515121153/reactions/544484675771965440.json\n",
      "./data/pheme-rnr-dataset/sydneysiege/non-rumours/544482664515121153/reactions/544482768328351744.json\n"
     ]
    }
   ],
   "source": [
    "df_true = read_rename_data('./data/pheme-rnr-dataset/sydneysiege/non-rumours/')"
   ],
   "metadata": {
    "collapsed": false,
    "pycharm": {
     "name": "#%%\n"
    }
   }
  },
  {
   "cell_type": "code",
   "execution_count": 59,
   "outputs": [
    {
     "name": "stdout",
     "output_type": "stream",
     "text": [
      "./data/pheme-rnr-dataset/sydneysiege/rumours/544287499397242880/source-tweet/544287499397242880.json\n",
      "./data/pheme-rnr-dataset/sydneysiege/rumours/544287499397242880/reactions/544291686738710528.json\n",
      "./data/pheme-rnr-dataset/sydneysiege/rumours/544287499397242880/reactions/544289337517436928.json\n",
      "./data/pheme-rnr-dataset/sydneysiege/rumours/544287499397242880/reactions/544301824791306240.json\n",
      "./data/pheme-rnr-dataset/sydneysiege/rumours/544287499397242880/reactions/544291075553107971.json\n",
      "./data/pheme-rnr-dataset/sydneysiege/rumours/544287499397242880/reactions/544302633553375232.json\n",
      "./data/pheme-rnr-dataset/sydneysiege/rumours/544512691948498944/source-tweet/544512691948498944.json\n",
      "./data/pheme-rnr-dataset/sydneysiege/rumours/544512691948498944/reactions/544513096975253507.json\n",
      "./data/pheme-rnr-dataset/sydneysiege/rumours/544512691948498944/reactions/544512909712171009.json\n",
      "./data/pheme-rnr-dataset/sydneysiege/rumours/544512691948498944/reactions/544513097550274561.json\n",
      "./data/pheme-rnr-dataset/sydneysiege/rumours/544512691948498944/reactions/544513783834480640.json\n",
      "./data/pheme-rnr-dataset/sydneysiege/rumours/544512691948498944/reactions/544512930763796481.json\n",
      "./data/pheme-rnr-dataset/sydneysiege/rumours/544512691948498944/reactions/544512968730607616.json\n",
      "./data/pheme-rnr-dataset/sydneysiege/rumours/544512691948498944/reactions/544514014123143168.json\n",
      "./data/pheme-rnr-dataset/sydneysiege/rumours/544512691948498944/reactions/544555644817530880.json\n",
      "./data/pheme-rnr-dataset/sydneysiege/rumours/544512691948498944/reactions/544513144564244480.json\n",
      "./data/pheme-rnr-dataset/sydneysiege/rumours/544512691948498944/reactions/544513497141608448.json\n",
      "./data/pheme-rnr-dataset/sydneysiege/rumours/544512691948498944/reactions/544513179535941634.json\n",
      "./data/pheme-rnr-dataset/sydneysiege/rumours/544512691948498944/reactions/544513056081199104.json\n",
      "./data/pheme-rnr-dataset/sydneysiege/rumours/544512691948498944/reactions/544543155102552065.json\n",
      "./data/pheme-rnr-dataset/sydneysiege/rumours/544512691948498944/reactions/544513444955697152.json\n",
      "./data/pheme-rnr-dataset/sydneysiege/rumours/544512691948498944/reactions/544513218081615872.json\n",
      "./data/pheme-rnr-dataset/sydneysiege/rumours/544512691948498944/reactions/544513203850731520.json\n",
      "./data/pheme-rnr-dataset/sydneysiege/rumours/544512691948498944/reactions/544519018997358592.json\n",
      "./data/pheme-rnr-dataset/sydneysiege/rumours/544512691948498944/reactions/544512914418589697.json\n",
      "./data/pheme-rnr-dataset/sydneysiege/rumours/544512691948498944/reactions/544513756102148096.json\n",
      "./data/pheme-rnr-dataset/sydneysiege/rumours/544512691948498944/reactions/544513459493564416.json\n",
      "./data/pheme-rnr-dataset/sydneysiege/rumours/544512691948498944/reactions/544518606474969088.json\n",
      "./data/pheme-rnr-dataset/sydneysiege/rumours/544512691948498944/reactions/544513236884676608.json\n",
      "./data/pheme-rnr-dataset/sydneysiege/rumours/544512691948498944/reactions/544513238512451584.json\n",
      "./data/pheme-rnr-dataset/sydneysiege/rumours/544512691948498944/reactions/544513366090215424.json\n",
      "./data/pheme-rnr-dataset/sydneysiege/rumours/544512691948498944/reactions/544513135810338816.json\n",
      "./data/pheme-rnr-dataset/sydneysiege/rumours/544512691948498944/reactions/544513645640564736.json\n",
      "./data/pheme-rnr-dataset/sydneysiege/rumours/544512691948498944/reactions/544513628842364928.json\n",
      "./data/pheme-rnr-dataset/sydneysiege/rumours/544512691948498944/reactions/544513526937944064.json\n",
      "./data/pheme-rnr-dataset/sydneysiege/rumours/544284078330376192/source-tweet/544284078330376192.json\n",
      "./data/pheme-rnr-dataset/sydneysiege/rumours/544284078330376192/reactions/544359008455258112.json\n",
      "./data/pheme-rnr-dataset/sydneysiege/rumours/544284078330376192/reactions/544284915811225600.json\n",
      "./data/pheme-rnr-dataset/sydneysiege/rumours/544284078330376192/reactions/544287426961612800.json\n",
      "./data/pheme-rnr-dataset/sydneysiege/rumours/544284078330376192/reactions/544284924006903809.json\n",
      "./data/pheme-rnr-dataset/sydneysiege/rumours/544284078330376192/reactions/544284158210899969.json\n",
      "./data/pheme-rnr-dataset/sydneysiege/rumours/544284078330376192/reactions/544369452444155904.json\n",
      "./data/pheme-rnr-dataset/sydneysiege/rumours/544284078330376192/reactions/544304153741524992.json\n",
      "./data/pheme-rnr-dataset/sydneysiege/rumours/544284078330376192/reactions/544285477348835328.json\n",
      "./data/pheme-rnr-dataset/sydneysiege/rumours/544284078330376192/reactions/544422772932632577.json\n",
      "./data/pheme-rnr-dataset/sydneysiege/rumours/544284078330376192/reactions/544310449555394560.json\n",
      "./data/pheme-rnr-dataset/sydneysiege/rumours/544284078330376192/reactions/544290137526763520.json\n",
      "./data/pheme-rnr-dataset/sydneysiege/rumours/544284078330376192/reactions/544308812464017408.json\n",
      "./data/pheme-rnr-dataset/sydneysiege/rumours/544349042952916993/source-tweet/544349042952916993.json\n",
      "./data/pheme-rnr-dataset/sydneysiege/rumours/544349042952916993/reactions/544370970392555521.json\n",
      "./data/pheme-rnr-dataset/sydneysiege/rumours/544349042952916993/reactions/544371138542194688.json\n",
      "./data/pheme-rnr-dataset/sydneysiege/rumours/544349042952916993/reactions/544590466415853568.json\n",
      "./data/pheme-rnr-dataset/sydneysiege/rumours/544349042952916993/reactions/544546418963128320.json\n",
      "./data/pheme-rnr-dataset/sydneysiege/rumours/544349042952916993/reactions/544376202002038785.json\n",
      "./data/pheme-rnr-dataset/sydneysiege/rumours/544349042952916993/reactions/544381940569100288.json\n",
      "./data/pheme-rnr-dataset/sydneysiege/rumours/544349042952916993/reactions/544479493436354560.json\n",
      "./data/pheme-rnr-dataset/sydneysiege/rumours/544349042952916993/reactions/544546710513799168.json\n",
      "./data/pheme-rnr-dataset/sydneysiege/rumours/544349042952916993/reactions/544366772661407744.json\n",
      "./data/pheme-rnr-dataset/sydneysiege/rumours/544349042952916993/reactions/544547365445988353.json\n",
      "./data/pheme-rnr-dataset/sydneysiege/rumours/544349042952916993/reactions/544546592217260032.json\n",
      "./data/pheme-rnr-dataset/sydneysiege/rumours/544349042952916993/reactions/544359927548878848.json\n",
      "./data/pheme-rnr-dataset/sydneysiege/rumours/544349042952916993/reactions/544549108254797825.json\n",
      "./data/pheme-rnr-dataset/sydneysiege/rumours/544349042952916993/reactions/544589133734481922.json\n",
      "./data/pheme-rnr-dataset/sydneysiege/rumours/544349042952916993/reactions/544352484764827649.json\n",
      "./data/pheme-rnr-dataset/sydneysiege/rumours/544349042952916993/reactions/544376074277093377.json\n",
      "./data/pheme-rnr-dataset/sydneysiege/rumours/544349042952916993/reactions/544549457652506624.json\n",
      "./data/pheme-rnr-dataset/sydneysiege/rumours/544349042952916993/reactions/544363787139448832.json\n",
      "./data/pheme-rnr-dataset/sydneysiege/rumours/544349042952916993/reactions/544541083926265856.json\n",
      "./data/pheme-rnr-dataset/sydneysiege/rumours/544349042952916993/reactions/544382089081020417.json\n",
      "./data/pheme-rnr-dataset/sydneysiege/rumours/544349042952916993/reactions/544590554223632385.json\n",
      "./data/pheme-rnr-dataset/sydneysiege/rumours/544349042952916993/reactions/544357696083091457.json\n",
      "./data/pheme-rnr-dataset/sydneysiege/rumours/544349042952916993/reactions/544359169571053568.json\n",
      "./data/pheme-rnr-dataset/sydneysiege/rumours/544349042952916993/reactions/544545593881001985.json\n",
      "./data/pheme-rnr-dataset/sydneysiege/rumours/544349042952916993/reactions/544398384036339712.json\n",
      "./data/pheme-rnr-dataset/sydneysiege/rumours/544349042952916993/reactions/544547206389596160.json\n",
      "./data/pheme-rnr-dataset/sydneysiege/rumours/544349042952916993/reactions/544366578922303488.json\n",
      "./data/pheme-rnr-dataset/sydneysiege/rumours/544349042952916993/reactions/544360792024694785.json\n",
      "./data/pheme-rnr-dataset/sydneysiege/rumours/544349042952916993/reactions/544399098640494593.json\n",
      "./data/pheme-rnr-dataset/sydneysiege/rumours/544349042952916993/reactions/544548314470174720.json\n",
      "./data/pheme-rnr-dataset/sydneysiege/rumours/544349042952916993/reactions/544543744762970112.json\n",
      "./data/pheme-rnr-dataset/sydneysiege/rumours/544349042952916993/reactions/544393594916728832.json\n",
      "./data/pheme-rnr-dataset/sydneysiege/rumours/544349042952916993/reactions/544381832637079552.json\n",
      "./data/pheme-rnr-dataset/sydneysiege/rumours/544349042952916993/reactions/544497583746732032.json\n",
      "./data/pheme-rnr-dataset/sydneysiege/rumours/544349042952916993/reactions/544546289971503104.json\n",
      "./data/pheme-rnr-dataset/sydneysiege/rumours/544349042952916993/reactions/544456004445159424.json\n",
      "./data/pheme-rnr-dataset/sydneysiege/rumours/544349042952916993/reactions/544497508878385152.json\n",
      "./data/pheme-rnr-dataset/sydneysiege/rumours/544349042952916993/reactions/544543904603709440.json\n",
      "./data/pheme-rnr-dataset/sydneysiege/rumours/544349042952916993/reactions/544364301541060609.json\n",
      "./data/pheme-rnr-dataset/sydneysiege/rumours/544349042952916993/reactions/544545012084924416.json\n",
      "./data/pheme-rnr-dataset/sydneysiege/rumours/544349042952916993/reactions/544382348016381953.json\n",
      "./data/pheme-rnr-dataset/sydneysiege/rumours/544349042952916993/reactions/544375457672478720.json\n",
      "./data/pheme-rnr-dataset/sydneysiege/rumours/544349042952916993/reactions/544387205251072001.json\n",
      "./data/pheme-rnr-dataset/sydneysiege/rumours/544349042952916993/reactions/544548170794291200.json\n",
      "./data/pheme-rnr-dataset/sydneysiege/rumours/544349042952916993/reactions/544498036249206785.json\n",
      "./data/pheme-rnr-dataset/sydneysiege/rumours/544349042952916993/reactions/544380593862377472.json\n",
      "./data/pheme-rnr-dataset/sydneysiege/rumours/544349042952916993/reactions/544545412741595136.json\n",
      "./data/pheme-rnr-dataset/sydneysiege/rumours/544349042952916993/reactions/544356915619176448.json\n",
      "./data/pheme-rnr-dataset/sydneysiege/rumours/544349042952916993/reactions/544544076100431872.json\n",
      "./data/pheme-rnr-dataset/sydneysiege/rumours/544349042952916993/reactions/544547726151540736.json\n",
      "./data/pheme-rnr-dataset/sydneysiege/rumours/544349042952916993/reactions/544498376537280512.json\n"
     ]
    }
   ],
   "source": [
    "df_rumors = read_rename_data('./data/pheme-rnr-dataset/sydneysiege/rumours/')"
   ],
   "metadata": {
    "collapsed": false,
    "pycharm": {
     "name": "#%%\n"
    }
   }
  },
  {
   "cell_type": "code",
   "execution_count": 60,
   "outputs": [
    {
     "data": {
      "text/plain": "                     contributors  truncated  \\\nsymbols                       NaN      False   \nuser_mentions                 NaN      False   \nhashtags                      NaN      False   \nurls                          NaN      False   \nfollow_request_sent           NaN      False   \n\n                                                                  text  \\\nsymbols              @RT_com ISLAM is being hijacked by ISIS.  #ill...   \nuser_mentions        @RT_com ISLAM is being hijacked by ISIS.  #ill...   \nhashtags             @RT_com ISLAM is being hijacked by ISIS.  #ill...   \nurls                 @RT_com ISLAM is being hijacked by ISIS.  #ill...   \nfollow_request_sent  @RT_com ISLAM is being hijacked by ISIS.  #ill...   \n\n                     in_reply_to_status_id                  id  \\\nsymbols                 544482664515121153  544482768328351744   \nuser_mentions           544482664515121153  544482768328351744   \nhashtags                544482664515121153  544482768328351744   \nurls                    544482664515121153  544482768328351744   \nfollow_request_sent     544482664515121153  544482768328351744   \n\n                     favorite_count  \\\nsymbols                           0   \nuser_mentions                     0   \nhashtags                          0   \nurls                              0   \nfollow_request_sent               0   \n\n                                                                source  \\\nsymbols              <a href=\"http://twitter.com/download/iphone\" r...   \nuser_mentions        <a href=\"http://twitter.com/download/iphone\" r...   \nhashtags             <a href=\"http://twitter.com/download/iphone\" r...   \nurls                 <a href=\"http://twitter.com/download/iphone\" r...   \nfollow_request_sent  <a href=\"http://twitter.com/download/iphone\" r...   \n\n                     retweeted  coordinates  \\\nsymbols                  False          NaN   \nuser_mentions            False          NaN   \nhashtags                 False          NaN   \nurls                     False          NaN   \nfollow_request_sent      False          NaN   \n\n                                                              entities  ...  \\\nsymbols                                                             []  ...   \nuser_mentions        [{'id': 64643056, 'indices': [0, 7], 'id_str':...  ...   \nhashtags             [{'indices': [42, 57], 'text': 'illridewithyou'}]  ...   \nurls                                                                []  ...   \nfollow_request_sent                                                NaN  ...   \n\n                    retweet_count  in_reply_to_user_id  favorited   user  geo  \\\nsymbols                         0             64643056      False    NaN  NaN   \nuser_mentions                   0             64643056      False    NaN  NaN   \nhashtags                        0             64643056      False    NaN  NaN   \nurls                            0             64643056      False    NaN  NaN   \nfollow_request_sent             0             64643056      False  False  NaN   \n\n                    in_reply_to_user_id_str  lang                created_at  \\\nsymbols                            64643056    en 2014-12-15 13:23:02+00:00   \nuser_mentions                      64643056    en 2014-12-15 13:23:02+00:00   \nhashtags                           64643056    en 2014-12-15 13:23:02+00:00   \nurls                               64643056    en 2014-12-15 13:23:02+00:00   \nfollow_request_sent                64643056    en 2014-12-15 13:23:02+00:00   \n\n                    in_reply_to_status_id_str place  \nsymbols                    544482664515121152   NaN  \nuser_mentions              544482664515121152   NaN  \nhashtags                   544482664515121152   NaN  \nurls                       544482664515121152   NaN  \nfollow_request_sent        544482664515121152   NaN  \n\n[5 rows x 22 columns]",
      "text/html": "<div>\n<style scoped>\n    .dataframe tbody tr th:only-of-type {\n        vertical-align: middle;\n    }\n\n    .dataframe tbody tr th {\n        vertical-align: top;\n    }\n\n    .dataframe thead th {\n        text-align: right;\n    }\n</style>\n<table border=\"1\" class=\"dataframe\">\n  <thead>\n    <tr style=\"text-align: right;\">\n      <th></th>\n      <th>contributors</th>\n      <th>truncated</th>\n      <th>text</th>\n      <th>in_reply_to_status_id</th>\n      <th>id</th>\n      <th>favorite_count</th>\n      <th>source</th>\n      <th>retweeted</th>\n      <th>coordinates</th>\n      <th>entities</th>\n      <th>...</th>\n      <th>retweet_count</th>\n      <th>in_reply_to_user_id</th>\n      <th>favorited</th>\n      <th>user</th>\n      <th>geo</th>\n      <th>in_reply_to_user_id_str</th>\n      <th>lang</th>\n      <th>created_at</th>\n      <th>in_reply_to_status_id_str</th>\n      <th>place</th>\n    </tr>\n  </thead>\n  <tbody>\n    <tr>\n      <th>symbols</th>\n      <td>NaN</td>\n      <td>False</td>\n      <td>@RT_com ISLAM is being hijacked by ISIS.  #ill...</td>\n      <td>544482664515121153</td>\n      <td>544482768328351744</td>\n      <td>0</td>\n      <td>&lt;a href=\"http://twitter.com/download/iphone\" r...</td>\n      <td>False</td>\n      <td>NaN</td>\n      <td>[]</td>\n      <td>...</td>\n      <td>0</td>\n      <td>64643056</td>\n      <td>False</td>\n      <td>NaN</td>\n      <td>NaN</td>\n      <td>64643056</td>\n      <td>en</td>\n      <td>2014-12-15 13:23:02+00:00</td>\n      <td>544482664515121152</td>\n      <td>NaN</td>\n    </tr>\n    <tr>\n      <th>user_mentions</th>\n      <td>NaN</td>\n      <td>False</td>\n      <td>@RT_com ISLAM is being hijacked by ISIS.  #ill...</td>\n      <td>544482664515121153</td>\n      <td>544482768328351744</td>\n      <td>0</td>\n      <td>&lt;a href=\"http://twitter.com/download/iphone\" r...</td>\n      <td>False</td>\n      <td>NaN</td>\n      <td>[{'id': 64643056, 'indices': [0, 7], 'id_str':...</td>\n      <td>...</td>\n      <td>0</td>\n      <td>64643056</td>\n      <td>False</td>\n      <td>NaN</td>\n      <td>NaN</td>\n      <td>64643056</td>\n      <td>en</td>\n      <td>2014-12-15 13:23:02+00:00</td>\n      <td>544482664515121152</td>\n      <td>NaN</td>\n    </tr>\n    <tr>\n      <th>hashtags</th>\n      <td>NaN</td>\n      <td>False</td>\n      <td>@RT_com ISLAM is being hijacked by ISIS.  #ill...</td>\n      <td>544482664515121153</td>\n      <td>544482768328351744</td>\n      <td>0</td>\n      <td>&lt;a href=\"http://twitter.com/download/iphone\" r...</td>\n      <td>False</td>\n      <td>NaN</td>\n      <td>[{'indices': [42, 57], 'text': 'illridewithyou'}]</td>\n      <td>...</td>\n      <td>0</td>\n      <td>64643056</td>\n      <td>False</td>\n      <td>NaN</td>\n      <td>NaN</td>\n      <td>64643056</td>\n      <td>en</td>\n      <td>2014-12-15 13:23:02+00:00</td>\n      <td>544482664515121152</td>\n      <td>NaN</td>\n    </tr>\n    <tr>\n      <th>urls</th>\n      <td>NaN</td>\n      <td>False</td>\n      <td>@RT_com ISLAM is being hijacked by ISIS.  #ill...</td>\n      <td>544482664515121153</td>\n      <td>544482768328351744</td>\n      <td>0</td>\n      <td>&lt;a href=\"http://twitter.com/download/iphone\" r...</td>\n      <td>False</td>\n      <td>NaN</td>\n      <td>[]</td>\n      <td>...</td>\n      <td>0</td>\n      <td>64643056</td>\n      <td>False</td>\n      <td>NaN</td>\n      <td>NaN</td>\n      <td>64643056</td>\n      <td>en</td>\n      <td>2014-12-15 13:23:02+00:00</td>\n      <td>544482664515121152</td>\n      <td>NaN</td>\n    </tr>\n    <tr>\n      <th>follow_request_sent</th>\n      <td>NaN</td>\n      <td>False</td>\n      <td>@RT_com ISLAM is being hijacked by ISIS.  #ill...</td>\n      <td>544482664515121153</td>\n      <td>544482768328351744</td>\n      <td>0</td>\n      <td>&lt;a href=\"http://twitter.com/download/iphone\" r...</td>\n      <td>False</td>\n      <td>NaN</td>\n      <td>NaN</td>\n      <td>...</td>\n      <td>0</td>\n      <td>64643056</td>\n      <td>False</td>\n      <td>False</td>\n      <td>NaN</td>\n      <td>64643056</td>\n      <td>en</td>\n      <td>2014-12-15 13:23:02+00:00</td>\n      <td>544482664515121152</td>\n      <td>NaN</td>\n    </tr>\n  </tbody>\n</table>\n<p>5 rows × 22 columns</p>\n</div>"
     },
     "execution_count": 60,
     "metadata": {},
     "output_type": "execute_result"
    }
   ],
   "source": [
    "df_true.head()"
   ],
   "metadata": {
    "collapsed": false,
    "pycharm": {
     "name": "#%%\n"
    }
   }
  },
  {
   "cell_type": "code",
   "execution_count": 61,
   "outputs": [
    {
     "data": {
      "text/plain": "                     contributors  truncated  \\\nsymbols                       NaN      False   \nuser_mentions                 NaN      False   \nhashtags                      NaN      False   \nurls                          NaN      False   \nfollow_request_sent           NaN      False   \n\n                                                                  text  \\\nsymbols              @JustNathaIy There's lots more on both sides.....   \nuser_mentions        @JustNathaIy There's lots more on both sides.....   \nhashtags             @JustNathaIy There's lots more on both sides.....   \nurls                 @JustNathaIy There's lots more on both sides.....   \nfollow_request_sent  @JustNathaIy There's lots more on both sides.....   \n\n                     in_reply_to_status_id                  id  \\\nsymbols                 544479493436354560  544498376537280512   \nuser_mentions           544479493436354560  544498376537280512   \nhashtags                544479493436354560  544498376537280512   \nurls                    544479493436354560  544498376537280512   \nfollow_request_sent     544479493436354560  544498376537280512   \n\n                     favorite_count  \\\nsymbols                           0   \nuser_mentions                     0   \nhashtags                          0   \nurls                              0   \nfollow_request_sent               0   \n\n                                                                source  \\\nsymbols              <a href=\"http://twitter.com\" rel=\"nofollow\">Tw...   \nuser_mentions        <a href=\"http://twitter.com\" rel=\"nofollow\">Tw...   \nhashtags             <a href=\"http://twitter.com\" rel=\"nofollow\">Tw...   \nurls                 <a href=\"http://twitter.com\" rel=\"nofollow\">Tw...   \nfollow_request_sent  <a href=\"http://twitter.com\" rel=\"nofollow\">Tw...   \n\n                     retweeted  coordinates  \\\nsymbols                  False          NaN   \nuser_mentions            False          NaN   \nhashtags                 False          NaN   \nurls                     False          NaN   \nfollow_request_sent      False          NaN   \n\n                                                              entities  ...  \\\nsymbols                                                             []  ...   \nuser_mentions        [{'id': 125562479, 'indices': [0, 12], 'id_str...  ...   \nhashtags                                                            []  ...   \nurls                                                                []  ...   \nfollow_request_sent                                                NaN  ...   \n\n                    retweet_count  in_reply_to_user_id  favorited   user  geo  \\\nsymbols                         0            125562479      False    NaN  NaN   \nuser_mentions                   0            125562479      False    NaN  NaN   \nhashtags                        0            125562479      False    NaN  NaN   \nurls                            0            125562479      False    NaN  NaN   \nfollow_request_sent             0            125562479      False  False  NaN   \n\n                    in_reply_to_user_id_str  lang                created_at  \\\nsymbols                           125562479    en 2014-12-15 14:25:03+00:00   \nuser_mentions                     125562479    en 2014-12-15 14:25:03+00:00   \nhashtags                          125562479    en 2014-12-15 14:25:03+00:00   \nurls                              125562479    en 2014-12-15 14:25:03+00:00   \nfollow_request_sent               125562479    en 2014-12-15 14:25:03+00:00   \n\n                    in_reply_to_status_id_str place  \nsymbols                    544479493436354560   NaN  \nuser_mentions              544479493436354560   NaN  \nhashtags                   544479493436354560   NaN  \nurls                       544479493436354560   NaN  \nfollow_request_sent        544479493436354560   NaN  \n\n[5 rows x 22 columns]",
      "text/html": "<div>\n<style scoped>\n    .dataframe tbody tr th:only-of-type {\n        vertical-align: middle;\n    }\n\n    .dataframe tbody tr th {\n        vertical-align: top;\n    }\n\n    .dataframe thead th {\n        text-align: right;\n    }\n</style>\n<table border=\"1\" class=\"dataframe\">\n  <thead>\n    <tr style=\"text-align: right;\">\n      <th></th>\n      <th>contributors</th>\n      <th>truncated</th>\n      <th>text</th>\n      <th>in_reply_to_status_id</th>\n      <th>id</th>\n      <th>favorite_count</th>\n      <th>source</th>\n      <th>retweeted</th>\n      <th>coordinates</th>\n      <th>entities</th>\n      <th>...</th>\n      <th>retweet_count</th>\n      <th>in_reply_to_user_id</th>\n      <th>favorited</th>\n      <th>user</th>\n      <th>geo</th>\n      <th>in_reply_to_user_id_str</th>\n      <th>lang</th>\n      <th>created_at</th>\n      <th>in_reply_to_status_id_str</th>\n      <th>place</th>\n    </tr>\n  </thead>\n  <tbody>\n    <tr>\n      <th>symbols</th>\n      <td>NaN</td>\n      <td>False</td>\n      <td>@JustNathaIy There's lots more on both sides.....</td>\n      <td>544479493436354560</td>\n      <td>544498376537280512</td>\n      <td>0</td>\n      <td>&lt;a href=\"http://twitter.com\" rel=\"nofollow\"&gt;Tw...</td>\n      <td>False</td>\n      <td>NaN</td>\n      <td>[]</td>\n      <td>...</td>\n      <td>0</td>\n      <td>125562479</td>\n      <td>False</td>\n      <td>NaN</td>\n      <td>NaN</td>\n      <td>125562479</td>\n      <td>en</td>\n      <td>2014-12-15 14:25:03+00:00</td>\n      <td>544479493436354560</td>\n      <td>NaN</td>\n    </tr>\n    <tr>\n      <th>user_mentions</th>\n      <td>NaN</td>\n      <td>False</td>\n      <td>@JustNathaIy There's lots more on both sides.....</td>\n      <td>544479493436354560</td>\n      <td>544498376537280512</td>\n      <td>0</td>\n      <td>&lt;a href=\"http://twitter.com\" rel=\"nofollow\"&gt;Tw...</td>\n      <td>False</td>\n      <td>NaN</td>\n      <td>[{'id': 125562479, 'indices': [0, 12], 'id_str...</td>\n      <td>...</td>\n      <td>0</td>\n      <td>125562479</td>\n      <td>False</td>\n      <td>NaN</td>\n      <td>NaN</td>\n      <td>125562479</td>\n      <td>en</td>\n      <td>2014-12-15 14:25:03+00:00</td>\n      <td>544479493436354560</td>\n      <td>NaN</td>\n    </tr>\n    <tr>\n      <th>hashtags</th>\n      <td>NaN</td>\n      <td>False</td>\n      <td>@JustNathaIy There's lots more on both sides.....</td>\n      <td>544479493436354560</td>\n      <td>544498376537280512</td>\n      <td>0</td>\n      <td>&lt;a href=\"http://twitter.com\" rel=\"nofollow\"&gt;Tw...</td>\n      <td>False</td>\n      <td>NaN</td>\n      <td>[]</td>\n      <td>...</td>\n      <td>0</td>\n      <td>125562479</td>\n      <td>False</td>\n      <td>NaN</td>\n      <td>NaN</td>\n      <td>125562479</td>\n      <td>en</td>\n      <td>2014-12-15 14:25:03+00:00</td>\n      <td>544479493436354560</td>\n      <td>NaN</td>\n    </tr>\n    <tr>\n      <th>urls</th>\n      <td>NaN</td>\n      <td>False</td>\n      <td>@JustNathaIy There's lots more on both sides.....</td>\n      <td>544479493436354560</td>\n      <td>544498376537280512</td>\n      <td>0</td>\n      <td>&lt;a href=\"http://twitter.com\" rel=\"nofollow\"&gt;Tw...</td>\n      <td>False</td>\n      <td>NaN</td>\n      <td>[]</td>\n      <td>...</td>\n      <td>0</td>\n      <td>125562479</td>\n      <td>False</td>\n      <td>NaN</td>\n      <td>NaN</td>\n      <td>125562479</td>\n      <td>en</td>\n      <td>2014-12-15 14:25:03+00:00</td>\n      <td>544479493436354560</td>\n      <td>NaN</td>\n    </tr>\n    <tr>\n      <th>follow_request_sent</th>\n      <td>NaN</td>\n      <td>False</td>\n      <td>@JustNathaIy There's lots more on both sides.....</td>\n      <td>544479493436354560</td>\n      <td>544498376537280512</td>\n      <td>0</td>\n      <td>&lt;a href=\"http://twitter.com\" rel=\"nofollow\"&gt;Tw...</td>\n      <td>False</td>\n      <td>NaN</td>\n      <td>NaN</td>\n      <td>...</td>\n      <td>0</td>\n      <td>125562479</td>\n      <td>False</td>\n      <td>False</td>\n      <td>NaN</td>\n      <td>125562479</td>\n      <td>en</td>\n      <td>2014-12-15 14:25:03+00:00</td>\n      <td>544479493436354560</td>\n      <td>NaN</td>\n    </tr>\n  </tbody>\n</table>\n<p>5 rows × 22 columns</p>\n</div>"
     },
     "execution_count": 61,
     "metadata": {},
     "output_type": "execute_result"
    }
   ],
   "source": [
    "df_rumors.head()"
   ],
   "metadata": {
    "collapsed": false,
    "pycharm": {
     "name": "#%%\n"
    }
   }
  },
  {
   "cell_type": "code",
   "execution_count": 62,
   "outputs": [
    {
     "name": "stdout",
     "output_type": "stream",
     "text": [
      "<class 'pandas.core.frame.DataFrame'>\n",
      "Index: 44 entries, symbols to is_translator\n",
      "Data columns (total 22 columns):\n",
      " #   Column                     Non-Null Count  Dtype              \n",
      "---  ------                     --------------  -----              \n",
      " 0   contributors               0 non-null      float64            \n",
      " 1   truncated                  44 non-null     bool               \n",
      " 2   text                       44 non-null     object             \n",
      " 3   in_reply_to_status_id      44 non-null     int64              \n",
      " 4   id                         44 non-null     int64              \n",
      " 5   favorite_count             44 non-null     int64              \n",
      " 6   source                     44 non-null     object             \n",
      " 7   retweeted                  44 non-null     bool               \n",
      " 8   coordinates                0 non-null      float64            \n",
      " 9   entities                   4 non-null      object             \n",
      " 10  in_reply_to_screen_name    44 non-null     object             \n",
      " 11  id_str                     44 non-null     int64              \n",
      " 12  retweet_count              44 non-null     int64              \n",
      " 13  in_reply_to_user_id        44 non-null     int64              \n",
      " 14  favorited                  44 non-null     bool               \n",
      " 15  user                       39 non-null     object             \n",
      " 16  geo                        0 non-null      float64            \n",
      " 17  in_reply_to_user_id_str    44 non-null     int64              \n",
      " 18  lang                       44 non-null     object             \n",
      " 19  created_at                 44 non-null     datetime64[ns, UTC]\n",
      " 20  in_reply_to_status_id_str  44 non-null     int64              \n",
      " 21  place                      0 non-null      float64            \n",
      "dtypes: bool(3), datetime64[ns, UTC](1), float64(4), int64(8), object(6)\n",
      "memory usage: 7.0+ KB\n"
     ]
    }
   ],
   "source": [
    "df_true.info()"
   ],
   "metadata": {
    "collapsed": false,
    "pycharm": {
     "name": "#%%\n"
    }
   }
  },
  {
   "cell_type": "code",
   "execution_count": null,
   "outputs": [],
   "source": [],
   "metadata": {
    "collapsed": false,
    "pycharm": {
     "name": "#%%\n"
    }
   }
  }
 ],
 "metadata": {
  "kernelspec": {
   "name": "pycharm-99298bfd",
   "language": "python",
   "display_name": "PyCharm (_project)"
  },
  "language_info": {
   "codemirror_mode": {
    "name": "ipython",
    "version": 2
   },
   "file_extension": ".py",
   "mimetype": "text/x-python",
   "name": "python",
   "nbconvert_exporter": "python",
   "pygments_lexer": "ipython2",
   "version": "2.7.6"
  }
 },
 "nbformat": 4,
 "nbformat_minor": 0
}