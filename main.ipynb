{
 "cells": [
  {
   "cell_type": "markdown",
   "metadata": {
    "collapsed": true,
    "pycharm": {
     "name": "#%% md\n"
    }
   },
   "source": [
    "# Answers to coding questions in deep learning\n",
    "Peeter Niidas"
   ]
  },
  {
   "cell_type": "code",
   "execution_count": 1,
   "outputs": [],
   "source": [
    "# Make some preparations\n",
    "\n",
    "import glob\n",
    "import json\n",
    "import pandas as pd\n",
    "import numpy as np\n",
    "import re\n",
    "import spacy\n",
    "from gensim.models import Word2Vec\n",
    "import os\n",
    "import sys\n",
    "from time import time\n",
    "\n",
    "import matplotlib.pyplot as plt\n",
    "#%tensorflow_version 1.x\n",
    "\n",
    "import tensorflow as tf\n",
    "tf.compat.v1.logging.set_verbosity(tf.compat.v1.logging.ERROR)"
   ],
   "metadata": {
    "collapsed": false,
    "pycharm": {
     "name": "#%%\n"
    }
   }
  },
  {
   "cell_type": "markdown",
   "source": [
    "1. Download either the PHEME5 or PHEME9 dataset.\n",
    "2. Choose any one event from the dataset and load its first 100 JSON files into\n",
    "python memory.\n",
    "3. Extract and load attributes such as source tweets, reply tweets, and favorites\n",
    "count, labels of the source tweets."
   ],
   "metadata": {
    "collapsed": false,
    "pycharm": {
     "name": "#%% md\n"
    }
   }
  },
  {
   "cell_type": "code",
   "execution_count": 2,
   "outputs": [],
   "source": [
    "# Get filenames and load data\n",
    "\n",
    "def read_rename_data (dirr, length):\n",
    "    path = dirr\n",
    "    df = pd.DataFrame()\n",
    "    for filename in glob.iglob(path + '**/*.json', recursive=True):\n",
    "        if 'source-tweet' in filename:\n",
    "            i = 1\n",
    "            f = open(filename)\n",
    "            data = json.load(f)\n",
    "            new_row = {'source_tweet': data['text'], 'favorite_count': data['favorite_count'], 'retweet_count':data['retweet_count']}\n",
    "            df = df.append(new_row, ignore_index=True)\n",
    "            f.close()\n",
    "        elif 'reactions' in filename:\n",
    "            f = open(filename)\n",
    "            data = json.load(f)\n",
    "            new_name = 'reply_' + str(i)\n",
    "            df.loc[df.index[-1], new_name] = data['text']\n",
    "            i += 1\n",
    "        if df.shape[0] == length:\n",
    "            return df\n",
    "    return df"
   ],
   "metadata": {
    "collapsed": false,
    "pycharm": {
     "name": "#%%\n"
    }
   }
  },
  {
   "cell_type": "code",
   "execution_count": 34,
   "outputs": [
    {
     "name": "stderr",
     "output_type": "stream",
     "text": [
      "/Library/Frameworks/Python.framework/Versions/3.8/lib/python3.8/site-packages/pandas/core/indexing.py:1684: PerformanceWarning: DataFrame is highly fragmented.  This is usually the result of calling `frame.insert` many times, which has poor performance.  Consider joining all columns at once using pd.concat(axis=1) instead.  To get a de-fragmented frame, use `newframe = frame.copy()`\n",
      "  self.obj[key] = infer_fill_value(value)\n"
     ]
    },
    {
     "data": {
      "text/plain": "(100, 344)"
     },
     "execution_count": 34,
     "metadata": {},
     "output_type": "execute_result"
    }
   ],
   "source": [
    "df_true = read_rename_data('./data/pheme-rnr-dataset/sydneysiege/non-rumours/', 100)\n",
    "df_true.shape"
   ],
   "metadata": {
    "collapsed": false,
    "pycharm": {
     "name": "#%%\n"
    }
   }
  },
  {
   "cell_type": "code",
   "execution_count": 4,
   "outputs": [
    {
     "data": {
      "text/plain": "(100, 94)"
     },
     "execution_count": 4,
     "metadata": {},
     "output_type": "execute_result"
    }
   ],
   "source": [
    "df_rumors = read_rename_data('./data/pheme-rnr-dataset/sydneysiege/rumours/', 100)\n",
    "df_rumors.shape"
   ],
   "metadata": {
    "collapsed": false,
    "pycharm": {
     "name": "#%%\n"
    }
   }
  },
  {
   "cell_type": "code",
   "execution_count": 35,
   "outputs": [
    {
     "data": {
      "text/plain": "                                        source_tweet  favorite_count  \\\n0  There are no verses in the Quran about Me want...          4533.0   \n1  Mosques, synagogues and churches are inviting ...           116.0   \n2  #illridewithyou: Viral Aussie solidarity amid ...            85.0   \n3  We continue to monitor the situation in #Sydne...            68.0   \n4  We love the #illridewithyou initiative. Spread...           106.0   \n\n   retweet_count                                            reply_1  \\\n0         4465.0  @withnodriver no shit sherlock. are you for re...   \n1          157.0  @elronxenu I'm surprised he hasn't been taken ...   \n2          148.0                 @MelonRouge I'll ride u and ur mom   \n3          138.0                                                NaN   \n4          156.0  @KatSiecris we agree. It's important to rememb...   \n\n                                             reply_2  \\\n0  @withnodriver @basznocz Religion doesnt have t...   \n1  @TeamOyeniyi Specifically: guy was on his way ...   \n2  @sirmomonothomo @MelonRouge \\nLol\\nKeep tweeti...   \n3                                                NaN   \n4  @AmnestyNSW this quote was the first thing I t...   \n\n                                             reply_3  \\\n0               @fury_jen @TheTweetOfGod blasphemer.   \n1  @TeamOyeniyi So long as he doesn't kill any ho...   \n2    @sirmomonothomo @RT_com truth hurts dogs breath   \n3                                                NaN   \n4                                                NaN   \n\n                                             reply_4  \\\n0   @runitright1 @TheTweetOfGod Sometime also Thor..   \n1  @elronxenu So is he just holed up until the bi...   \n2  @rhu71 @RT_com u look like ur waiting for a cu...   \n3                                                NaN   \n4                                                NaN   \n\n                                             reply_5  \\\n0  @Usairam1 mohamed liked to fuck little aisha. ...   \n1  @abcnewsSydney #sydneysiege Very disturbing ne...   \n2                 @sirmomonothomo #iwon'tridewithyou   \n3                                                NaN   \n4                                                NaN   \n\n                                             reply_6  \\\n0  @RStarovich @TheTweetOfGod Hahahha...you're ri...   \n1                @abcnewsSydney @jarrodmckenna Amen.   \n2           @RT_com Will Abbot shirtfront terrorist?   \n3                                                NaN   \n4                                                NaN   \n\n                                             reply_7  ... reply_332 reply_333  \\\n0  @Usairam1 @basznocz you're kidding they're mak...  ...       NaN       NaN   \n1  @elronxenu I'm inclined to think outside the s...  ...       NaN       NaN   \n2                    @RT_com ISIS is Islam is terror  ...       NaN       NaN   \n3                                                NaN  ...       NaN       NaN   \n4                                                NaN  ...       NaN       NaN   \n\n  reply_334 reply_335 reply_336 reply_337 reply_338 reply_339 reply_340  \\\n0       NaN       NaN       NaN       NaN       NaN       NaN       NaN   \n1       NaN       NaN       NaN       NaN       NaN       NaN       NaN   \n2       NaN       NaN       NaN       NaN       NaN       NaN       NaN   \n3       NaN       NaN       NaN       NaN       NaN       NaN       NaN   \n4       NaN       NaN       NaN       NaN       NaN       NaN       NaN   \n\n  reply_341  \n0       NaN  \n1       NaN  \n2       NaN  \n3       NaN  \n4       NaN  \n\n[5 rows x 344 columns]",
      "text/html": "<div>\n<style scoped>\n    .dataframe tbody tr th:only-of-type {\n        vertical-align: middle;\n    }\n\n    .dataframe tbody tr th {\n        vertical-align: top;\n    }\n\n    .dataframe thead th {\n        text-align: right;\n    }\n</style>\n<table border=\"1\" class=\"dataframe\">\n  <thead>\n    <tr style=\"text-align: right;\">\n      <th></th>\n      <th>source_tweet</th>\n      <th>favorite_count</th>\n      <th>retweet_count</th>\n      <th>reply_1</th>\n      <th>reply_2</th>\n      <th>reply_3</th>\n      <th>reply_4</th>\n      <th>reply_5</th>\n      <th>reply_6</th>\n      <th>reply_7</th>\n      <th>...</th>\n      <th>reply_332</th>\n      <th>reply_333</th>\n      <th>reply_334</th>\n      <th>reply_335</th>\n      <th>reply_336</th>\n      <th>reply_337</th>\n      <th>reply_338</th>\n      <th>reply_339</th>\n      <th>reply_340</th>\n      <th>reply_341</th>\n    </tr>\n  </thead>\n  <tbody>\n    <tr>\n      <th>0</th>\n      <td>There are no verses in the Quran about Me want...</td>\n      <td>4533.0</td>\n      <td>4465.0</td>\n      <td>@withnodriver no shit sherlock. are you for re...</td>\n      <td>@withnodriver @basznocz Religion doesnt have t...</td>\n      <td>@fury_jen @TheTweetOfGod blasphemer.</td>\n      <td>@runitright1 @TheTweetOfGod Sometime also Thor..</td>\n      <td>@Usairam1 mohamed liked to fuck little aisha. ...</td>\n      <td>@RStarovich @TheTweetOfGod Hahahha...you're ri...</td>\n      <td>@Usairam1 @basznocz you're kidding they're mak...</td>\n      <td>...</td>\n      <td>NaN</td>\n      <td>NaN</td>\n      <td>NaN</td>\n      <td>NaN</td>\n      <td>NaN</td>\n      <td>NaN</td>\n      <td>NaN</td>\n      <td>NaN</td>\n      <td>NaN</td>\n      <td>NaN</td>\n    </tr>\n    <tr>\n      <th>1</th>\n      <td>Mosques, synagogues and churches are inviting ...</td>\n      <td>116.0</td>\n      <td>157.0</td>\n      <td>@elronxenu I'm surprised he hasn't been taken ...</td>\n      <td>@TeamOyeniyi Specifically: guy was on his way ...</td>\n      <td>@TeamOyeniyi So long as he doesn't kill any ho...</td>\n      <td>@elronxenu So is he just holed up until the bi...</td>\n      <td>@abcnewsSydney #sydneysiege Very disturbing ne...</td>\n      <td>@abcnewsSydney @jarrodmckenna Amen.</td>\n      <td>@elronxenu I'm inclined to think outside the s...</td>\n      <td>...</td>\n      <td>NaN</td>\n      <td>NaN</td>\n      <td>NaN</td>\n      <td>NaN</td>\n      <td>NaN</td>\n      <td>NaN</td>\n      <td>NaN</td>\n      <td>NaN</td>\n      <td>NaN</td>\n      <td>NaN</td>\n    </tr>\n    <tr>\n      <th>2</th>\n      <td>#illridewithyou: Viral Aussie solidarity amid ...</td>\n      <td>85.0</td>\n      <td>148.0</td>\n      <td>@MelonRouge I'll ride u and ur mom</td>\n      <td>@sirmomonothomo @MelonRouge \\nLol\\nKeep tweeti...</td>\n      <td>@sirmomonothomo @RT_com truth hurts dogs breath</td>\n      <td>@rhu71 @RT_com u look like ur waiting for a cu...</td>\n      <td>@sirmomonothomo #iwon'tridewithyou</td>\n      <td>@RT_com Will Abbot shirtfront terrorist?</td>\n      <td>@RT_com ISIS is Islam is terror</td>\n      <td>...</td>\n      <td>NaN</td>\n      <td>NaN</td>\n      <td>NaN</td>\n      <td>NaN</td>\n      <td>NaN</td>\n      <td>NaN</td>\n      <td>NaN</td>\n      <td>NaN</td>\n      <td>NaN</td>\n      <td>NaN</td>\n    </tr>\n    <tr>\n      <th>3</th>\n      <td>We continue to monitor the situation in #Sydne...</td>\n      <td>68.0</td>\n      <td>138.0</td>\n      <td>NaN</td>\n      <td>NaN</td>\n      <td>NaN</td>\n      <td>NaN</td>\n      <td>NaN</td>\n      <td>NaN</td>\n      <td>NaN</td>\n      <td>...</td>\n      <td>NaN</td>\n      <td>NaN</td>\n      <td>NaN</td>\n      <td>NaN</td>\n      <td>NaN</td>\n      <td>NaN</td>\n      <td>NaN</td>\n      <td>NaN</td>\n      <td>NaN</td>\n      <td>NaN</td>\n    </tr>\n    <tr>\n      <th>4</th>\n      <td>We love the #illridewithyou initiative. Spread...</td>\n      <td>106.0</td>\n      <td>156.0</td>\n      <td>@KatSiecris we agree. It's important to rememb...</td>\n      <td>@AmnestyNSW this quote was the first thing I t...</td>\n      <td>NaN</td>\n      <td>NaN</td>\n      <td>NaN</td>\n      <td>NaN</td>\n      <td>NaN</td>\n      <td>...</td>\n      <td>NaN</td>\n      <td>NaN</td>\n      <td>NaN</td>\n      <td>NaN</td>\n      <td>NaN</td>\n      <td>NaN</td>\n      <td>NaN</td>\n      <td>NaN</td>\n      <td>NaN</td>\n      <td>NaN</td>\n    </tr>\n  </tbody>\n</table>\n<p>5 rows × 344 columns</p>\n</div>"
     },
     "execution_count": 35,
     "metadata": {},
     "output_type": "execute_result"
    }
   ],
   "source": [
    "df_true.head()"
   ],
   "metadata": {
    "collapsed": false,
    "pycharm": {
     "name": "#%%\n"
    }
   }
  },
  {
   "cell_type": "markdown",
   "source": [
    "Cleaning data"
   ],
   "metadata": {
    "collapsed": false,
    "pycharm": {
     "name": "#%% md\n"
    }
   }
  },
  {
   "cell_type": "code",
   "execution_count": 36,
   "outputs": [
    {
     "data": {
      "text/plain": "<generator object <genexpr> at 0x7feb598e1900>"
     },
     "execution_count": 36,
     "metadata": {},
     "output_type": "execute_result"
    }
   ],
   "source": [
    "nlp = spacy.load('en_core_web_sm', disable=['ner', 'parser'])\n",
    "\n",
    "def cleaning (entry):\n",
    "    txt = [token.lemma_ for token in doc if not token.is_stop]\n",
    "    if len(txt) > 2:\n",
    "        return ' '.join(txt)\n",
    "\n",
    "brief_cleaning = (re.sub(\"[^A-Za-z']+\", ' ', str(row)).lower() for row in df_true['source_tweet'])\n",
    "brief_cleaning"
   ],
   "metadata": {
    "collapsed": false,
    "pycharm": {
     "name": "#%%\n"
    }
   }
  },
  {
   "cell_type": "code",
   "execution_count": 37,
   "outputs": [
    {
     "data": {
      "text/plain": "<generator object <genexpr> at 0x7feb598e1900>"
     },
     "execution_count": 37,
     "metadata": {},
     "output_type": "execute_result"
    }
   ],
   "source": [
    "brief_cleaning"
   ],
   "metadata": {
    "collapsed": false,
    "pycharm": {
     "name": "#%%\n"
    }
   }
  },
  {
   "cell_type": "code",
   "execution_count": 13,
   "outputs": [
    {
     "ename": "NameError",
     "evalue": "name 'doc' is not defined",
     "output_type": "error",
     "traceback": [
      "\u001B[0;31m---------------------------------------------------------------------------\u001B[0m",
      "\u001B[0;31mNameError\u001B[0m                                 Traceback (most recent call last)",
      "\u001B[0;32m/var/folders/8y/yq5dpggj5gq0006wv9sxbx1h0000gn/T/ipykernel_42227/838501973.py\u001B[0m in \u001B[0;36m<module>\u001B[0;34m\u001B[0m\n\u001B[1;32m      1\u001B[0m \u001B[0mt\u001B[0m \u001B[0;34m=\u001B[0m \u001B[0mtime\u001B[0m\u001B[0;34m(\u001B[0m\u001B[0;34m)\u001B[0m\u001B[0;34m\u001B[0m\u001B[0;34m\u001B[0m\u001B[0m\n\u001B[0;32m----> 2\u001B[0;31m \u001B[0mtxt\u001B[0m \u001B[0;34m=\u001B[0m \u001B[0;34m[\u001B[0m\u001B[0mcleaning\u001B[0m\u001B[0;34m(\u001B[0m\u001B[0mdoc\u001B[0m\u001B[0;34m)\u001B[0m \u001B[0;32mfor\u001B[0m \u001B[0mdoc\u001B[0m \u001B[0;32min\u001B[0m \u001B[0mnlp\u001B[0m\u001B[0;34m.\u001B[0m\u001B[0mpipe\u001B[0m\u001B[0;34m(\u001B[0m\u001B[0mbrief_cleaning\u001B[0m\u001B[0;34m,\u001B[0m \u001B[0mbatch_size\u001B[0m\u001B[0;34m=\u001B[0m\u001B[0;36m5000\u001B[0m\u001B[0;34m,\u001B[0m \u001B[0mn_process\u001B[0m\u001B[0;34m=\u001B[0m\u001B[0;34m-\u001B[0m\u001B[0;36m1\u001B[0m\u001B[0;34m)\u001B[0m\u001B[0;34m]\u001B[0m\u001B[0;34m\u001B[0m\u001B[0;34m\u001B[0m\u001B[0m\n\u001B[0m\u001B[1;32m      3\u001B[0m \u001B[0mprint\u001B[0m\u001B[0;34m(\u001B[0m\u001B[0;34m'Time to clean up everything: {} mins'\u001B[0m\u001B[0;34m.\u001B[0m\u001B[0mformat\u001B[0m\u001B[0;34m(\u001B[0m\u001B[0mround\u001B[0m\u001B[0;34m(\u001B[0m\u001B[0;34m(\u001B[0m\u001B[0mtime\u001B[0m\u001B[0;34m(\u001B[0m\u001B[0;34m)\u001B[0m \u001B[0;34m-\u001B[0m \u001B[0mt\u001B[0m\u001B[0;34m)\u001B[0m \u001B[0;34m/\u001B[0m \u001B[0;36m60\u001B[0m\u001B[0;34m,\u001B[0m \u001B[0;36m2\u001B[0m\u001B[0;34m)\u001B[0m\u001B[0;34m)\u001B[0m\u001B[0;34m)\u001B[0m\u001B[0;34m\u001B[0m\u001B[0;34m\u001B[0m\u001B[0m\n\u001B[1;32m      4\u001B[0m \u001B[0;34m\u001B[0m\u001B[0m\n\u001B[1;32m      5\u001B[0m \u001B[0;34m\u001B[0m\u001B[0m\n",
      "\u001B[0;32m/var/folders/8y/yq5dpggj5gq0006wv9sxbx1h0000gn/T/ipykernel_42227/838501973.py\u001B[0m in \u001B[0;36m<listcomp>\u001B[0;34m(.0)\u001B[0m\n\u001B[1;32m      1\u001B[0m \u001B[0mt\u001B[0m \u001B[0;34m=\u001B[0m \u001B[0mtime\u001B[0m\u001B[0;34m(\u001B[0m\u001B[0;34m)\u001B[0m\u001B[0;34m\u001B[0m\u001B[0;34m\u001B[0m\u001B[0m\n\u001B[0;32m----> 2\u001B[0;31m \u001B[0mtxt\u001B[0m \u001B[0;34m=\u001B[0m \u001B[0;34m[\u001B[0m\u001B[0mcleaning\u001B[0m\u001B[0;34m(\u001B[0m\u001B[0mdoc\u001B[0m\u001B[0;34m)\u001B[0m \u001B[0;32mfor\u001B[0m \u001B[0mdoc\u001B[0m \u001B[0;32min\u001B[0m \u001B[0mnlp\u001B[0m\u001B[0;34m.\u001B[0m\u001B[0mpipe\u001B[0m\u001B[0;34m(\u001B[0m\u001B[0mbrief_cleaning\u001B[0m\u001B[0;34m,\u001B[0m \u001B[0mbatch_size\u001B[0m\u001B[0;34m=\u001B[0m\u001B[0;36m5000\u001B[0m\u001B[0;34m,\u001B[0m \u001B[0mn_process\u001B[0m\u001B[0;34m=\u001B[0m\u001B[0;34m-\u001B[0m\u001B[0;36m1\u001B[0m\u001B[0;34m)\u001B[0m\u001B[0;34m]\u001B[0m\u001B[0;34m\u001B[0m\u001B[0;34m\u001B[0m\u001B[0m\n\u001B[0m\u001B[1;32m      3\u001B[0m \u001B[0mprint\u001B[0m\u001B[0;34m(\u001B[0m\u001B[0;34m'Time to clean up everything: {} mins'\u001B[0m\u001B[0;34m.\u001B[0m\u001B[0mformat\u001B[0m\u001B[0;34m(\u001B[0m\u001B[0mround\u001B[0m\u001B[0;34m(\u001B[0m\u001B[0;34m(\u001B[0m\u001B[0mtime\u001B[0m\u001B[0;34m(\u001B[0m\u001B[0;34m)\u001B[0m \u001B[0;34m-\u001B[0m \u001B[0mt\u001B[0m\u001B[0;34m)\u001B[0m \u001B[0;34m/\u001B[0m \u001B[0;36m60\u001B[0m\u001B[0;34m,\u001B[0m \u001B[0;36m2\u001B[0m\u001B[0;34m)\u001B[0m\u001B[0;34m)\u001B[0m\u001B[0;34m)\u001B[0m\u001B[0;34m\u001B[0m\u001B[0;34m\u001B[0m\u001B[0m\n\u001B[1;32m      4\u001B[0m \u001B[0;34m\u001B[0m\u001B[0m\n\u001B[1;32m      5\u001B[0m \u001B[0;34m\u001B[0m\u001B[0m\n",
      "\u001B[0;32m/var/folders/8y/yq5dpggj5gq0006wv9sxbx1h0000gn/T/ipykernel_42227/1583701278.py\u001B[0m in \u001B[0;36mcleaning\u001B[0;34m(entry)\u001B[0m\n\u001B[1;32m      2\u001B[0m \u001B[0;34m\u001B[0m\u001B[0m\n\u001B[1;32m      3\u001B[0m \u001B[0;32mdef\u001B[0m \u001B[0mcleaning\u001B[0m \u001B[0;34m(\u001B[0m\u001B[0mentry\u001B[0m\u001B[0;34m)\u001B[0m\u001B[0;34m:\u001B[0m\u001B[0;34m\u001B[0m\u001B[0;34m\u001B[0m\u001B[0m\n\u001B[0;32m----> 4\u001B[0;31m     \u001B[0mtxt\u001B[0m \u001B[0;34m=\u001B[0m \u001B[0;34m[\u001B[0m\u001B[0mtoken\u001B[0m\u001B[0;34m.\u001B[0m\u001B[0mlemma_\u001B[0m \u001B[0;32mfor\u001B[0m \u001B[0mtoken\u001B[0m \u001B[0;32min\u001B[0m \u001B[0mdoc\u001B[0m \u001B[0;32mif\u001B[0m \u001B[0;32mnot\u001B[0m \u001B[0mtoken\u001B[0m\u001B[0;34m.\u001B[0m\u001B[0mis_stop\u001B[0m\u001B[0;34m]\u001B[0m\u001B[0;34m\u001B[0m\u001B[0;34m\u001B[0m\u001B[0m\n\u001B[0m\u001B[1;32m      5\u001B[0m     \u001B[0;32mif\u001B[0m \u001B[0mlen\u001B[0m\u001B[0;34m(\u001B[0m\u001B[0mtxt\u001B[0m\u001B[0;34m)\u001B[0m \u001B[0;34m>\u001B[0m \u001B[0;36m2\u001B[0m\u001B[0;34m:\u001B[0m\u001B[0;34m\u001B[0m\u001B[0;34m\u001B[0m\u001B[0m\n\u001B[1;32m      6\u001B[0m         \u001B[0;32mreturn\u001B[0m \u001B[0;34m' '\u001B[0m\u001B[0;34m.\u001B[0m\u001B[0mjoin\u001B[0m\u001B[0;34m(\u001B[0m\u001B[0mtxt\u001B[0m\u001B[0;34m)\u001B[0m\u001B[0;34m\u001B[0m\u001B[0;34m\u001B[0m\u001B[0m\n",
      "\u001B[0;31mNameError\u001B[0m: name 'doc' is not defined"
     ]
    }
   ],
   "source": [
    "t = time()\n",
    "txt = [cleaning(doc) for doc in nlp.pipe(brief_cleaning, batch_size=5000, n_process=-1)]\n",
    "print('Time to clean up everything: {} mins'.format(round((time() - t) / 60, 2)))\n"
   ],
   "metadata": {
    "collapsed": false,
    "pycharm": {
     "name": "#%%\n"
    }
   }
  },
  {
   "cell_type": "code",
   "execution_count": 38,
   "outputs": [
    {
     "name": "stdout",
     "output_type": "stream",
     "text": [
      "Time to clean up everything: 0.0 mins\n"
     ]
    }
   ],
   "source": [
    "# remade previous code (got somehting as txt, unused cleaning def)\n",
    "\n",
    "t = time()\n",
    "txt = nlp.pipe(brief_cleaning, batch_size=5000, n_process=-1)\n",
    "print('Time to clean up everything: {} mins'.format(round((time() - t) / 60, 2)))"
   ],
   "metadata": {
    "collapsed": false,
    "pycharm": {
     "name": "#%%\n"
    }
   }
  },
  {
   "cell_type": "code",
   "execution_count": 39,
   "outputs": [
    {
     "data": {
      "text/plain": "(100, 1)"
     },
     "execution_count": 39,
     "metadata": {},
     "output_type": "execute_result"
    }
   ],
   "source": [
    "df_clean = pd.DataFrame({'clean': txt})\n",
    "df_clean.shape\n"
   ],
   "metadata": {
    "collapsed": false,
    "pycharm": {
     "name": "#%%\n"
    }
   }
  },
  {
   "cell_type": "code",
   "execution_count": 40,
   "outputs": [
    {
     "data": {
      "text/plain": "                                                clean\n0   (there, are, no, verses, in, the, quran, about...\n1   (mosques, synagogues, and, churches, are, invi...\n2   ( , illridewithyou, viral, aussie, solidarity,...\n3   (we, continue, to, monitor, the, situation, in...\n4   (we, love, the, illridewithyou, initiative, sp...\n..                                                ...\n95  (praying, for, the, hostages, and, family, 's,...\n96     (thinking, of, everyone, in, sydney, today, x)\n97  (the, sydney, harbour, bridge, is, not, closed...\n98  (breaking, news, sydneysiege, is, over, accord...\n99  (sending, love, to, sydney, illridewithyou, sy...\n\n[100 rows x 1 columns]",
      "text/html": "<div>\n<style scoped>\n    .dataframe tbody tr th:only-of-type {\n        vertical-align: middle;\n    }\n\n    .dataframe tbody tr th {\n        vertical-align: top;\n    }\n\n    .dataframe thead th {\n        text-align: right;\n    }\n</style>\n<table border=\"1\" class=\"dataframe\">\n  <thead>\n    <tr style=\"text-align: right;\">\n      <th></th>\n      <th>clean</th>\n    </tr>\n  </thead>\n  <tbody>\n    <tr>\n      <th>0</th>\n      <td>(there, are, no, verses, in, the, quran, about...</td>\n    </tr>\n    <tr>\n      <th>1</th>\n      <td>(mosques, synagogues, and, churches, are, invi...</td>\n    </tr>\n    <tr>\n      <th>2</th>\n      <td>( , illridewithyou, viral, aussie, solidarity,...</td>\n    </tr>\n    <tr>\n      <th>3</th>\n      <td>(we, continue, to, monitor, the, situation, in...</td>\n    </tr>\n    <tr>\n      <th>4</th>\n      <td>(we, love, the, illridewithyou, initiative, sp...</td>\n    </tr>\n    <tr>\n      <th>...</th>\n      <td>...</td>\n    </tr>\n    <tr>\n      <th>95</th>\n      <td>(praying, for, the, hostages, and, family, 's,...</td>\n    </tr>\n    <tr>\n      <th>96</th>\n      <td>(thinking, of, everyone, in, sydney, today, x)</td>\n    </tr>\n    <tr>\n      <th>97</th>\n      <td>(the, sydney, harbour, bridge, is, not, closed...</td>\n    </tr>\n    <tr>\n      <th>98</th>\n      <td>(breaking, news, sydneysiege, is, over, accord...</td>\n    </tr>\n    <tr>\n      <th>99</th>\n      <td>(sending, love, to, sydney, illridewithyou, sy...</td>\n    </tr>\n  </tbody>\n</table>\n<p>100 rows × 1 columns</p>\n</div>"
     },
     "execution_count": 40,
     "metadata": {},
     "output_type": "execute_result"
    }
   ],
   "source": [
    "df_clean"
   ],
   "metadata": {
    "collapsed": false,
    "pycharm": {
     "name": "#%%\n"
    }
   }
  },
  {
   "cell_type": "code",
   "execution_count": 28,
   "outputs": [],
   "source": [
    "from gensim.models.phrases import Phrases, Phraser"
   ],
   "metadata": {
    "collapsed": false,
    "pycharm": {
     "name": "#%%\n"
    }
   }
  },
  {
   "cell_type": "code",
   "execution_count": 42,
   "outputs": [],
   "source": [
    "#sent = [row.split() for row in df_clean['clean']]\n",
    "sent = [row for row in df_clean['clean']]"
   ],
   "metadata": {
    "collapsed": false,
    "pycharm": {
     "name": "#%%\n"
    }
   }
  },
  {
   "cell_type": "code",
   "execution_count": 43,
   "outputs": [
    {
     "data": {
      "text/plain": "[there are no verses in the quran about me wanting anyone to hold hostages in a chocolate shop in sydney you terrorist fucks ,\n mosques synagogues and churches are inviting the public to pray for sydney hostages tonight sydneysiege,\n  illridewithyou viral aussie solidarity amid sydneysiege islamic state links http t co ubuxbixkdl http t co vqcuwegdqh,\n we continue to monitor the situation in sydney closely i've been in touch with juliebishopmp and expressed our thoughts and prayers ,\n we love the illridewithyou initiative spread love and compassion thoughts are with all those affected sydney http t co ek uycpkdn,\n sydney siege has now hit the hour mark live with latest summary of events http t co iht o tvtr http t co cxebiksp r,\n if you're taking selfies outside the sydneysiege hostage situation you seriously need to reevaluate your life http t co i wkmeof,\n the lebanese muslim association has issued a statement condemning sydneysiege and calling for calm http t co z hcibpaha,\n on the sydneysiege all our people are safe amp accounted for after our martin place studios were evacuated our thoughts with all involved ,\n to the tourists taking selfies outside the sydneysiege how would you like to be in that caf http t co cc boysmjg,\n  markwburrows says the sydneysiege gunman is reportedly well known to both police and the media http t co gifogn mgm,\n video footage shows police storming sydney cafe http t co u awpvmdm sydneysiege,\n sky news reporter campricenews at the scene of the sydneysiege live now on sky news http t co fwfefoika https t co fxegnved ,\n let's keep in mind that no one associates the kkk with christianity sydneysiege,\n a thousand words in one picture the police have been absolutely amazing today sydneysiege http t co w gt rlyes,\n  breaking sydneysiege latest armed police have stormed cafe multiple hostages freed paramedics entered scene http t co gl dy pyn,\n i could not be prouder of all of you i love this country australia australiastrong illridewithyou sydney http t co i s igrgnq,\n what the hell is wrong with people taking selfies m from the lindt cafe sydneysiege http t co r mnzcesod ,\n i cant sleep knowing just minutes away innocent people have been hostages for almost hours please pray for the hostages and for sydney,\n australia's reaction to the sydneysiege is magnificent illridewithyou http t co reojbzpxd http t co flkzyfxtc ,\n praying for sydney these crazies have no idea what islam is yet have the hubris to act in the name of it despicable ,\n latest update on the situation in martin place from nswpolice sydneysiege http t co q plmuiaes,\n why are ppl tap dancing around what is likely happening in sydney are we worried we may offend a terrorist prayers sydneysiege,\n more than hours on night falls on sydney as hostages remain inside cafe http t co o ggjyxw c sydneysiege http t co svf iyewc,\n number of hostages taken by the amish today zero lt this is what a religion of peace looks like sydneysiege,\n to people taking selfies at sydneysiege when you return home look at your selfie amp see what an unconscious blithering idiot looks like ,\n don't forget at this moment there are thousands of muslims in australia rejoicing sydneysiege martinplace auspol http t co ehp okt f,\n insanity jihad comes australia amp liberal lunatics are concerned with political correctness sydneysiege tcot http t co yitcqlja a,\n today the threat of terrorism is higher than it was yrs ago a result of support for terror by the us sydneysiege http t co gl vosnj x,\n praying for sydney also thank heavens for streaming foreign networks because american media is completely mia ,\n thinking about all my mates in sydney hope everyone is okay ,\n respect to the people of sydney for showing us that solidarity is the best way to deal with extremism illridewithyou,\n in the hours everyone has focused on the hostage situation in sydney more americans died from gunshots momsdemand gunsense,\n hats off to you guys you're awesome faith in humanity restored sydneysiege illridewithyou http t co iazcctca h,\n when the hostages escaped the gunman could be seen from here getting extremely agitated shouting at remaining hostages,\n breaking sydney hostage taker believed to be self styled muslim cleric facing string of violent charges ,\n we are calling on all to prayforhostages amp that australia will not be hostage to fear amp hate sydneysiege http t co qaznfziuwa,\n  sydneysiege is likely being carried out by a 'lone wolf' with minimal links to organized terror groups expert says http t co ynpfmqfgmj,\n sydney siege ends as police storm lindt cafe and hostages run out http t co ek eyhbjxa,\n australians use illridewithyou hashtag in solidarity with muslims during sydney siege http t co h kwfwnyl,\n australia's reaction to the sydneysiege is magnificent http t co lq vjkwrey illridewithyou http t co p khif n,\n praying for the people of sydney sydneysiege all we need is peace in this world sheesh ,\n sydney attack latest th hour people escaped gunman demands speak to pm isis flag claims he has bombs with him amp in city,\n the sydneysiege perpetrators target all citizens irrespective of their faith so please cut it out with the anti muslim bigotry on twitter,\n female hostage appears to turn off the lights at the lindt cafe tonight http t co t quzxsrte sydneysiege http t co p p tylyeo,\n it'll be hard sleeping tonight knowing innocent people not far from me have been in fear for over hours sydneysiege prayforsydney,\n australian prime minister tony abbott addressing incident in sydney watch live on cnngo http t co hahu mdtuj,\n the fact that any religious loner could do this is exactly what isil aims to inspire it's their modus operandi sydneysiege,\n sydney muslims say thanks illridewithyou sydneysiege via petergouldart http t co m n y ,\n muslim a follower of the religion of islam terrorist a person who engages in inhumane and violent acts not the same sydneysiege,\n australian pm tony abbott says it is unclear if sydneysiege is politically motivated http t co ejbnff kdw http t co n vakbcaqe,\n  illridewithyou sydney you're amazing,\n can we add daily telegraph to suspected terror cells within aus their pm edition did more damage than any gunman ever could sydneysiege,\n  illridewithyou hashtag offers solidarity with sydney's muslims after cafe siege http t co mxawk rqq sydneysiege,\n us police needs to learn from aussie police in dealing with crisis patience and negotiations not shoot first think later sydneysiege,\n live infosys employee among hostages at sydney cafe http t co cfxx cuhys http t co dvfak lz d,\n man haron monis named as the sydneysiege gunman may have a fetish for self publicity http t co udkysqurct http t co vndbnokdt ,\n and then came illridewithyou people offering to accompany those who fear for their safety on public transport hope sydneysiege,\n aussies tweet illridewithyou to muslims who might be scared to travel alone sydneysiege http t co iwtt j sj http t co vanoo rndd,\n if those hostages could wait for hours without knowing if they'd die you can wait for an official report on the situation sydneysiege,\n australia is home to some of the greatest people i know my heart goes out to everyone affected by today s crisis in sydney ,\n answer of australia to terrorism imam rabbi and priest come together to pray for the hostages sydneysiege http t co pucwfkacbr,\n subscribe to our sydneysiege twitter list for more updates http t co eg wk wxu http t co qhrxcgqnbm,\n great to see those shitbags at the dailytelegraph have completely misread to mood of sydney and the nation completely out of touch,\n religious symbols are being hijacked once again by those who wish to further their own political agendas sydneysiege,\n just in guman in sydneysiege identified as man haron monis a radical muslim cleric http t co pa lydelvu http t co z qqlkstq ,\n police have confirmed the sydneysiege is now over after more than hours http t co mz o bi kc http t co ieesexxaon,\n its confirmed sydney terrorists are pious muslims that should make sagarikaghose bdutt happy all muslims are not like that ,\n praying for this insanity to stop sydneysiege,\n breaking sydney hostage situation is over nswpolice say http t co k vtfl uev http t co izk rgdeot,\n sydney attack hostages at sydney cafe hostages gunmen hostages seen holding arabic flag stay with pzfeed for the latest ,\n the silence you hear is muslims not renouncing this terror attack sydneysiege,\n north east doesn't get reported because it's far off from main cities editors argue guess sydney is closer to india than imphal ,\n cnn hasn't been able to rule out the sydney tea party in the australian hostage crisis ,\n breaking news australian authorities confirm that the sydneysiege is over and all hostages have been freed ,\n bbc's frank gardner on sydneysiege this is not a sophisticated siege the gunman has got the wrong islamic flag r today,\n lots of love and prayers for sydney i hope everyone's okay mtvstars one direction http t co huoylzxwxi,\n the sydneysiege only works to sabotage the message islam ,\n media release mosques synagogues and churches open tonight to pray for sydney hostages and national unity http t co zbko k uea,\n  sydneysiege entering th hour at least hostages hostages escaped motivation amp demands unknown gunman rotating hostages,\n you say not all muslims are monsters imagine a bowl of m amp ms are poisoned would you eat a handful sydneysiege http t co j ualdhcie,\n friendly reminder sydneysiege http t co auo vbapgu,\n because narcissism doesn't take a break mkarolian these people are taking selfies on scene of the sydneysiege http t co zbkojftye,\n a female hostage stands by the front entrance of the cafe as she turns the lights off in sydney sydneysiege http t co qnfcmv yzt,\n nsw police police urge the media to be responsible in their reporting speculation can cause unnecessary alarm sydneysiege,\n police have specifically requested media outlets not report the contents of the conversations with hostages sydneysiege,\n dear ozzie media and cnn what the f is 'islamic writing' that's arabic no one calls comic sans 'christianist writing' sydneysiege,\n i'm so happy to see sydney siders saying illridewithyou to muslim people who fear abuse on public transport following sydneysiege,\n  illridewithyou is the best thing to come out of all the shit that happened in sydney today proud to see aussies looking after eachother ,\n nsw police police urge the media to be responsible in their reporting speculation can cause unnecessary alarm sydneysiege,\n you gotta admire the ability of daily tele editors to resist fads like fact checking sydneysiege,\n the sydney attack gunman identified as sheikh man haron monis sydneycafesiege sydneysiege http t co wuppliupbk,\n all these people offering a ride with muslims know that whats done was by idiots not muslims sydneysiege http t co vgn ve ,\n terrible scenes in sydney at the moment i prey it ends peacefully,\n this is so depressing americans respond to sydneysiege http t co hiahn dl ,\n praying for the hostages and family's in sydney ,\n thinking of everyone in sydney today x,\n the sydney harbour bridge is not closed there was an accident on the cahill expressway unrelated to the sydneysiege ,\n breaking news sydneysiege is over according to police http t co p qlg mn http t co mtizwlhawu,\n sending love to sydney illridewithyou sydneysiege http t co cfdtyzehdp]"
     },
     "execution_count": 43,
     "metadata": {},
     "output_type": "execute_result"
    }
   ],
   "source": [
    "# not working\n",
    "phrases = Phrases(sent, min_count=30, progress_per=10000)"
   ],
   "metadata": {
    "collapsed": false,
    "pycharm": {
     "name": "#%%\n"
    }
   }
  },
  {
   "cell_type": "code",
   "execution_count": 45,
   "outputs": [
    {
     "ename": "NameError",
     "evalue": "name 'bigram' is not defined",
     "output_type": "error",
     "traceback": [
      "\u001B[0;31m---------------------------------------------------------------------------\u001B[0m",
      "\u001B[0;31mNameError\u001B[0m                                 Traceback (most recent call last)",
      "\u001B[0;32m/var/folders/8y/yq5dpggj5gq0006wv9sxbx1h0000gn/T/ipykernel_42227/1419247492.py\u001B[0m in \u001B[0;36m<module>\u001B[0;34m\u001B[0m\n\u001B[0;32m----> 1\u001B[0;31m \u001B[0msentences\u001B[0m \u001B[0;34m=\u001B[0m \u001B[0mbigram\u001B[0m\u001B[0;34m[\u001B[0m\u001B[0msent\u001B[0m\u001B[0;34m]\u001B[0m\u001B[0;34m\u001B[0m\u001B[0;34m\u001B[0m\u001B[0m\n\u001B[0m\u001B[1;32m      2\u001B[0m \u001B[0;34m\u001B[0m\u001B[0m\n\u001B[1;32m      3\u001B[0m \u001B[0;34m\u001B[0m\u001B[0m\n",
      "\u001B[0;31mNameError\u001B[0m: name 'bigram' is not defined"
     ]
    }
   ],
   "source": [
    "# related to previous\n",
    "sentences = bigram[sent]\n"
   ],
   "metadata": {
    "collapsed": false,
    "pycharm": {
     "name": "#%%\n"
    }
   }
  },
  {
   "cell_type": "code",
   "execution_count": null,
   "outputs": [],
   "source": [
    "# most frequent words (edited) - not working, depends on previous\n",
    "\n",
    "word_freq = defaultdict(int)\n",
    "for sent in sentences:\n",
    "    for i in sent:\n",
    "        word_freq[i] += 1\n",
    "len(word_freq)"
   ],
   "metadata": {
    "collapsed": false,
    "pycharm": {
     "name": "#%%\n"
    }
   }
  },
  {
   "cell_type": "code",
   "execution_count": null,
   "outputs": [],
   "source": [
    "\n",
    "# testing something\n",
    "\n",
    "nlp = spacy.load(\"en_core_web_sm\")\n",
    "for text in nlp.pipe(iter(df_true['source_tweet']), batch_size = 1000, n_process=-1):\n",
    "    for token in text:\n",
    "        print(token)\n",
    "    print('\\n')\n"
   ],
   "metadata": {
    "collapsed": false,
    "pycharm": {
     "name": "#%%\n"
    }
   }
  },
  {
   "cell_type": "code",
   "execution_count": null,
   "outputs": [],
   "source": [
    "import gensim\n",
    "\n",
    "\n",
    "import logging  # Setting up the loggings to monitor gensim\n",
    "logging.basicConfig(format=\"%(levelname)s - %(asctime)s: %(message)s\", datefmt= '%H:%M:%S', level=logging.INFO)"
   ],
   "metadata": {
    "collapsed": false,
    "pycharm": {
     "name": "#%%\n"
    }
   }
  },
  {
   "cell_type": "code",
   "execution_count": 27,
   "outputs": [],
   "source": [
    "# Read comments from db\n",
    "\n",
    "def read_from_pandas(db):\n",
    "    for i in range(df_true.shape[0]):\n",
    "        sentence = df_true.iloc[i]['source_tweet']\n",
    "        #print(gensim.utils.simple_preprocess(sentence))\n",
    "        yield gensim.utils.simple_preprocess(sentence)\n"
   ],
   "metadata": {
    "collapsed": false,
    "pycharm": {
     "name": "#%%\n"
    }
   }
  },
  {
   "cell_type": "code",
   "execution_count": 31,
   "outputs": [],
   "source": [
    "doc = read_from_pandas(df_true)"
   ],
   "metadata": {
    "collapsed": false,
    "pycharm": {
     "name": "#%%\n"
    }
   }
  },
  {
   "cell_type": "code",
   "execution_count": 32,
   "outputs": [
    {
     "name": "stdout",
     "output_type": "stream",
     "text": [
      "<generator object read_from_pandas at 0x7f7b49a3e900>\n"
     ]
    }
   ],
   "source": [
    "print(doc)"
   ],
   "metadata": {
    "collapsed": false,
    "pycharm": {
     "name": "#%%\n"
    }
   }
  },
  {
   "cell_type": "code",
   "execution_count": 33,
   "outputs": [
    {
     "ename": "TypeError",
     "evalue": "__init__() got an unexpected keyword argument 'size'",
     "output_type": "error",
     "traceback": [
      "\u001B[0;31m---------------------------------------------------------------------------\u001B[0m",
      "\u001B[0;31mTypeError\u001B[0m                                 Traceback (most recent call last)",
      "\u001B[0;32m/var/folders/8y/yq5dpggj5gq0006wv9sxbx1h0000gn/T/ipykernel_3656/2466605570.py\u001B[0m in \u001B[0;36m<module>\u001B[0;34m\u001B[0m\n\u001B[1;32m      1\u001B[0m \u001B[0;31m# Build a model\u001B[0m\u001B[0;34m\u001B[0m\u001B[0;34m\u001B[0m\u001B[0;34m\u001B[0m\u001B[0m\n\u001B[1;32m      2\u001B[0m \u001B[0;34m\u001B[0m\u001B[0m\n\u001B[0;32m----> 3\u001B[0;31m model = gensim.models.Word2Vec(\n\u001B[0m\u001B[1;32m      4\u001B[0m     \u001B[0mdoc\u001B[0m\u001B[0;34m,\u001B[0m\u001B[0;34m\u001B[0m\u001B[0;34m\u001B[0m\u001B[0m\n\u001B[1;32m      5\u001B[0m     \u001B[0msize\u001B[0m\u001B[0;34m=\u001B[0m\u001B[0;36m150\u001B[0m\u001B[0;34m,\u001B[0m\u001B[0;34m\u001B[0m\u001B[0;34m\u001B[0m\u001B[0m\n",
      "\u001B[0;31mTypeError\u001B[0m: __init__() got an unexpected keyword argument 'size'"
     ]
    }
   ],
   "source": [
    "# Build a model\n",
    "\n",
    "model = gensim.models.Word2Vec(\n",
    "    doc,\n",
    "    size=150,\n",
    "    window=10,\n",
    "    min_count=2,\n",
    "    workers=10,\n",
    "    iter=10)\n"
   ],
   "metadata": {
    "collapsed": false,
    "pycharm": {
     "name": "#%%\n"
    }
   }
  },
  {
   "cell_type": "code",
   "execution_count": 29,
   "outputs": [
    {
     "ename": "NameError",
     "evalue": "name 'model' is not defined",
     "output_type": "error",
     "traceback": [
      "\u001B[0;31m---------------------------------------------------------------------------\u001B[0m",
      "\u001B[0;31mNameError\u001B[0m                                 Traceback (most recent call last)",
      "\u001B[0;32m/var/folders/8y/yq5dpggj5gq0006wv9sxbx1h0000gn/T/ipykernel_3656/2428231578.py\u001B[0m in \u001B[0;36m<module>\u001B[0;34m\u001B[0m\n\u001B[1;32m      1\u001B[0m \u001B[0mw1\u001B[0m \u001B[0;34m=\u001B[0m \u001B[0;34m\"disrty\"\u001B[0m\u001B[0;34m\u001B[0m\u001B[0;34m\u001B[0m\u001B[0m\n\u001B[0;32m----> 2\u001B[0;31m \u001B[0mmodel\u001B[0m\u001B[0;34m.\u001B[0m\u001B[0mwv\u001B[0m\u001B[0;34m.\u001B[0m\u001B[0mmost_similar\u001B[0m\u001B[0;34m(\u001B[0m\u001B[0mpositive\u001B[0m\u001B[0;34m=\u001B[0m\u001B[0mw1\u001B[0m\u001B[0;34m)\u001B[0m\u001B[0;34m\u001B[0m\u001B[0;34m\u001B[0m\u001B[0m\n\u001B[0m\u001B[1;32m      3\u001B[0m \u001B[0;34m\u001B[0m\u001B[0m\n",
      "\u001B[0;31mNameError\u001B[0m: name 'model' is not defined"
     ]
    }
   ],
   "source": [
    "w1 = \"dirty\"\n",
    "model.wv.most_similar(positive=w1)"
   ],
   "metadata": {
    "collapsed": false,
    "pycharm": {
     "name": "#%%\n"
    }
   }
  },
  {
   "cell_type": "markdown",
   "source": [
    "Converting words into vectors using word2vec"
   ],
   "metadata": {
    "collapsed": false,
    "pycharm": {
     "name": "#%% md\n"
    }
   }
  },
  {
   "cell_type": "code",
   "execution_count": 18,
   "outputs": [
    {
     "name": "stdout",
     "output_type": "stream",
     "text": [
      "/Library/Frameworks/Python.framework/Versions/3.8/lib/python3.8/site-packages\n",
      "gensim installed\n"
     ]
    }
   ],
   "source": [],
   "metadata": {
    "collapsed": false,
    "pycharm": {
     "name": "#%%\n"
    }
   }
  }
 ],
 "metadata": {
  "kernelspec": {
   "name": "pycharm-99298bfd",
   "language": "python",
   "display_name": "PyCharm (_project)"
  },
  "language_info": {
   "codemirror_mode": {
    "name": "ipython",
    "version": 2
   },
   "file_extension": ".py",
   "mimetype": "text/x-python",
   "name": "python",
   "nbconvert_exporter": "python",
   "pygments_lexer": "ipython2",
   "version": "2.7.6"
  }
 },
 "nbformat": 4,
 "nbformat_minor": 0
}