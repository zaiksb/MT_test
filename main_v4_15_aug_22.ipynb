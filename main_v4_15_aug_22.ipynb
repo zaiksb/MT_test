{
 "cells": [
  {
   "cell_type": "markdown",
   "metadata": {
    "collapsed": true,
    "pycharm": {
     "name": "#%% md\n"
    }
   },
   "source": [
    "# Answers to coding questions in deep learning\n",
    "Peeter Niidas"
   ]
  },
  {
   "cell_type": "code",
   "execution_count": 1,
   "outputs": [],
   "source": [
    "# Make some preparations\n",
    "\n",
    "import glob\n",
    "import json\n",
    "import pandas as pd\n",
    "import numpy as np\n",
    "import re\n",
    "import spacy\n",
    "from gensim.models import Word2Vec\n",
    "import os\n",
    "import sys\n",
    "from time import time\n",
    "\n",
    "import matplotlib.pyplot as plt\n",
    "#%tensorflow_version 1.x\n",
    "\n",
    "import tensorflow as tf\n",
    "tf.compat.v1.logging.set_verbosity(tf.compat.v1.logging.ERROR)"
   ],
   "metadata": {
    "collapsed": false,
    "pycharm": {
     "name": "#%%\n"
    }
   }
  },
  {
   "cell_type": "markdown",
   "source": [
    "1. Download either the PHEME5 or PHEME9 dataset.\n",
    "2. Choose any one event from the dataset and load its first 100 JSON files into\n",
    "python memory.\n",
    "3. Extract and load attributes such as source tweets, reply tweets, and favorites\n",
    "count, labels of the source tweets."
   ],
   "metadata": {
    "collapsed": false
   }
  },
  {
   "cell_type": "code",
   "execution_count": 2,
   "outputs": [],
   "source": [
    "# Get filenames and load data\n",
    "\n",
    "def read_rename_data (dirr, length):\n",
    "    path = dirr\n",
    "    df = pd.DataFrame()\n",
    "    for filename in glob.iglob(path + '**/*.json', recursive=True):\n",
    "        if 'source-tweet' in filename:\n",
    "            i = 1\n",
    "            f = open(filename)\n",
    "            data = json.load(f)\n",
    "            new_row = {'source_tweet': data['text'], 'favorite_count': data['favorite_count'], 'retweet_count':data['retweet_count']}\n",
    "            df = df.append(new_row, ignore_index=True)\n",
    "            f.close()\n",
    "        elif 'reactions' in filename:\n",
    "            f = open(filename)\n",
    "            data = json.load(f)\n",
    "            new_name = 'reply_' + str(i)\n",
    "            df.loc[df.index[-1], new_name] = data['text']\n",
    "            i += 1\n",
    "        if df.shape[0] == length + 1:\n",
    "            df.drop(df.tail(1).index,inplace=True)\n",
    "            return df\n",
    "    return df"
   ],
   "metadata": {
    "collapsed": false,
    "pycharm": {
     "name": "#%%\n"
    }
   }
  },
  {
   "cell_type": "code",
   "execution_count": 68,
   "outputs": [
    {
     "data": {
      "text/plain": "(2, 73)"
     },
     "execution_count": 68,
     "metadata": {},
     "output_type": "execute_result"
    }
   ],
   "source": [
    "df_true = read_rename_data('./data/pheme-rnr-dataset/sydneysiege/non-rumours/', 2)\n",
    "df_true.shape"
   ],
   "metadata": {
    "collapsed": false,
    "pycharm": {
     "name": "#%%\n"
    }
   }
  },
  {
   "cell_type": "code",
   "execution_count": null,
   "outputs": [],
   "source": [
    "df_rumors = read_rename_data('./data/pheme-rnr-dataset/sydneysiege/rumours/', 100)\n",
    "df_rumors.shape"
   ],
   "metadata": {
    "collapsed": false,
    "pycharm": {
     "name": "#%%\n"
    }
   }
  },
  {
   "cell_type": "code",
   "execution_count": 69,
   "outputs": [
    {
     "data": {
      "text/plain": "                                        source_tweet  favorite_count  \\\n0  There are no verses in the Quran about Me want...          4533.0   \n1  Mosques, synagogues and churches are inviting ...           116.0   \n\n   retweet_count                                            reply_1  \\\n0         4465.0  @withnodriver no shit sherlock. are you for re...   \n1          157.0  @elronxenu I'm surprised he hasn't been taken ...   \n\n                                             reply_2  \\\n0  @withnodriver @basznocz Religion doesnt have t...   \n1  @TeamOyeniyi Specifically: guy was on his way ...   \n\n                                             reply_3  \\\n0               @fury_jen @TheTweetOfGod blasphemer.   \n1  @TeamOyeniyi So long as he doesn't kill any ho...   \n\n                                             reply_4  \\\n0   @runitright1 @TheTweetOfGod Sometime also Thor..   \n1  @elronxenu So is he just holed up until the bi...   \n\n                                             reply_5  \\\n0  @Usairam1 mohamed liked to fuck little aisha. ...   \n1  @abcnewsSydney #sydneysiege Very disturbing ne...   \n\n                                             reply_6  \\\n0  @RStarovich @TheTweetOfGod Hahahha...you're ri...   \n1                @abcnewsSydney @jarrodmckenna Amen.   \n\n                                             reply_7  ...  \\\n0  @Usairam1 @basznocz you're kidding they're mak...  ...   \n1  @elronxenu I'm inclined to think outside the s...  ...   \n\n                                            reply_61  \\\n0  @nselby @TheTweetOfGod  no one has guns? It sa...   \n1                                                NaN   \n\n                                            reply_62  \\\n0  @basznocz islam is a lie, just a suppressive m...   \n1                                                NaN   \n\n                                            reply_63  \\\n0  @withnodriver @basznocz Haha. All the science ...   \n1                                                NaN   \n\n                                            reply_64  \\\n0  @cIeopatrio @TheTweetOfGod you know it was a j...   \n1                                                NaN   \n\n                                            reply_65  \\\n0  @timpoliti @runitright1 @TheTweetOfGod Allah t...   \n1                                                NaN   \n\n                                            reply_66  \\\n0  @fury_jen @TheTweetOfGod his voicemail is  ful...   \n1                                                NaN   \n\n                                            reply_67  \\\n0  @withnodriver @basznocz Were WW1 WW2 and many ...   \n1                                                NaN   \n\n                                            reply_68  \\\n0  @basznocz @TheTweetOfGod religion is a complet...   \n1                                                NaN   \n\n                                            reply_69  \\\n0  @weisblumen @IncredulousMark @withnodriver @ba...   \n1                                                NaN   \n\n                                            reply_70  \n0  @TheTweetOfGod sorry god but you're wrong. hav...  \n1                                                NaN  \n\n[2 rows x 73 columns]",
      "text/html": "<div>\n<style scoped>\n    .dataframe tbody tr th:only-of-type {\n        vertical-align: middle;\n    }\n\n    .dataframe tbody tr th {\n        vertical-align: top;\n    }\n\n    .dataframe thead th {\n        text-align: right;\n    }\n</style>\n<table border=\"1\" class=\"dataframe\">\n  <thead>\n    <tr style=\"text-align: right;\">\n      <th></th>\n      <th>source_tweet</th>\n      <th>favorite_count</th>\n      <th>retweet_count</th>\n      <th>reply_1</th>\n      <th>reply_2</th>\n      <th>reply_3</th>\n      <th>reply_4</th>\n      <th>reply_5</th>\n      <th>reply_6</th>\n      <th>reply_7</th>\n      <th>...</th>\n      <th>reply_61</th>\n      <th>reply_62</th>\n      <th>reply_63</th>\n      <th>reply_64</th>\n      <th>reply_65</th>\n      <th>reply_66</th>\n      <th>reply_67</th>\n      <th>reply_68</th>\n      <th>reply_69</th>\n      <th>reply_70</th>\n    </tr>\n  </thead>\n  <tbody>\n    <tr>\n      <th>0</th>\n      <td>There are no verses in the Quran about Me want...</td>\n      <td>4533.0</td>\n      <td>4465.0</td>\n      <td>@withnodriver no shit sherlock. are you for re...</td>\n      <td>@withnodriver @basznocz Religion doesnt have t...</td>\n      <td>@fury_jen @TheTweetOfGod blasphemer.</td>\n      <td>@runitright1 @TheTweetOfGod Sometime also Thor..</td>\n      <td>@Usairam1 mohamed liked to fuck little aisha. ...</td>\n      <td>@RStarovich @TheTweetOfGod Hahahha...you're ri...</td>\n      <td>@Usairam1 @basznocz you're kidding they're mak...</td>\n      <td>...</td>\n      <td>@nselby @TheTweetOfGod  no one has guns? It sa...</td>\n      <td>@basznocz islam is a lie, just a suppressive m...</td>\n      <td>@withnodriver @basznocz Haha. All the science ...</td>\n      <td>@cIeopatrio @TheTweetOfGod you know it was a j...</td>\n      <td>@timpoliti @runitright1 @TheTweetOfGod Allah t...</td>\n      <td>@fury_jen @TheTweetOfGod his voicemail is  ful...</td>\n      <td>@withnodriver @basznocz Were WW1 WW2 and many ...</td>\n      <td>@basznocz @TheTweetOfGod religion is a complet...</td>\n      <td>@weisblumen @IncredulousMark @withnodriver @ba...</td>\n      <td>@TheTweetOfGod sorry god but you're wrong. hav...</td>\n    </tr>\n    <tr>\n      <th>1</th>\n      <td>Mosques, synagogues and churches are inviting ...</td>\n      <td>116.0</td>\n      <td>157.0</td>\n      <td>@elronxenu I'm surprised he hasn't been taken ...</td>\n      <td>@TeamOyeniyi Specifically: guy was on his way ...</td>\n      <td>@TeamOyeniyi So long as he doesn't kill any ho...</td>\n      <td>@elronxenu So is he just holed up until the bi...</td>\n      <td>@abcnewsSydney #sydneysiege Very disturbing ne...</td>\n      <td>@abcnewsSydney @jarrodmckenna Amen.</td>\n      <td>@elronxenu I'm inclined to think outside the s...</td>\n      <td>...</td>\n      <td>NaN</td>\n      <td>NaN</td>\n      <td>NaN</td>\n      <td>NaN</td>\n      <td>NaN</td>\n      <td>NaN</td>\n      <td>NaN</td>\n      <td>NaN</td>\n      <td>NaN</td>\n      <td>NaN</td>\n    </tr>\n  </tbody>\n</table>\n<p>2 rows × 73 columns</p>\n</div>"
     },
     "execution_count": 69,
     "metadata": {},
     "output_type": "execute_result"
    }
   ],
   "source": [
    "df_true.head()"
   ],
   "metadata": {
    "collapsed": false,
    "pycharm": {
     "name": "#%%\n"
    }
   }
  },
  {
   "cell_type": "markdown",
   "source": [
    "Data cleaning for word2vec conversion"
   ],
   "metadata": {
    "collapsed": false
   }
  },
  {
   "cell_type": "code",
   "execution_count": 70,
   "outputs": [
    {
     "data": {
      "text/plain": "                                        source_tweet  \\\n0  There are no verses in the Quran about Me want...   \n1  Mosques, synagogues and churches are inviting ...   \n\n                                             reply_1  \\\n0  @withnodriver no shit sherlock. are you for re...   \n1  @elronxenu I'm surprised he hasn't been taken ...   \n\n                                             reply_2  \\\n0  @withnodriver @basznocz Religion doesnt have t...   \n1  @TeamOyeniyi Specifically: guy was on his way ...   \n\n                                             reply_3  \\\n0               @fury_jen @TheTweetOfGod blasphemer.   \n1  @TeamOyeniyi So long as he doesn't kill any ho...   \n\n                                             reply_4  \\\n0   @runitright1 @TheTweetOfGod Sometime also Thor..   \n1  @elronxenu So is he just holed up until the bi...   \n\n                                             reply_5  \\\n0  @Usairam1 mohamed liked to fuck little aisha. ...   \n1  @abcnewsSydney #sydneysiege Very disturbing ne...   \n\n                                             reply_6  \\\n0  @RStarovich @TheTweetOfGod Hahahha...you're ri...   \n1                @abcnewsSydney @jarrodmckenna Amen.   \n\n                                             reply_7  \\\n0  @Usairam1 @basznocz you're kidding they're mak...   \n1  @elronxenu I'm inclined to think outside the s...   \n\n                                             reply_8  \\\n0  @nselby exactly. I'm holding off RTing this @T...   \n1  @abcnewsSydney Oh cool, just what we need... M...   \n\n                                             reply_9  ...  \\\n0  @withnodriver @basznocz Our religion is religi...  ...   \n1  @TeamOyeniyi No, the bigger event is postponed...  ...   \n\n                                            reply_61  \\\n0  @nselby @TheTweetOfGod  no one has guns? It sa...   \n1                                                NaN   \n\n                                            reply_62  \\\n0  @basznocz islam is a lie, just a suppressive m...   \n1                                                NaN   \n\n                                            reply_63  \\\n0  @withnodriver @basznocz Haha. All the science ...   \n1                                                NaN   \n\n                                            reply_64  \\\n0  @cIeopatrio @TheTweetOfGod you know it was a j...   \n1                                                NaN   \n\n                                            reply_65  \\\n0  @timpoliti @runitright1 @TheTweetOfGod Allah t...   \n1                                                NaN   \n\n                                            reply_66  \\\n0  @fury_jen @TheTweetOfGod his voicemail is  ful...   \n1                                                NaN   \n\n                                            reply_67  \\\n0  @withnodriver @basznocz Were WW1 WW2 and many ...   \n1                                                NaN   \n\n                                            reply_68  \\\n0  @basznocz @TheTweetOfGod religion is a complet...   \n1                                                NaN   \n\n                                            reply_69  \\\n0  @weisblumen @IncredulousMark @withnodriver @ba...   \n1                                                NaN   \n\n                                            reply_70  \n0  @TheTweetOfGod sorry god but you're wrong. hav...  \n1                                                NaN  \n\n[2 rows x 71 columns]",
      "text/html": "<div>\n<style scoped>\n    .dataframe tbody tr th:only-of-type {\n        vertical-align: middle;\n    }\n\n    .dataframe tbody tr th {\n        vertical-align: top;\n    }\n\n    .dataframe thead th {\n        text-align: right;\n    }\n</style>\n<table border=\"1\" class=\"dataframe\">\n  <thead>\n    <tr style=\"text-align: right;\">\n      <th></th>\n      <th>source_tweet</th>\n      <th>reply_1</th>\n      <th>reply_2</th>\n      <th>reply_3</th>\n      <th>reply_4</th>\n      <th>reply_5</th>\n      <th>reply_6</th>\n      <th>reply_7</th>\n      <th>reply_8</th>\n      <th>reply_9</th>\n      <th>...</th>\n      <th>reply_61</th>\n      <th>reply_62</th>\n      <th>reply_63</th>\n      <th>reply_64</th>\n      <th>reply_65</th>\n      <th>reply_66</th>\n      <th>reply_67</th>\n      <th>reply_68</th>\n      <th>reply_69</th>\n      <th>reply_70</th>\n    </tr>\n  </thead>\n  <tbody>\n    <tr>\n      <th>0</th>\n      <td>There are no verses in the Quran about Me want...</td>\n      <td>@withnodriver no shit sherlock. are you for re...</td>\n      <td>@withnodriver @basznocz Religion doesnt have t...</td>\n      <td>@fury_jen @TheTweetOfGod blasphemer.</td>\n      <td>@runitright1 @TheTweetOfGod Sometime also Thor..</td>\n      <td>@Usairam1 mohamed liked to fuck little aisha. ...</td>\n      <td>@RStarovich @TheTweetOfGod Hahahha...you're ri...</td>\n      <td>@Usairam1 @basznocz you're kidding they're mak...</td>\n      <td>@nselby exactly. I'm holding off RTing this @T...</td>\n      <td>@withnodriver @basznocz Our religion is religi...</td>\n      <td>...</td>\n      <td>@nselby @TheTweetOfGod  no one has guns? It sa...</td>\n      <td>@basznocz islam is a lie, just a suppressive m...</td>\n      <td>@withnodriver @basznocz Haha. All the science ...</td>\n      <td>@cIeopatrio @TheTweetOfGod you know it was a j...</td>\n      <td>@timpoliti @runitright1 @TheTweetOfGod Allah t...</td>\n      <td>@fury_jen @TheTweetOfGod his voicemail is  ful...</td>\n      <td>@withnodriver @basznocz Were WW1 WW2 and many ...</td>\n      <td>@basznocz @TheTweetOfGod religion is a complet...</td>\n      <td>@weisblumen @IncredulousMark @withnodriver @ba...</td>\n      <td>@TheTweetOfGod sorry god but you're wrong. hav...</td>\n    </tr>\n    <tr>\n      <th>1</th>\n      <td>Mosques, synagogues and churches are inviting ...</td>\n      <td>@elronxenu I'm surprised he hasn't been taken ...</td>\n      <td>@TeamOyeniyi Specifically: guy was on his way ...</td>\n      <td>@TeamOyeniyi So long as he doesn't kill any ho...</td>\n      <td>@elronxenu So is he just holed up until the bi...</td>\n      <td>@abcnewsSydney #sydneysiege Very disturbing ne...</td>\n      <td>@abcnewsSydney @jarrodmckenna Amen.</td>\n      <td>@elronxenu I'm inclined to think outside the s...</td>\n      <td>@abcnewsSydney Oh cool, just what we need... M...</td>\n      <td>@TeamOyeniyi No, the bigger event is postponed...</td>\n      <td>...</td>\n      <td>NaN</td>\n      <td>NaN</td>\n      <td>NaN</td>\n      <td>NaN</td>\n      <td>NaN</td>\n      <td>NaN</td>\n      <td>NaN</td>\n      <td>NaN</td>\n      <td>NaN</td>\n      <td>NaN</td>\n    </tr>\n  </tbody>\n</table>\n<p>2 rows × 71 columns</p>\n</div>"
     },
     "execution_count": 70,
     "metadata": {},
     "output_type": "execute_result"
    }
   ],
   "source": [
    "# Dropping numeric features\n",
    "\n",
    "df_cleaning_w2v = df_true.drop(df_true.columns[[1, 2]], axis=1)\n",
    "df_cleaning_w2v.head()\n",
    "\n"
   ],
   "metadata": {
    "collapsed": false,
    "pycharm": {
     "name": "#%%\n"
    }
   }
  },
  {
   "cell_type": "code",
   "execution_count": 11,
   "outputs": [],
   "source": [
    "#Manual, step-by step\n",
    "\n",
    "from time import time  # To time our operations\n",
    "from collections import defaultdict\n",
    "\n",
    "import logging  # Setting up the loggings to monitor gensim\n",
    "logging.basicConfig(format=\"%(levelname)s - %(asctime)s: %(message)s\", datefmt= '%H:%M:%S', level=logging.INFO)"
   ],
   "metadata": {
    "collapsed": false,
    "pycharm": {
     "name": "#%%\n"
    }
   }
  },
  {
   "cell_type": "code",
   "execution_count": 16,
   "outputs": [],
   "source": [
    "nlp = spacy.load('en_core_web_sm', disable=['ner', 'parser']) # disabling Named Entity Recognition for speed\n",
    "\n",
    "def cleaning(doc):\n",
    "    txt = [token.lemma_ for token in doc if not token.is_stop]\n",
    "    if len(txt) > 2:\n",
    "        return ' '.join(txt)"
   ],
   "metadata": {
    "collapsed": false,
    "pycharm": {
     "name": "#%%\n"
    }
   }
  },
  {
   "cell_type": "code",
   "execution_count": 28,
   "outputs": [],
   "source": [
    "brief_cleaning = (re.sub(\"[^A-Za-z']+\", ' ', str(row)).lower() for row in df_cleaning_w2v['source_tweet'])"
   ],
   "metadata": {
    "collapsed": false,
    "pycharm": {
     "name": "#%%\n"
    }
   }
  },
  {
   "cell_type": "code",
   "execution_count": 29,
   "outputs": [
    {
     "name": "stdout",
     "output_type": "stream",
     "text": [
      "Time to clean up everything: 1.53 mins\n"
     ]
    }
   ],
   "source": [
    "t = time()\n",
    "txt = [cleaning(doc) for doc in nlp.pipe(brief_cleaning, batch_size=5000, n_process=-1)]\n",
    "print('Time to clean up everything: {} mins'.format(round((time() - t) / 60, 2)))"
   ],
   "metadata": {
    "collapsed": false,
    "pycharm": {
     "name": "#%%\n"
    }
   }
  },
  {
   "cell_type": "code",
   "execution_count": 30,
   "outputs": [
    {
     "data": {
      "text/plain": "(100, 1)"
     },
     "execution_count": 30,
     "metadata": {},
     "output_type": "execute_result"
    }
   ],
   "source": [
    "df_cleaned = pd.DataFrame({'clean': txt})\n",
    "df_cleaned.shape"
   ],
   "metadata": {
    "collapsed": false,
    "pycharm": {
     "name": "#%%\n"
    }
   }
  },
  {
   "cell_type": "code",
   "execution_count": 31,
   "outputs": [
    {
     "data": {
      "text/plain": "                                                clean\n0   verse quran want hold hostage chocolate shop s...\n1   mosque synagogue church invite public pray syd...\n2     illridewithyou viral aussie solidarity amid ...\n3   continue monitor situation sydney closely touc...\n4   love illridewithyou initiative spread love com...\n..                                                ...\n95                         pray hostage family sydney\n96                            thinking sydney today x\n97  sydney harbour bridge close accident cahill ex...\n98  break news sydneysiege accord police http t co...\n99  send love sydney illridewithyou sydneysiege ht...\n\n[100 rows x 1 columns]",
      "text/html": "<div>\n<style scoped>\n    .dataframe tbody tr th:only-of-type {\n        vertical-align: middle;\n    }\n\n    .dataframe tbody tr th {\n        vertical-align: top;\n    }\n\n    .dataframe thead th {\n        text-align: right;\n    }\n</style>\n<table border=\"1\" class=\"dataframe\">\n  <thead>\n    <tr style=\"text-align: right;\">\n      <th></th>\n      <th>clean</th>\n    </tr>\n  </thead>\n  <tbody>\n    <tr>\n      <th>0</th>\n      <td>verse quran want hold hostage chocolate shop s...</td>\n    </tr>\n    <tr>\n      <th>1</th>\n      <td>mosque synagogue church invite public pray syd...</td>\n    </tr>\n    <tr>\n      <th>2</th>\n      <td>illridewithyou viral aussie solidarity amid ...</td>\n    </tr>\n    <tr>\n      <th>3</th>\n      <td>continue monitor situation sydney closely touc...</td>\n    </tr>\n    <tr>\n      <th>4</th>\n      <td>love illridewithyou initiative spread love com...</td>\n    </tr>\n    <tr>\n      <th>...</th>\n      <td>...</td>\n    </tr>\n    <tr>\n      <th>95</th>\n      <td>pray hostage family sydney</td>\n    </tr>\n    <tr>\n      <th>96</th>\n      <td>thinking sydney today x</td>\n    </tr>\n    <tr>\n      <th>97</th>\n      <td>sydney harbour bridge close accident cahill ex...</td>\n    </tr>\n    <tr>\n      <th>98</th>\n      <td>break news sydneysiege accord police http t co...</td>\n    </tr>\n    <tr>\n      <th>99</th>\n      <td>send love sydney illridewithyou sydneysiege ht...</td>\n    </tr>\n  </tbody>\n</table>\n<p>100 rows × 1 columns</p>\n</div>"
     },
     "execution_count": 31,
     "metadata": {},
     "output_type": "execute_result"
    }
   ],
   "source": [
    "df_cleaned\n"
   ],
   "metadata": {
    "collapsed": false,
    "pycharm": {
     "name": "#%%\n"
    }
   }
  },
  {
   "cell_type": "code",
   "execution_count": 59,
   "outputs": [],
   "source": [
    "# Superslow\n",
    "\n",
    "def cleaner(doc):\n",
    "    txt = [token.lemma_ for token in doc if not token.is_stop]\n",
    "    if len(txt) > 2:\n",
    "        return ' '.join(txt)\n",
    "\n",
    "def data_cleaning(x):\n",
    "    exclusion_list = ['#', '@']\n",
    "    words = str(x).split()\n",
    "    pre_cleaned = [word for word in words if all(ch not in word for ch in exclusion_list)] #removing hashtags, mentions, mail addresses\n",
    "    brief_clean = (re.sub(\"[^A-Za-z']+\", ' ', str(pre_cleaned)).lower())\n",
    "    # print(brief_clean)\n",
    "    txt = [cleaner(doc) for doc in nlp.pipe(brief_cleaning, batch_size=1000, n_process=-1)]\n",
    "    return txt"
   ],
   "metadata": {
    "collapsed": false,
    "pycharm": {
     "name": "#%%\n"
    }
   }
  },
  {
   "cell_type": "code",
   "execution_count": 60,
   "outputs": [
    {
     "name": "stderr",
     "output_type": "stream",
     "text": [
      "Process Process-706:\n",
      "Traceback (most recent call last):\n",
      "  File \"/Library/Frameworks/Python.framework/Versions/3.8/lib/python3.8/multiprocessing/process.py\", line 315, in _bootstrap\n",
      "    self.run()\n",
      "  File \"/Library/Frameworks/Python.framework/Versions/3.8/lib/python3.8/multiprocessing/process.py\", line 108, in run\n",
      "    self._target(*self._args, **self._kwargs)\n",
      "  File \"/Library/Frameworks/Python.framework/Versions/3.8/lib/python3.8/site-packages/spacy/language.py\", line 2256, in _apply_pipes\n",
      "    texts_with_ctx = receiver.get()\n",
      "  File \"/Library/Frameworks/Python.framework/Versions/3.8/lib/python3.8/multiprocessing/queues.py\", line 97, in get\n",
      "    res = self._recv_bytes()\n",
      "  File \"/Library/Frameworks/Python.framework/Versions/3.8/lib/python3.8/multiprocessing/connection.py\", line 216, in recv_bytes\n",
      "    buf = self._recv_bytes(maxlength)\n",
      "  File \"/Library/Frameworks/Python.framework/Versions/3.8/lib/python3.8/multiprocessing/connection.py\", line 414, in _recv_bytes\n",
      "    buf = self._recv(4)\n",
      "  File \"/Library/Frameworks/Python.framework/Versions/3.8/lib/python3.8/multiprocessing/connection.py\", line 379, in _recv\n",
      "    chunk = read(handle, remaining)\n",
      "KeyboardInterrupt\n",
      "Process Process-709:\n",
      "Traceback (most recent call last):\n",
      "  File \"/Library/Frameworks/Python.framework/Versions/3.8/lib/python3.8/multiprocessing/process.py\", line 315, in _bootstrap\n",
      "    self.run()\n",
      "  File \"/Library/Frameworks/Python.framework/Versions/3.8/lib/python3.8/multiprocessing/process.py\", line 108, in run\n",
      "    self._target(*self._args, **self._kwargs)\n",
      "  File \"/Library/Frameworks/Python.framework/Versions/3.8/lib/python3.8/site-packages/spacy/language.py\", line 2256, in _apply_pipes\n",
      "    texts_with_ctx = receiver.get()\n",
      "  File \"/Library/Frameworks/Python.framework/Versions/3.8/lib/python3.8/multiprocessing/queues.py\", line 97, in get\n",
      "    res = self._recv_bytes()\n",
      "  File \"/Library/Frameworks/Python.framework/Versions/3.8/lib/python3.8/multiprocessing/connection.py\", line 216, in recv_bytes\n",
      "    buf = self._recv_bytes(maxlength)\n",
      "  File \"/Library/Frameworks/Python.framework/Versions/3.8/lib/python3.8/multiprocessing/connection.py\", line 414, in _recv_bytes\n",
      "    buf = self._recv(4)\n",
      "  File \"/Library/Frameworks/Python.framework/Versions/3.8/lib/python3.8/multiprocessing/connection.py\", line 379, in _recv\n",
      "    chunk = read(handle, remaining)\n",
      "KeyboardInterrupt\n",
      "Process Process-712:\n",
      "Traceback (most recent call last):\n",
      "  File \"/Library/Frameworks/Python.framework/Versions/3.8/lib/python3.8/multiprocessing/process.py\", line 315, in _bootstrap\n",
      "    self.run()\n",
      "  File \"/Library/Frameworks/Python.framework/Versions/3.8/lib/python3.8/multiprocessing/process.py\", line 108, in run\n",
      "    self._target(*self._args, **self._kwargs)\n",
      "  File \"/Library/Frameworks/Python.framework/Versions/3.8/lib/python3.8/site-packages/spacy/language.py\", line 2256, in _apply_pipes\n",
      "    texts_with_ctx = receiver.get()\n",
      "  File \"/Library/Frameworks/Python.framework/Versions/3.8/lib/python3.8/multiprocessing/queues.py\", line 97, in get\n",
      "    res = self._recv_bytes()\n",
      "  File \"/Library/Frameworks/Python.framework/Versions/3.8/lib/python3.8/multiprocessing/connection.py\", line 216, in recv_bytes\n",
      "    buf = self._recv_bytes(maxlength)\n",
      "  File \"/Library/Frameworks/Python.framework/Versions/3.8/lib/python3.8/multiprocessing/connection.py\", line 414, in _recv_bytes\n",
      "    buf = self._recv(4)\n",
      "  File \"/Library/Frameworks/Python.framework/Versions/3.8/lib/python3.8/multiprocessing/connection.py\", line 379, in _recv\n",
      "    chunk = read(handle, remaining)\n",
      "KeyboardInterrupt\n",
      "Process Process-717:\n",
      "Traceback (most recent call last):\n",
      "  File \"/Library/Frameworks/Python.framework/Versions/3.8/lib/python3.8/multiprocessing/process.py\", line 315, in _bootstrap\n",
      "    self.run()\n",
      "  File \"/Library/Frameworks/Python.framework/Versions/3.8/lib/python3.8/multiprocessing/process.py\", line 108, in run\n",
      "    self._target(*self._args, **self._kwargs)\n",
      "  File \"/Library/Frameworks/Python.framework/Versions/3.8/lib/python3.8/site-packages/spacy/language.py\", line 2256, in _apply_pipes\n",
      "    texts_with_ctx = receiver.get()\n",
      "  File \"/Library/Frameworks/Python.framework/Versions/3.8/lib/python3.8/multiprocessing/queues.py\", line 97, in get\n",
      "    res = self._recv_bytes()\n",
      "  File \"/Library/Frameworks/Python.framework/Versions/3.8/lib/python3.8/multiprocessing/connection.py\", line 216, in recv_bytes\n",
      "    buf = self._recv_bytes(maxlength)\n",
      "  File \"/Library/Frameworks/Python.framework/Versions/3.8/lib/python3.8/multiprocessing/connection.py\", line 414, in _recv_bytes\n",
      "    buf = self._recv(4)\n",
      "  File \"/Library/Frameworks/Python.framework/Versions/3.8/lib/python3.8/multiprocessing/connection.py\", line 379, in _recv\n",
      "    chunk = read(handle, remaining)\n",
      "KeyboardInterrupt\n",
      "Process Process-710:\n",
      "Traceback (most recent call last):\n",
      "  File \"/Library/Frameworks/Python.framework/Versions/3.8/lib/python3.8/multiprocessing/process.py\", line 315, in _bootstrap\n",
      "    self.run()\n",
      "  File \"/Library/Frameworks/Python.framework/Versions/3.8/lib/python3.8/multiprocessing/process.py\", line 108, in run\n",
      "    self._target(*self._args, **self._kwargs)\n",
      "  File \"/Library/Frameworks/Python.framework/Versions/3.8/lib/python3.8/site-packages/spacy/language.py\", line 2256, in _apply_pipes\n",
      "    texts_with_ctx = receiver.get()\n",
      "  File \"/Library/Frameworks/Python.framework/Versions/3.8/lib/python3.8/multiprocessing/queues.py\", line 97, in get\n",
      "    res = self._recv_bytes()\n",
      "  File \"/Library/Frameworks/Python.framework/Versions/3.8/lib/python3.8/multiprocessing/connection.py\", line 216, in recv_bytes\n",
      "    buf = self._recv_bytes(maxlength)\n",
      "  File \"/Library/Frameworks/Python.framework/Versions/3.8/lib/python3.8/multiprocessing/connection.py\", line 414, in _recv_bytes\n",
      "    buf = self._recv(4)\n",
      "  File \"/Library/Frameworks/Python.framework/Versions/3.8/lib/python3.8/multiprocessing/connection.py\", line 379, in _recv\n",
      "    chunk = read(handle, remaining)\n",
      "KeyboardInterrupt\n",
      "Process Process-711:\n",
      "Traceback (most recent call last):\n",
      "  File \"/Library/Frameworks/Python.framework/Versions/3.8/lib/python3.8/multiprocessing/process.py\", line 315, in _bootstrap\n",
      "    self.run()\n",
      "  File \"/Library/Frameworks/Python.framework/Versions/3.8/lib/python3.8/multiprocessing/process.py\", line 108, in run\n",
      "    self._target(*self._args, **self._kwargs)\n",
      "  File \"/Library/Frameworks/Python.framework/Versions/3.8/lib/python3.8/site-packages/spacy/language.py\", line 2256, in _apply_pipes\n",
      "    texts_with_ctx = receiver.get()\n",
      "  File \"/Library/Frameworks/Python.framework/Versions/3.8/lib/python3.8/multiprocessing/queues.py\", line 97, in get\n",
      "    res = self._recv_bytes()\n",
      "  File \"/Library/Frameworks/Python.framework/Versions/3.8/lib/python3.8/multiprocessing/connection.py\", line 216, in recv_bytes\n",
      "    buf = self._recv_bytes(maxlength)\n",
      "  File \"/Library/Frameworks/Python.framework/Versions/3.8/lib/python3.8/multiprocessing/connection.py\", line 414, in _recv_bytes\n",
      "    buf = self._recv(4)\n",
      "  File \"/Library/Frameworks/Python.framework/Versions/3.8/lib/python3.8/multiprocessing/connection.py\", line 379, in _recv\n",
      "    chunk = read(handle, remaining)\n",
      "KeyboardInterrupt\n",
      "Process Process-705:\n",
      "Traceback (most recent call last):\n",
      "  File \"/Library/Frameworks/Python.framework/Versions/3.8/lib/python3.8/multiprocessing/process.py\", line 315, in _bootstrap\n",
      "    self.run()\n",
      "  File \"/Library/Frameworks/Python.framework/Versions/3.8/lib/python3.8/multiprocessing/process.py\", line 108, in run\n",
      "    self._target(*self._args, **self._kwargs)\n",
      "  File \"/Library/Frameworks/Python.framework/Versions/3.8/lib/python3.8/site-packages/spacy/language.py\", line 2256, in _apply_pipes\n",
      "    texts_with_ctx = receiver.get()\n",
      "  File \"/Library/Frameworks/Python.framework/Versions/3.8/lib/python3.8/multiprocessing/queues.py\", line 97, in get\n",
      "    res = self._recv_bytes()\n",
      "  File \"/Library/Frameworks/Python.framework/Versions/3.8/lib/python3.8/multiprocessing/connection.py\", line 216, in recv_bytes\n",
      "    buf = self._recv_bytes(maxlength)\n",
      "  File \"/Library/Frameworks/Python.framework/Versions/3.8/lib/python3.8/multiprocessing/connection.py\", line 414, in _recv_bytes\n",
      "    buf = self._recv(4)\n",
      "  File \"/Library/Frameworks/Python.framework/Versions/3.8/lib/python3.8/multiprocessing/connection.py\", line 379, in _recv\n",
      "    chunk = read(handle, remaining)\n",
      "KeyboardInterrupt\n",
      "Process Process-707:\n",
      "Traceback (most recent call last):\n",
      "  File \"/Library/Frameworks/Python.framework/Versions/3.8/lib/python3.8/multiprocessing/process.py\", line 315, in _bootstrap\n",
      "    self.run()\n",
      "  File \"/Library/Frameworks/Python.framework/Versions/3.8/lib/python3.8/multiprocessing/process.py\", line 108, in run\n",
      "    self._target(*self._args, **self._kwargs)\n",
      "  File \"/Library/Frameworks/Python.framework/Versions/3.8/lib/python3.8/site-packages/spacy/language.py\", line 2256, in _apply_pipes\n",
      "    texts_with_ctx = receiver.get()\n",
      "  File \"/Library/Frameworks/Python.framework/Versions/3.8/lib/python3.8/multiprocessing/queues.py\", line 97, in get\n",
      "    res = self._recv_bytes()\n",
      "  File \"/Library/Frameworks/Python.framework/Versions/3.8/lib/python3.8/multiprocessing/connection.py\", line 216, in recv_bytes\n",
      "    buf = self._recv_bytes(maxlength)\n",
      "  File \"/Library/Frameworks/Python.framework/Versions/3.8/lib/python3.8/multiprocessing/connection.py\", line 414, in _recv_bytes\n",
      "    buf = self._recv(4)\n",
      "  File \"/Library/Frameworks/Python.framework/Versions/3.8/lib/python3.8/multiprocessing/connection.py\", line 379, in _recv\n",
      "    chunk = read(handle, remaining)\n",
      "KeyboardInterrupt\n",
      "Process Process-708:\n",
      "Traceback (most recent call last):\n",
      "  File \"/Library/Frameworks/Python.framework/Versions/3.8/lib/python3.8/multiprocessing/process.py\", line 315, in _bootstrap\n",
      "    self.run()\n",
      "  File \"/Library/Frameworks/Python.framework/Versions/3.8/lib/python3.8/multiprocessing/process.py\", line 108, in run\n",
      "    self._target(*self._args, **self._kwargs)\n",
      "  File \"/Library/Frameworks/Python.framework/Versions/3.8/lib/python3.8/site-packages/spacy/language.py\", line 2256, in _apply_pipes\n",
      "    texts_with_ctx = receiver.get()\n",
      "  File \"/Library/Frameworks/Python.framework/Versions/3.8/lib/python3.8/multiprocessing/queues.py\", line 97, in get\n",
      "    res = self._recv_bytes()\n",
      "  File \"/Library/Frameworks/Python.framework/Versions/3.8/lib/python3.8/multiprocessing/connection.py\", line 216, in recv_bytes\n",
      "    buf = self._recv_bytes(maxlength)\n",
      "  File \"/Library/Frameworks/Python.framework/Versions/3.8/lib/python3.8/multiprocessing/connection.py\", line 414, in _recv_bytes\n",
      "    buf = self._recv(4)\n",
      "  File \"/Library/Frameworks/Python.framework/Versions/3.8/lib/python3.8/multiprocessing/connection.py\", line 379, in _recv\n",
      "    chunk = read(handle, remaining)\n",
      "KeyboardInterrupt\n",
      "Process Process-715:\n",
      "Traceback (most recent call last):\n",
      "  File \"/Library/Frameworks/Python.framework/Versions/3.8/lib/python3.8/multiprocessing/process.py\", line 315, in _bootstrap\n",
      "    self.run()\n",
      "  File \"/Library/Frameworks/Python.framework/Versions/3.8/lib/python3.8/multiprocessing/process.py\", line 108, in run\n",
      "    self._target(*self._args, **self._kwargs)\n",
      "  File \"/Library/Frameworks/Python.framework/Versions/3.8/lib/python3.8/site-packages/spacy/language.py\", line 2256, in _apply_pipes\n",
      "    texts_with_ctx = receiver.get()\n",
      "  File \"/Library/Frameworks/Python.framework/Versions/3.8/lib/python3.8/multiprocessing/queues.py\", line 97, in get\n",
      "    res = self._recv_bytes()\n",
      "  File \"/Library/Frameworks/Python.framework/Versions/3.8/lib/python3.8/multiprocessing/connection.py\", line 216, in recv_bytes\n",
      "    buf = self._recv_bytes(maxlength)\n",
      "  File \"/Library/Frameworks/Python.framework/Versions/3.8/lib/python3.8/multiprocessing/connection.py\", line 414, in _recv_bytes\n",
      "    buf = self._recv(4)\n",
      "  File \"/Library/Frameworks/Python.framework/Versions/3.8/lib/python3.8/multiprocessing/connection.py\", line 379, in _recv\n",
      "    chunk = read(handle, remaining)\n",
      "KeyboardInterrupt\n",
      "Process Process-714:\n",
      "Traceback (most recent call last):\n",
      "  File \"/Library/Frameworks/Python.framework/Versions/3.8/lib/python3.8/multiprocessing/process.py\", line 315, in _bootstrap\n",
      "    self.run()\n",
      "  File \"/Library/Frameworks/Python.framework/Versions/3.8/lib/python3.8/multiprocessing/process.py\", line 108, in run\n",
      "    self._target(*self._args, **self._kwargs)\n",
      "  File \"/Library/Frameworks/Python.framework/Versions/3.8/lib/python3.8/site-packages/spacy/language.py\", line 2256, in _apply_pipes\n",
      "    texts_with_ctx = receiver.get()\n",
      "  File \"/Library/Frameworks/Python.framework/Versions/3.8/lib/python3.8/multiprocessing/queues.py\", line 97, in get\n",
      "    res = self._recv_bytes()\n",
      "  File \"/Library/Frameworks/Python.framework/Versions/3.8/lib/python3.8/multiprocessing/connection.py\", line 216, in recv_bytes\n",
      "    buf = self._recv_bytes(maxlength)\n",
      "  File \"/Library/Frameworks/Python.framework/Versions/3.8/lib/python3.8/multiprocessing/connection.py\", line 414, in _recv_bytes\n",
      "    buf = self._recv(4)\n",
      "  File \"/Library/Frameworks/Python.framework/Versions/3.8/lib/python3.8/multiprocessing/connection.py\", line 379, in _recv\n",
      "    chunk = read(handle, remaining)\n",
      "KeyboardInterrupt\n",
      "Process Process-713:\n",
      "Traceback (most recent call last):\n",
      "  File \"/Library/Frameworks/Python.framework/Versions/3.8/lib/python3.8/multiprocessing/process.py\", line 315, in _bootstrap\n",
      "    self.run()\n",
      "  File \"/Library/Frameworks/Python.framework/Versions/3.8/lib/python3.8/multiprocessing/process.py\", line 108, in run\n",
      "    self._target(*self._args, **self._kwargs)\n",
      "  File \"/Library/Frameworks/Python.framework/Versions/3.8/lib/python3.8/site-packages/spacy/language.py\", line 2256, in _apply_pipes\n",
      "    texts_with_ctx = receiver.get()\n",
      "  File \"/Library/Frameworks/Python.framework/Versions/3.8/lib/python3.8/multiprocessing/queues.py\", line 97, in get\n",
      "    res = self._recv_bytes()\n",
      "  File \"/Library/Frameworks/Python.framework/Versions/3.8/lib/python3.8/multiprocessing/connection.py\", line 216, in recv_bytes\n",
      "    buf = self._recv_bytes(maxlength)\n",
      "  File \"/Library/Frameworks/Python.framework/Versions/3.8/lib/python3.8/multiprocessing/connection.py\", line 414, in _recv_bytes\n",
      "    buf = self._recv(4)\n",
      "  File \"/Library/Frameworks/Python.framework/Versions/3.8/lib/python3.8/multiprocessing/connection.py\", line 379, in _recv\n",
      "    chunk = read(handle, remaining)\n",
      "KeyboardInterrupt\n",
      "Process Process-716:\n",
      "Traceback (most recent call last):\n",
      "  File \"/Library/Frameworks/Python.framework/Versions/3.8/lib/python3.8/multiprocessing/process.py\", line 315, in _bootstrap\n",
      "    self.run()\n",
      "  File \"/Library/Frameworks/Python.framework/Versions/3.8/lib/python3.8/multiprocessing/process.py\", line 108, in run\n",
      "    self._target(*self._args, **self._kwargs)\n",
      "  File \"/Library/Frameworks/Python.framework/Versions/3.8/lib/python3.8/site-packages/spacy/language.py\", line 2256, in _apply_pipes\n",
      "    texts_with_ctx = receiver.get()\n",
      "  File \"/Library/Frameworks/Python.framework/Versions/3.8/lib/python3.8/multiprocessing/queues.py\", line 97, in get\n",
      "    res = self._recv_bytes()\n",
      "  File \"/Library/Frameworks/Python.framework/Versions/3.8/lib/python3.8/multiprocessing/connection.py\", line 216, in recv_bytes\n",
      "    buf = self._recv_bytes(maxlength)\n",
      "  File \"/Library/Frameworks/Python.framework/Versions/3.8/lib/python3.8/multiprocessing/connection.py\", line 414, in _recv_bytes\n",
      "    buf = self._recv(4)\n",
      "  File \"/Library/Frameworks/Python.framework/Versions/3.8/lib/python3.8/multiprocessing/connection.py\", line 379, in _recv\n",
      "    chunk = read(handle, remaining)\n",
      "KeyboardInterrupt\n",
      "Traceback (most recent call last):\n",
      "  File \"<string>\", line 1, in <module>\n",
      "  File \"/Library/Frameworks/Python.framework/Versions/3.8/lib/python3.8/multiprocessing/spawn.py\", line 116, in spawn_main\n",
      "    exitcode = _main(fd, parent_sentinel)\n",
      "  File \"/Library/Frameworks/Python.framework/Versions/3.8/lib/python3.8/multiprocessing/spawn.py\", line 126, in _main\n",
      "    self = reduction.pickle.load(from_parent)\n",
      "  File \"/Library/Frameworks/Python.framework/Versions/3.8/lib/python3.8/site-packages/spacy/lookups.py\", line 81, in __setitem__\n",
      "    def __setitem__(self, key: Union[str, int], value: Any) -> None:\n",
      "KeyboardInterrupt\n"
     ]
    },
    {
     "ename": "KeyboardInterrupt",
     "evalue": "",
     "output_type": "error",
     "traceback": [
      "\u001B[0;31m---------------------------------------------------------------------------\u001B[0m",
      "\u001B[0;31mKeyboardInterrupt\u001B[0m                         Traceback (most recent call last)",
      "\u001B[0;32m/var/folders/8y/yq5dpggj5gq0006wv9sxbx1h0000gn/T/ipykernel_39017/341080179.py\u001B[0m in \u001B[0;36m<module>\u001B[0;34m\u001B[0m\n\u001B[1;32m      1\u001B[0m \u001B[0mt\u001B[0m \u001B[0;34m=\u001B[0m \u001B[0mtime\u001B[0m\u001B[0;34m(\u001B[0m\u001B[0;34m)\u001B[0m\u001B[0;34m\u001B[0m\u001B[0;34m\u001B[0m\u001B[0m\n\u001B[0;32m----> 2\u001B[0;31m \u001B[0mdf_true_cleaned\u001B[0m \u001B[0;34m=\u001B[0m \u001B[0mdf_cleaning_w2v\u001B[0m\u001B[0;34m.\u001B[0m\u001B[0mapplymap\u001B[0m\u001B[0;34m(\u001B[0m\u001B[0mdata_cleaning\u001B[0m\u001B[0;34m)\u001B[0m\u001B[0;34m\u001B[0m\u001B[0;34m\u001B[0m\u001B[0m\n\u001B[0m\u001B[1;32m      3\u001B[0m \u001B[0mprint\u001B[0m\u001B[0;34m(\u001B[0m\u001B[0;34m'Time to clean up everything: {} mins'\u001B[0m\u001B[0;34m.\u001B[0m\u001B[0mformat\u001B[0m\u001B[0;34m(\u001B[0m\u001B[0mround\u001B[0m\u001B[0;34m(\u001B[0m\u001B[0;34m(\u001B[0m\u001B[0mtime\u001B[0m\u001B[0;34m(\u001B[0m\u001B[0;34m)\u001B[0m \u001B[0;34m-\u001B[0m \u001B[0mt\u001B[0m\u001B[0;34m)\u001B[0m \u001B[0;34m/\u001B[0m \u001B[0;36m60\u001B[0m\u001B[0;34m,\u001B[0m \u001B[0;36m2\u001B[0m\u001B[0;34m)\u001B[0m\u001B[0;34m)\u001B[0m\u001B[0;34m)\u001B[0m\u001B[0;34m\u001B[0m\u001B[0;34m\u001B[0m\u001B[0m\n\u001B[1;32m      4\u001B[0m \u001B[0;34m\u001B[0m\u001B[0m\n",
      "\u001B[0;32m/Library/Frameworks/Python.framework/Versions/3.8/lib/python3.8/site-packages/pandas/core/frame.py\u001B[0m in \u001B[0;36mapplymap\u001B[0;34m(self, func, na_action, **kwargs)\u001B[0m\n\u001B[1;32m   8819\u001B[0m             \u001B[0;32mreturn\u001B[0m \u001B[0mlib\u001B[0m\u001B[0;34m.\u001B[0m\u001B[0mmap_infer\u001B[0m\u001B[0;34m(\u001B[0m\u001B[0mx\u001B[0m\u001B[0;34m.\u001B[0m\u001B[0mastype\u001B[0m\u001B[0;34m(\u001B[0m\u001B[0mobject\u001B[0m\u001B[0;34m)\u001B[0m\u001B[0;34m.\u001B[0m\u001B[0m_values\u001B[0m\u001B[0;34m,\u001B[0m \u001B[0mfunc\u001B[0m\u001B[0;34m,\u001B[0m \u001B[0mignore_na\u001B[0m\u001B[0;34m=\u001B[0m\u001B[0mignore_na\u001B[0m\u001B[0;34m)\u001B[0m\u001B[0;34m\u001B[0m\u001B[0;34m\u001B[0m\u001B[0m\n\u001B[1;32m   8820\u001B[0m \u001B[0;34m\u001B[0m\u001B[0m\n\u001B[0;32m-> 8821\u001B[0;31m         \u001B[0;32mreturn\u001B[0m \u001B[0mself\u001B[0m\u001B[0;34m.\u001B[0m\u001B[0mapply\u001B[0m\u001B[0;34m(\u001B[0m\u001B[0minfer\u001B[0m\u001B[0;34m)\u001B[0m\u001B[0;34m.\u001B[0m\u001B[0m__finalize__\u001B[0m\u001B[0;34m(\u001B[0m\u001B[0mself\u001B[0m\u001B[0;34m,\u001B[0m \u001B[0;34m\"applymap\"\u001B[0m\u001B[0;34m)\u001B[0m\u001B[0;34m\u001B[0m\u001B[0;34m\u001B[0m\u001B[0m\n\u001B[0m\u001B[1;32m   8822\u001B[0m \u001B[0;34m\u001B[0m\u001B[0m\n\u001B[1;32m   8823\u001B[0m     \u001B[0;31m# ----------------------------------------------------------------------\u001B[0m\u001B[0;34m\u001B[0m\u001B[0;34m\u001B[0m\u001B[0;34m\u001B[0m\u001B[0m\n",
      "\u001B[0;32m/Library/Frameworks/Python.framework/Versions/3.8/lib/python3.8/site-packages/pandas/core/frame.py\u001B[0m in \u001B[0;36mapply\u001B[0;34m(self, func, axis, raw, result_type, args, **kwargs)\u001B[0m\n\u001B[1;32m   8734\u001B[0m             \u001B[0mkwargs\u001B[0m\u001B[0;34m=\u001B[0m\u001B[0mkwargs\u001B[0m\u001B[0;34m,\u001B[0m\u001B[0;34m\u001B[0m\u001B[0;34m\u001B[0m\u001B[0m\n\u001B[1;32m   8735\u001B[0m         )\n\u001B[0;32m-> 8736\u001B[0;31m         \u001B[0;32mreturn\u001B[0m \u001B[0mop\u001B[0m\u001B[0;34m.\u001B[0m\u001B[0mapply\u001B[0m\u001B[0;34m(\u001B[0m\u001B[0;34m)\u001B[0m\u001B[0;34m\u001B[0m\u001B[0;34m\u001B[0m\u001B[0m\n\u001B[0m\u001B[1;32m   8737\u001B[0m \u001B[0;34m\u001B[0m\u001B[0m\n\u001B[1;32m   8738\u001B[0m     def applymap(\n",
      "\u001B[0;32m/Library/Frameworks/Python.framework/Versions/3.8/lib/python3.8/site-packages/pandas/core/apply.py\u001B[0m in \u001B[0;36mapply\u001B[0;34m(self)\u001B[0m\n\u001B[1;32m    686\u001B[0m             \u001B[0;32mreturn\u001B[0m \u001B[0mself\u001B[0m\u001B[0;34m.\u001B[0m\u001B[0mapply_raw\u001B[0m\u001B[0;34m(\u001B[0m\u001B[0;34m)\u001B[0m\u001B[0;34m\u001B[0m\u001B[0;34m\u001B[0m\u001B[0m\n\u001B[1;32m    687\u001B[0m \u001B[0;34m\u001B[0m\u001B[0m\n\u001B[0;32m--> 688\u001B[0;31m         \u001B[0;32mreturn\u001B[0m \u001B[0mself\u001B[0m\u001B[0;34m.\u001B[0m\u001B[0mapply_standard\u001B[0m\u001B[0;34m(\u001B[0m\u001B[0;34m)\u001B[0m\u001B[0;34m\u001B[0m\u001B[0;34m\u001B[0m\u001B[0m\n\u001B[0m\u001B[1;32m    689\u001B[0m \u001B[0;34m\u001B[0m\u001B[0m\n\u001B[1;32m    690\u001B[0m     \u001B[0;32mdef\u001B[0m \u001B[0magg\u001B[0m\u001B[0;34m(\u001B[0m\u001B[0mself\u001B[0m\u001B[0;34m)\u001B[0m\u001B[0;34m:\u001B[0m\u001B[0;34m\u001B[0m\u001B[0;34m\u001B[0m\u001B[0m\n",
      "\u001B[0;32m/Library/Frameworks/Python.framework/Versions/3.8/lib/python3.8/site-packages/pandas/core/apply.py\u001B[0m in \u001B[0;36mapply_standard\u001B[0;34m(self)\u001B[0m\n\u001B[1;32m    810\u001B[0m \u001B[0;34m\u001B[0m\u001B[0m\n\u001B[1;32m    811\u001B[0m     \u001B[0;32mdef\u001B[0m \u001B[0mapply_standard\u001B[0m\u001B[0;34m(\u001B[0m\u001B[0mself\u001B[0m\u001B[0;34m)\u001B[0m\u001B[0;34m:\u001B[0m\u001B[0;34m\u001B[0m\u001B[0;34m\u001B[0m\u001B[0m\n\u001B[0;32m--> 812\u001B[0;31m         \u001B[0mresults\u001B[0m\u001B[0;34m,\u001B[0m \u001B[0mres_index\u001B[0m \u001B[0;34m=\u001B[0m \u001B[0mself\u001B[0m\u001B[0;34m.\u001B[0m\u001B[0mapply_series_generator\u001B[0m\u001B[0;34m(\u001B[0m\u001B[0;34m)\u001B[0m\u001B[0;34m\u001B[0m\u001B[0;34m\u001B[0m\u001B[0m\n\u001B[0m\u001B[1;32m    813\u001B[0m \u001B[0;34m\u001B[0m\u001B[0m\n\u001B[1;32m    814\u001B[0m         \u001B[0;31m# wrap results\u001B[0m\u001B[0;34m\u001B[0m\u001B[0;34m\u001B[0m\u001B[0;34m\u001B[0m\u001B[0m\n",
      "\u001B[0;32m/Library/Frameworks/Python.framework/Versions/3.8/lib/python3.8/site-packages/pandas/core/apply.py\u001B[0m in \u001B[0;36mapply_series_generator\u001B[0;34m(self)\u001B[0m\n\u001B[1;32m    826\u001B[0m             \u001B[0;32mfor\u001B[0m \u001B[0mi\u001B[0m\u001B[0;34m,\u001B[0m \u001B[0mv\u001B[0m \u001B[0;32min\u001B[0m \u001B[0menumerate\u001B[0m\u001B[0;34m(\u001B[0m\u001B[0mseries_gen\u001B[0m\u001B[0;34m)\u001B[0m\u001B[0;34m:\u001B[0m\u001B[0;34m\u001B[0m\u001B[0;34m\u001B[0m\u001B[0m\n\u001B[1;32m    827\u001B[0m                 \u001B[0;31m# ignore SettingWithCopy here in case the user mutates\u001B[0m\u001B[0;34m\u001B[0m\u001B[0;34m\u001B[0m\u001B[0;34m\u001B[0m\u001B[0m\n\u001B[0;32m--> 828\u001B[0;31m                 \u001B[0mresults\u001B[0m\u001B[0;34m[\u001B[0m\u001B[0mi\u001B[0m\u001B[0;34m]\u001B[0m \u001B[0;34m=\u001B[0m \u001B[0mself\u001B[0m\u001B[0;34m.\u001B[0m\u001B[0mf\u001B[0m\u001B[0;34m(\u001B[0m\u001B[0mv\u001B[0m\u001B[0;34m)\u001B[0m\u001B[0;34m\u001B[0m\u001B[0;34m\u001B[0m\u001B[0m\n\u001B[0m\u001B[1;32m    829\u001B[0m                 \u001B[0;32mif\u001B[0m \u001B[0misinstance\u001B[0m\u001B[0;34m(\u001B[0m\u001B[0mresults\u001B[0m\u001B[0;34m[\u001B[0m\u001B[0mi\u001B[0m\u001B[0;34m]\u001B[0m\u001B[0;34m,\u001B[0m \u001B[0mABCSeries\u001B[0m\u001B[0;34m)\u001B[0m\u001B[0;34m:\u001B[0m\u001B[0;34m\u001B[0m\u001B[0;34m\u001B[0m\u001B[0m\n\u001B[1;32m    830\u001B[0m                     \u001B[0;31m# If we have a view on v, we need to make a copy because\u001B[0m\u001B[0;34m\u001B[0m\u001B[0;34m\u001B[0m\u001B[0;34m\u001B[0m\u001B[0m\n",
      "\u001B[0;32m/Library/Frameworks/Python.framework/Versions/3.8/lib/python3.8/site-packages/pandas/core/frame.py\u001B[0m in \u001B[0;36minfer\u001B[0;34m(x)\u001B[0m\n\u001B[1;32m   8817\u001B[0m             \u001B[0;32mif\u001B[0m \u001B[0mx\u001B[0m\u001B[0;34m.\u001B[0m\u001B[0mempty\u001B[0m\u001B[0;34m:\u001B[0m\u001B[0;34m\u001B[0m\u001B[0;34m\u001B[0m\u001B[0m\n\u001B[1;32m   8818\u001B[0m                 \u001B[0;32mreturn\u001B[0m \u001B[0mlib\u001B[0m\u001B[0;34m.\u001B[0m\u001B[0mmap_infer\u001B[0m\u001B[0;34m(\u001B[0m\u001B[0mx\u001B[0m\u001B[0;34m,\u001B[0m \u001B[0mfunc\u001B[0m\u001B[0;34m,\u001B[0m \u001B[0mignore_na\u001B[0m\u001B[0;34m=\u001B[0m\u001B[0mignore_na\u001B[0m\u001B[0;34m)\u001B[0m\u001B[0;34m\u001B[0m\u001B[0;34m\u001B[0m\u001B[0m\n\u001B[0;32m-> 8819\u001B[0;31m             \u001B[0;32mreturn\u001B[0m \u001B[0mlib\u001B[0m\u001B[0;34m.\u001B[0m\u001B[0mmap_infer\u001B[0m\u001B[0;34m(\u001B[0m\u001B[0mx\u001B[0m\u001B[0;34m.\u001B[0m\u001B[0mastype\u001B[0m\u001B[0;34m(\u001B[0m\u001B[0mobject\u001B[0m\u001B[0;34m)\u001B[0m\u001B[0;34m.\u001B[0m\u001B[0m_values\u001B[0m\u001B[0;34m,\u001B[0m \u001B[0mfunc\u001B[0m\u001B[0;34m,\u001B[0m \u001B[0mignore_na\u001B[0m\u001B[0;34m=\u001B[0m\u001B[0mignore_na\u001B[0m\u001B[0;34m)\u001B[0m\u001B[0;34m\u001B[0m\u001B[0;34m\u001B[0m\u001B[0m\n\u001B[0m\u001B[1;32m   8820\u001B[0m \u001B[0;34m\u001B[0m\u001B[0m\n\u001B[1;32m   8821\u001B[0m         \u001B[0;32mreturn\u001B[0m \u001B[0mself\u001B[0m\u001B[0;34m.\u001B[0m\u001B[0mapply\u001B[0m\u001B[0;34m(\u001B[0m\u001B[0minfer\u001B[0m\u001B[0;34m)\u001B[0m\u001B[0;34m.\u001B[0m\u001B[0m__finalize__\u001B[0m\u001B[0;34m(\u001B[0m\u001B[0mself\u001B[0m\u001B[0;34m,\u001B[0m \u001B[0;34m\"applymap\"\u001B[0m\u001B[0;34m)\u001B[0m\u001B[0;34m\u001B[0m\u001B[0;34m\u001B[0m\u001B[0m\n",
      "\u001B[0;32m/Library/Frameworks/Python.framework/Versions/3.8/lib/python3.8/site-packages/pandas/_libs/lib.pyx\u001B[0m in \u001B[0;36mpandas._libs.lib.map_infer\u001B[0;34m()\u001B[0m\n",
      "\u001B[0;32m/var/folders/8y/yq5dpggj5gq0006wv9sxbx1h0000gn/T/ipykernel_39017/2028054568.py\u001B[0m in \u001B[0;36mdata_cleaning\u001B[0;34m(x)\u001B[0m\n\u001B[1;32m     10\u001B[0m     \u001B[0mbrief_clean\u001B[0m \u001B[0;34m=\u001B[0m \u001B[0;34m(\u001B[0m\u001B[0mre\u001B[0m\u001B[0;34m.\u001B[0m\u001B[0msub\u001B[0m\u001B[0;34m(\u001B[0m\u001B[0;34m\"[^A-Za-z']+\"\u001B[0m\u001B[0;34m,\u001B[0m \u001B[0;34m' '\u001B[0m\u001B[0;34m,\u001B[0m \u001B[0mstr\u001B[0m\u001B[0;34m(\u001B[0m\u001B[0mpre_cleaned\u001B[0m\u001B[0;34m)\u001B[0m\u001B[0;34m)\u001B[0m\u001B[0;34m.\u001B[0m\u001B[0mlower\u001B[0m\u001B[0;34m(\u001B[0m\u001B[0;34m)\u001B[0m\u001B[0;34m)\u001B[0m\u001B[0;34m\u001B[0m\u001B[0;34m\u001B[0m\u001B[0m\n\u001B[1;32m     11\u001B[0m     \u001B[0;31m# print(brief_clean)\u001B[0m\u001B[0;34m\u001B[0m\u001B[0;34m\u001B[0m\u001B[0;34m\u001B[0m\u001B[0m\n\u001B[0;32m---> 12\u001B[0;31m     \u001B[0mtxt\u001B[0m \u001B[0;34m=\u001B[0m \u001B[0;34m[\u001B[0m\u001B[0mcleaner\u001B[0m\u001B[0;34m(\u001B[0m\u001B[0mdoc\u001B[0m\u001B[0;34m)\u001B[0m \u001B[0;32mfor\u001B[0m \u001B[0mdoc\u001B[0m \u001B[0;32min\u001B[0m \u001B[0mnlp\u001B[0m\u001B[0;34m.\u001B[0m\u001B[0mpipe\u001B[0m\u001B[0;34m(\u001B[0m\u001B[0mbrief_cleaning\u001B[0m\u001B[0;34m,\u001B[0m \u001B[0mbatch_size\u001B[0m\u001B[0;34m=\u001B[0m\u001B[0;36m1000\u001B[0m\u001B[0;34m,\u001B[0m \u001B[0mn_process\u001B[0m\u001B[0;34m=\u001B[0m\u001B[0;34m-\u001B[0m\u001B[0;36m1\u001B[0m\u001B[0;34m)\u001B[0m\u001B[0;34m]\u001B[0m\u001B[0;34m\u001B[0m\u001B[0;34m\u001B[0m\u001B[0m\n\u001B[0m\u001B[1;32m     13\u001B[0m     \u001B[0;32mreturn\u001B[0m \u001B[0mtxt\u001B[0m\u001B[0;34m\u001B[0m\u001B[0;34m\u001B[0m\u001B[0m\n\u001B[1;32m     14\u001B[0m \u001B[0;34m\u001B[0m\u001B[0m\n",
      "\u001B[0;32m/var/folders/8y/yq5dpggj5gq0006wv9sxbx1h0000gn/T/ipykernel_39017/2028054568.py\u001B[0m in \u001B[0;36m<listcomp>\u001B[0;34m(.0)\u001B[0m\n\u001B[1;32m     10\u001B[0m     \u001B[0mbrief_clean\u001B[0m \u001B[0;34m=\u001B[0m \u001B[0;34m(\u001B[0m\u001B[0mre\u001B[0m\u001B[0;34m.\u001B[0m\u001B[0msub\u001B[0m\u001B[0;34m(\u001B[0m\u001B[0;34m\"[^A-Za-z']+\"\u001B[0m\u001B[0;34m,\u001B[0m \u001B[0;34m' '\u001B[0m\u001B[0;34m,\u001B[0m \u001B[0mstr\u001B[0m\u001B[0;34m(\u001B[0m\u001B[0mpre_cleaned\u001B[0m\u001B[0;34m)\u001B[0m\u001B[0;34m)\u001B[0m\u001B[0;34m.\u001B[0m\u001B[0mlower\u001B[0m\u001B[0;34m(\u001B[0m\u001B[0;34m)\u001B[0m\u001B[0;34m)\u001B[0m\u001B[0;34m\u001B[0m\u001B[0;34m\u001B[0m\u001B[0m\n\u001B[1;32m     11\u001B[0m     \u001B[0;31m# print(brief_clean)\u001B[0m\u001B[0;34m\u001B[0m\u001B[0;34m\u001B[0m\u001B[0;34m\u001B[0m\u001B[0m\n\u001B[0;32m---> 12\u001B[0;31m     \u001B[0mtxt\u001B[0m \u001B[0;34m=\u001B[0m \u001B[0;34m[\u001B[0m\u001B[0mcleaner\u001B[0m\u001B[0;34m(\u001B[0m\u001B[0mdoc\u001B[0m\u001B[0;34m)\u001B[0m \u001B[0;32mfor\u001B[0m \u001B[0mdoc\u001B[0m \u001B[0;32min\u001B[0m \u001B[0mnlp\u001B[0m\u001B[0;34m.\u001B[0m\u001B[0mpipe\u001B[0m\u001B[0;34m(\u001B[0m\u001B[0mbrief_cleaning\u001B[0m\u001B[0;34m,\u001B[0m \u001B[0mbatch_size\u001B[0m\u001B[0;34m=\u001B[0m\u001B[0;36m1000\u001B[0m\u001B[0;34m,\u001B[0m \u001B[0mn_process\u001B[0m\u001B[0;34m=\u001B[0m\u001B[0;34m-\u001B[0m\u001B[0;36m1\u001B[0m\u001B[0;34m)\u001B[0m\u001B[0;34m]\u001B[0m\u001B[0;34m\u001B[0m\u001B[0;34m\u001B[0m\u001B[0m\n\u001B[0m\u001B[1;32m     13\u001B[0m     \u001B[0;32mreturn\u001B[0m \u001B[0mtxt\u001B[0m\u001B[0;34m\u001B[0m\u001B[0;34m\u001B[0m\u001B[0m\n\u001B[1;32m     14\u001B[0m \u001B[0;34m\u001B[0m\u001B[0m\n",
      "\u001B[0;32m/Library/Frameworks/Python.framework/Versions/3.8/lib/python3.8/site-packages/spacy/language.py\u001B[0m in \u001B[0;36mpipe\u001B[0;34m(self, texts, as_tuples, batch_size, disable, component_cfg, n_process)\u001B[0m\n\u001B[1;32m   1581\u001B[0m             \u001B[0;32mfor\u001B[0m \u001B[0mpipe\u001B[0m \u001B[0;32min\u001B[0m \u001B[0mpipes\u001B[0m\u001B[0;34m:\u001B[0m\u001B[0;34m\u001B[0m\u001B[0;34m\u001B[0m\u001B[0m\n\u001B[1;32m   1582\u001B[0m                 \u001B[0mdocs\u001B[0m \u001B[0;34m=\u001B[0m \u001B[0mpipe\u001B[0m\u001B[0;34m(\u001B[0m\u001B[0mdocs\u001B[0m\u001B[0;34m)\u001B[0m\u001B[0;34m\u001B[0m\u001B[0;34m\u001B[0m\u001B[0m\n\u001B[0;32m-> 1583\u001B[0;31m         \u001B[0;32mfor\u001B[0m \u001B[0mdoc\u001B[0m \u001B[0;32min\u001B[0m \u001B[0mdocs\u001B[0m\u001B[0;34m:\u001B[0m\u001B[0;34m\u001B[0m\u001B[0;34m\u001B[0m\u001B[0m\n\u001B[0m\u001B[1;32m   1584\u001B[0m             \u001B[0;32myield\u001B[0m \u001B[0mdoc\u001B[0m\u001B[0;34m\u001B[0m\u001B[0;34m\u001B[0m\u001B[0m\n\u001B[1;32m   1585\u001B[0m \u001B[0;34m\u001B[0m\u001B[0m\n",
      "\u001B[0;32m/Library/Frameworks/Python.framework/Versions/3.8/lib/python3.8/site-packages/spacy/language.py\u001B[0m in \u001B[0;36m_multiprocessing_pipe\u001B[0;34m(self, texts, pipes, n_process, batch_size)\u001B[0m\n\u001B[1;32m   1647\u001B[0m         ]\n\u001B[1;32m   1648\u001B[0m         \u001B[0;32mfor\u001B[0m \u001B[0mproc\u001B[0m \u001B[0;32min\u001B[0m \u001B[0mprocs\u001B[0m\u001B[0;34m:\u001B[0m\u001B[0;34m\u001B[0m\u001B[0;34m\u001B[0m\u001B[0m\n\u001B[0;32m-> 1649\u001B[0;31m             \u001B[0mproc\u001B[0m\u001B[0;34m.\u001B[0m\u001B[0mstart\u001B[0m\u001B[0;34m(\u001B[0m\u001B[0;34m)\u001B[0m\u001B[0;34m\u001B[0m\u001B[0;34m\u001B[0m\u001B[0m\n\u001B[0m\u001B[1;32m   1650\u001B[0m \u001B[0;34m\u001B[0m\u001B[0m\n\u001B[1;32m   1651\u001B[0m         \u001B[0;31m# Cycle channels not to break the order of docs.\u001B[0m\u001B[0;34m\u001B[0m\u001B[0;34m\u001B[0m\u001B[0;34m\u001B[0m\u001B[0m\n",
      "\u001B[0;32m/Library/Frameworks/Python.framework/Versions/3.8/lib/python3.8/multiprocessing/process.py\u001B[0m in \u001B[0;36mstart\u001B[0;34m(self)\u001B[0m\n\u001B[1;32m    119\u001B[0m                \u001B[0;34m'daemonic processes are not allowed to have children'\u001B[0m\u001B[0;34m\u001B[0m\u001B[0;34m\u001B[0m\u001B[0m\n\u001B[1;32m    120\u001B[0m         \u001B[0m_cleanup\u001B[0m\u001B[0;34m(\u001B[0m\u001B[0;34m)\u001B[0m\u001B[0;34m\u001B[0m\u001B[0;34m\u001B[0m\u001B[0m\n\u001B[0;32m--> 121\u001B[0;31m         \u001B[0mself\u001B[0m\u001B[0;34m.\u001B[0m\u001B[0m_popen\u001B[0m \u001B[0;34m=\u001B[0m \u001B[0mself\u001B[0m\u001B[0;34m.\u001B[0m\u001B[0m_Popen\u001B[0m\u001B[0;34m(\u001B[0m\u001B[0mself\u001B[0m\u001B[0;34m)\u001B[0m\u001B[0;34m\u001B[0m\u001B[0;34m\u001B[0m\u001B[0m\n\u001B[0m\u001B[1;32m    122\u001B[0m         \u001B[0mself\u001B[0m\u001B[0;34m.\u001B[0m\u001B[0m_sentinel\u001B[0m \u001B[0;34m=\u001B[0m \u001B[0mself\u001B[0m\u001B[0;34m.\u001B[0m\u001B[0m_popen\u001B[0m\u001B[0;34m.\u001B[0m\u001B[0msentinel\u001B[0m\u001B[0;34m\u001B[0m\u001B[0;34m\u001B[0m\u001B[0m\n\u001B[1;32m    123\u001B[0m         \u001B[0;31m# Avoid a refcycle if the target function holds an indirect\u001B[0m\u001B[0;34m\u001B[0m\u001B[0;34m\u001B[0m\u001B[0;34m\u001B[0m\u001B[0m\n",
      "\u001B[0;32m/Library/Frameworks/Python.framework/Versions/3.8/lib/python3.8/multiprocessing/context.py\u001B[0m in \u001B[0;36m_Popen\u001B[0;34m(process_obj)\u001B[0m\n\u001B[1;32m    222\u001B[0m     \u001B[0;34m@\u001B[0m\u001B[0mstaticmethod\u001B[0m\u001B[0;34m\u001B[0m\u001B[0;34m\u001B[0m\u001B[0m\n\u001B[1;32m    223\u001B[0m     \u001B[0;32mdef\u001B[0m \u001B[0m_Popen\u001B[0m\u001B[0;34m(\u001B[0m\u001B[0mprocess_obj\u001B[0m\u001B[0;34m)\u001B[0m\u001B[0;34m:\u001B[0m\u001B[0;34m\u001B[0m\u001B[0;34m\u001B[0m\u001B[0m\n\u001B[0;32m--> 224\u001B[0;31m         \u001B[0;32mreturn\u001B[0m \u001B[0m_default_context\u001B[0m\u001B[0;34m.\u001B[0m\u001B[0mget_context\u001B[0m\u001B[0;34m(\u001B[0m\u001B[0;34m)\u001B[0m\u001B[0;34m.\u001B[0m\u001B[0mProcess\u001B[0m\u001B[0;34m.\u001B[0m\u001B[0m_Popen\u001B[0m\u001B[0;34m(\u001B[0m\u001B[0mprocess_obj\u001B[0m\u001B[0;34m)\u001B[0m\u001B[0;34m\u001B[0m\u001B[0;34m\u001B[0m\u001B[0m\n\u001B[0m\u001B[1;32m    225\u001B[0m \u001B[0;34m\u001B[0m\u001B[0m\n\u001B[1;32m    226\u001B[0m \u001B[0;32mclass\u001B[0m \u001B[0mDefaultContext\u001B[0m\u001B[0;34m(\u001B[0m\u001B[0mBaseContext\u001B[0m\u001B[0;34m)\u001B[0m\u001B[0;34m:\u001B[0m\u001B[0;34m\u001B[0m\u001B[0;34m\u001B[0m\u001B[0m\n",
      "\u001B[0;32m/Library/Frameworks/Python.framework/Versions/3.8/lib/python3.8/multiprocessing/context.py\u001B[0m in \u001B[0;36m_Popen\u001B[0;34m(process_obj)\u001B[0m\n\u001B[1;32m    282\u001B[0m         \u001B[0;32mdef\u001B[0m \u001B[0m_Popen\u001B[0m\u001B[0;34m(\u001B[0m\u001B[0mprocess_obj\u001B[0m\u001B[0;34m)\u001B[0m\u001B[0;34m:\u001B[0m\u001B[0;34m\u001B[0m\u001B[0;34m\u001B[0m\u001B[0m\n\u001B[1;32m    283\u001B[0m             \u001B[0;32mfrom\u001B[0m \u001B[0;34m.\u001B[0m\u001B[0mpopen_spawn_posix\u001B[0m \u001B[0;32mimport\u001B[0m \u001B[0mPopen\u001B[0m\u001B[0;34m\u001B[0m\u001B[0;34m\u001B[0m\u001B[0m\n\u001B[0;32m--> 284\u001B[0;31m             \u001B[0;32mreturn\u001B[0m \u001B[0mPopen\u001B[0m\u001B[0;34m(\u001B[0m\u001B[0mprocess_obj\u001B[0m\u001B[0;34m)\u001B[0m\u001B[0;34m\u001B[0m\u001B[0;34m\u001B[0m\u001B[0m\n\u001B[0m\u001B[1;32m    285\u001B[0m \u001B[0;34m\u001B[0m\u001B[0m\n\u001B[1;32m    286\u001B[0m     \u001B[0;32mclass\u001B[0m \u001B[0mForkServerProcess\u001B[0m\u001B[0;34m(\u001B[0m\u001B[0mprocess\u001B[0m\u001B[0;34m.\u001B[0m\u001B[0mBaseProcess\u001B[0m\u001B[0;34m)\u001B[0m\u001B[0;34m:\u001B[0m\u001B[0;34m\u001B[0m\u001B[0;34m\u001B[0m\u001B[0m\n",
      "\u001B[0;32m/Library/Frameworks/Python.framework/Versions/3.8/lib/python3.8/multiprocessing/popen_spawn_posix.py\u001B[0m in \u001B[0;36m__init__\u001B[0;34m(self, process_obj)\u001B[0m\n\u001B[1;32m     30\u001B[0m     \u001B[0;32mdef\u001B[0m \u001B[0m__init__\u001B[0m\u001B[0;34m(\u001B[0m\u001B[0mself\u001B[0m\u001B[0;34m,\u001B[0m \u001B[0mprocess_obj\u001B[0m\u001B[0;34m)\u001B[0m\u001B[0;34m:\u001B[0m\u001B[0;34m\u001B[0m\u001B[0;34m\u001B[0m\u001B[0m\n\u001B[1;32m     31\u001B[0m         \u001B[0mself\u001B[0m\u001B[0;34m.\u001B[0m\u001B[0m_fds\u001B[0m \u001B[0;34m=\u001B[0m \u001B[0;34m[\u001B[0m\u001B[0;34m]\u001B[0m\u001B[0;34m\u001B[0m\u001B[0;34m\u001B[0m\u001B[0m\n\u001B[0;32m---> 32\u001B[0;31m         \u001B[0msuper\u001B[0m\u001B[0;34m(\u001B[0m\u001B[0;34m)\u001B[0m\u001B[0;34m.\u001B[0m\u001B[0m__init__\u001B[0m\u001B[0;34m(\u001B[0m\u001B[0mprocess_obj\u001B[0m\u001B[0;34m)\u001B[0m\u001B[0;34m\u001B[0m\u001B[0;34m\u001B[0m\u001B[0m\n\u001B[0m\u001B[1;32m     33\u001B[0m \u001B[0;34m\u001B[0m\u001B[0m\n\u001B[1;32m     34\u001B[0m     \u001B[0;32mdef\u001B[0m \u001B[0mduplicate_for_child\u001B[0m\u001B[0;34m(\u001B[0m\u001B[0mself\u001B[0m\u001B[0;34m,\u001B[0m \u001B[0mfd\u001B[0m\u001B[0;34m)\u001B[0m\u001B[0;34m:\u001B[0m\u001B[0;34m\u001B[0m\u001B[0;34m\u001B[0m\u001B[0m\n",
      "\u001B[0;32m/Library/Frameworks/Python.framework/Versions/3.8/lib/python3.8/multiprocessing/popen_fork.py\u001B[0m in \u001B[0;36m__init__\u001B[0;34m(self, process_obj)\u001B[0m\n\u001B[1;32m     17\u001B[0m         \u001B[0mself\u001B[0m\u001B[0;34m.\u001B[0m\u001B[0mreturncode\u001B[0m \u001B[0;34m=\u001B[0m \u001B[0;32mNone\u001B[0m\u001B[0;34m\u001B[0m\u001B[0;34m\u001B[0m\u001B[0m\n\u001B[1;32m     18\u001B[0m         \u001B[0mself\u001B[0m\u001B[0;34m.\u001B[0m\u001B[0mfinalizer\u001B[0m \u001B[0;34m=\u001B[0m \u001B[0;32mNone\u001B[0m\u001B[0;34m\u001B[0m\u001B[0;34m\u001B[0m\u001B[0m\n\u001B[0;32m---> 19\u001B[0;31m         \u001B[0mself\u001B[0m\u001B[0;34m.\u001B[0m\u001B[0m_launch\u001B[0m\u001B[0;34m(\u001B[0m\u001B[0mprocess_obj\u001B[0m\u001B[0;34m)\u001B[0m\u001B[0;34m\u001B[0m\u001B[0;34m\u001B[0m\u001B[0m\n\u001B[0m\u001B[1;32m     20\u001B[0m \u001B[0;34m\u001B[0m\u001B[0m\n\u001B[1;32m     21\u001B[0m     \u001B[0;32mdef\u001B[0m \u001B[0mduplicate_for_child\u001B[0m\u001B[0;34m(\u001B[0m\u001B[0mself\u001B[0m\u001B[0;34m,\u001B[0m \u001B[0mfd\u001B[0m\u001B[0;34m)\u001B[0m\u001B[0;34m:\u001B[0m\u001B[0;34m\u001B[0m\u001B[0;34m\u001B[0m\u001B[0m\n",
      "\u001B[0;32m/Library/Frameworks/Python.framework/Versions/3.8/lib/python3.8/multiprocessing/popen_spawn_posix.py\u001B[0m in \u001B[0;36m_launch\u001B[0;34m(self, process_obj)\u001B[0m\n\u001B[1;32m     60\u001B[0m             \u001B[0mself\u001B[0m\u001B[0;34m.\u001B[0m\u001B[0msentinel\u001B[0m \u001B[0;34m=\u001B[0m \u001B[0mparent_r\u001B[0m\u001B[0;34m\u001B[0m\u001B[0;34m\u001B[0m\u001B[0m\n\u001B[1;32m     61\u001B[0m             \u001B[0;32mwith\u001B[0m \u001B[0mopen\u001B[0m\u001B[0;34m(\u001B[0m\u001B[0mparent_w\u001B[0m\u001B[0;34m,\u001B[0m \u001B[0;34m'wb'\u001B[0m\u001B[0;34m,\u001B[0m \u001B[0mclosefd\u001B[0m\u001B[0;34m=\u001B[0m\u001B[0;32mFalse\u001B[0m\u001B[0;34m)\u001B[0m \u001B[0;32mas\u001B[0m \u001B[0mf\u001B[0m\u001B[0;34m:\u001B[0m\u001B[0;34m\u001B[0m\u001B[0;34m\u001B[0m\u001B[0m\n\u001B[0;32m---> 62\u001B[0;31m                 \u001B[0mf\u001B[0m\u001B[0;34m.\u001B[0m\u001B[0mwrite\u001B[0m\u001B[0;34m(\u001B[0m\u001B[0mfp\u001B[0m\u001B[0;34m.\u001B[0m\u001B[0mgetbuffer\u001B[0m\u001B[0;34m(\u001B[0m\u001B[0;34m)\u001B[0m\u001B[0;34m)\u001B[0m\u001B[0;34m\u001B[0m\u001B[0;34m\u001B[0m\u001B[0m\n\u001B[0m\u001B[1;32m     63\u001B[0m         \u001B[0;32mfinally\u001B[0m\u001B[0;34m:\u001B[0m\u001B[0;34m\u001B[0m\u001B[0;34m\u001B[0m\u001B[0m\n\u001B[1;32m     64\u001B[0m             \u001B[0mfds_to_close\u001B[0m \u001B[0;34m=\u001B[0m \u001B[0;34m[\u001B[0m\u001B[0;34m]\u001B[0m\u001B[0;34m\u001B[0m\u001B[0;34m\u001B[0m\u001B[0m\n",
      "\u001B[0;31mKeyboardInterrupt\u001B[0m: "
     ]
    }
   ],
   "source": [
    "t = time()\n",
    "df_true_cleaned = df_cleaning_w2v.applymap(data_cleaning)\n",
    "print('Time to clean up everything: {} mins'.format(round((time() - t) / 60, 2)))"
   ],
   "metadata": {
    "collapsed": false,
    "pycharm": {
     "name": "#%%\n"
    }
   }
  },
  {
   "cell_type": "code",
   "execution_count": 63,
   "outputs": [
    {
     "ename": "NameError",
     "evalue": "name 'df_true_cleaned' is not defined",
     "output_type": "error",
     "traceback": [
      "\u001B[0;31m---------------------------------------------------------------------------\u001B[0m",
      "\u001B[0;31mNameError\u001B[0m                                 Traceback (most recent call last)",
      "\u001B[0;32m/var/folders/8y/yq5dpggj5gq0006wv9sxbx1h0000gn/T/ipykernel_39017/2072186372.py\u001B[0m in \u001B[0;36m<module>\u001B[0;34m\u001B[0m\n\u001B[0;32m----> 1\u001B[0;31m \u001B[0mdf_true_cleaned\u001B[0m\u001B[0;34m\u001B[0m\u001B[0;34m\u001B[0m\u001B[0m\n\u001B[0m\u001B[1;32m      2\u001B[0m \u001B[0;34m\u001B[0m\u001B[0m\n\u001B[1;32m      3\u001B[0m \u001B[0;32mdef\u001B[0m \u001B[0mcleaner\u001B[0m\u001B[0;34m(\u001B[0m\u001B[0mdoc\u001B[0m\u001B[0;34m)\u001B[0m\u001B[0;34m:\u001B[0m\u001B[0;34m\u001B[0m\u001B[0;34m\u001B[0m\u001B[0m\n\u001B[1;32m      4\u001B[0m     \u001B[0mtxt\u001B[0m \u001B[0;34m=\u001B[0m \u001B[0;34m[\u001B[0m\u001B[0mtoken\u001B[0m\u001B[0;34m.\u001B[0m\u001B[0mlemma_\u001B[0m \u001B[0;32mfor\u001B[0m \u001B[0mtoken\u001B[0m \u001B[0;32min\u001B[0m \u001B[0mdoc\u001B[0m \u001B[0;32mif\u001B[0m \u001B[0;32mnot\u001B[0m \u001B[0mtoken\u001B[0m\u001B[0;34m.\u001B[0m\u001B[0mis_stop\u001B[0m\u001B[0;34m]\u001B[0m\u001B[0;34m\u001B[0m\u001B[0;34m\u001B[0m\u001B[0m\n\u001B[1;32m      5\u001B[0m     \u001B[0;32mif\u001B[0m \u001B[0mlen\u001B[0m\u001B[0;34m(\u001B[0m\u001B[0mtxt\u001B[0m\u001B[0;34m)\u001B[0m \u001B[0;34m>\u001B[0m \u001B[0;36m2\u001B[0m\u001B[0;34m:\u001B[0m\u001B[0;34m\u001B[0m\u001B[0;34m\u001B[0m\u001B[0m\n",
      "\u001B[0;31mNameError\u001B[0m: name 'df_true_cleaned' is not defined"
     ]
    }
   ],
   "source": [
    "df_true_cleaned\n",
    "\n"
   ],
   "metadata": {
    "collapsed": false,
    "pycharm": {
     "name": "#%%\n"
    }
   }
  },
  {
   "cell_type": "code",
   "execution_count": 132,
   "outputs": [],
   "source": [
    "# Data cleaning trying to speed it up\n",
    "\n",
    "nlp = spacy.load('en_core_web_sm', disable=['ner', 'parser']) # disabling Named Entity Recognition for speed\n",
    "\n",
    "def cleaner(doc):\n",
    "    txt = [token.lemma_ for token in doc if not token.is_stop]\n",
    "    if len(txt) > 2:\n",
    "        return ' '.join(txt)\n",
    "\n",
    "def data_cleansing(x):\n",
    "    exclusion_list = ['#', '@']\n",
    "    words = str(x).split()\n",
    "    pre_cleaned = [word for word in words if all(ch not in word for ch in exclusion_list)] #removing hashtags, mentions, mail addresses\n",
    "    return ' '.join(pre_cleaned)"
   ],
   "metadata": {
    "collapsed": false,
    "pycharm": {
     "name": "#%%\n"
    }
   }
  },
  {
   "cell_type": "code",
   "execution_count": 133,
   "outputs": [
    {
     "data": {
      "text/plain": "                                        source_tweet  \\\n0  There are no verses in the Quran about Me want...   \n1  Mosques, synagogues and churches are inviting ...   \n\n                                             reply_1  \\\n0  no shit sherlock. are you for real? and you sa...   \n1  I'm surprised he hasn't been taken down by the...   \n\n                                             reply_2  \\\n0  Religion doesnt have to do anything with devel...   \n1  Specifically: guy was on his way to some bigge...   \n\n                                             reply_3  \\\n0                                        blasphemer.   \n1  So long as he doesn't kill any hostages, he ha...   \n\n                                             reply_4  \\\n0                               Sometime also Thor..   \n1  So is he just holed up until the bigger event ...   \n\n                                             reply_5  \\\n0  mohamed liked to fuck little aisha. he liked 6...   \n1  Very disturbing news and my deepest sympathy w...   \n\n                                             reply_6  \\\n0  Hahahha...you're right. But we're doing plenty...   \n1                                              Amen.   \n\n                                             reply_7  \\\n0  you're kidding they're making them hold islami...   \n1  I'm inclined to think outside the square on th...   \n\n                                             reply_8  \\\n0  exactly. I'm holding off RTing this it may end...   \n1       Oh cool, just what we need... MORE religion!   \n\n                                             reply_9  ...  \\\n0  Our religion is religion of peace. God does no...  ...   \n1  No, the bigger event is postponed or foiled. H...  ...   \n\n                               reply_61  \\\n0  no one has guns? It says he's armed.   \n1                                   nan   \n\n                                            reply_62  \\\n0  islam is a lie, just a suppressive measure for...   \n1                                                nan   \n\n                                            reply_63  \\\n0  Haha. All the science you have rn is due to th...   \n1                                                nan   \n\n                         reply_64  \\\n0  you know it was a joke, right?   \n1                             nan   \n\n                                         reply_65  \\\n0  Allah traslate to \"The God\" in Arabic so yeah.   \n1                                             nan   \n\n                                            reply_66  \\\n0  his voicemail is full. Please try later.If you...   \n1                                                nan   \n\n                                            reply_67  \\\n0  Were WW1 WW2 and many other wars that killed m...   \n1                                                nan   \n\n                         reply_68  \\\n0  religion is a complete fallacy   \n1                             nan   \n\n                                            reply_69  \\\n0  Actually this verse was intended for those ido...   \n1                                                nan   \n\n                                            reply_70  \n0  sorry god but you're wrong. haven't you read y...  \n1                                                nan  \n\n[2 rows x 71 columns]",
      "text/html": "<div>\n<style scoped>\n    .dataframe tbody tr th:only-of-type {\n        vertical-align: middle;\n    }\n\n    .dataframe tbody tr th {\n        vertical-align: top;\n    }\n\n    .dataframe thead th {\n        text-align: right;\n    }\n</style>\n<table border=\"1\" class=\"dataframe\">\n  <thead>\n    <tr style=\"text-align: right;\">\n      <th></th>\n      <th>source_tweet</th>\n      <th>reply_1</th>\n      <th>reply_2</th>\n      <th>reply_3</th>\n      <th>reply_4</th>\n      <th>reply_5</th>\n      <th>reply_6</th>\n      <th>reply_7</th>\n      <th>reply_8</th>\n      <th>reply_9</th>\n      <th>...</th>\n      <th>reply_61</th>\n      <th>reply_62</th>\n      <th>reply_63</th>\n      <th>reply_64</th>\n      <th>reply_65</th>\n      <th>reply_66</th>\n      <th>reply_67</th>\n      <th>reply_68</th>\n      <th>reply_69</th>\n      <th>reply_70</th>\n    </tr>\n  </thead>\n  <tbody>\n    <tr>\n      <th>0</th>\n      <td>There are no verses in the Quran about Me want...</td>\n      <td>no shit sherlock. are you for real? and you sa...</td>\n      <td>Religion doesnt have to do anything with devel...</td>\n      <td>blasphemer.</td>\n      <td>Sometime also Thor..</td>\n      <td>mohamed liked to fuck little aisha. he liked 6...</td>\n      <td>Hahahha...you're right. But we're doing plenty...</td>\n      <td>you're kidding they're making them hold islami...</td>\n      <td>exactly. I'm holding off RTing this it may end...</td>\n      <td>Our religion is religion of peace. God does no...</td>\n      <td>...</td>\n      <td>no one has guns? It says he's armed.</td>\n      <td>islam is a lie, just a suppressive measure for...</td>\n      <td>Haha. All the science you have rn is due to th...</td>\n      <td>you know it was a joke, right?</td>\n      <td>Allah traslate to \"The God\" in Arabic so yeah.</td>\n      <td>his voicemail is full. Please try later.If you...</td>\n      <td>Were WW1 WW2 and many other wars that killed m...</td>\n      <td>religion is a complete fallacy</td>\n      <td>Actually this verse was intended for those ido...</td>\n      <td>sorry god but you're wrong. haven't you read y...</td>\n    </tr>\n    <tr>\n      <th>1</th>\n      <td>Mosques, synagogues and churches are inviting ...</td>\n      <td>I'm surprised he hasn't been taken down by the...</td>\n      <td>Specifically: guy was on his way to some bigge...</td>\n      <td>So long as he doesn't kill any hostages, he ha...</td>\n      <td>So is he just holed up until the bigger event ...</td>\n      <td>Very disturbing news and my deepest sympathy w...</td>\n      <td>Amen.</td>\n      <td>I'm inclined to think outside the square on th...</td>\n      <td>Oh cool, just what we need... MORE religion!</td>\n      <td>No, the bigger event is postponed or foiled. H...</td>\n      <td>...</td>\n      <td>nan</td>\n      <td>nan</td>\n      <td>nan</td>\n      <td>nan</td>\n      <td>nan</td>\n      <td>nan</td>\n      <td>nan</td>\n      <td>nan</td>\n      <td>nan</td>\n      <td>nan</td>\n    </tr>\n  </tbody>\n</table>\n<p>2 rows × 71 columns</p>\n</div>"
     },
     "execution_count": 133,
     "metadata": {},
     "output_type": "execute_result"
    }
   ],
   "source": [
    "df_true_precean = df_cleaning_w2v.applymap(data_cleansing)\n",
    "df_true_precean\n"
   ],
   "metadata": {
    "collapsed": false,
    "pycharm": {
     "name": "#%%\n"
    }
   }
  },
  {
   "cell_type": "code",
   "execution_count": 143,
   "outputs": [],
   "source": [
    "# Applying lemmatization and tokenizing\n",
    "\n",
    "def finalise_cleaning(db):\n",
    "    df_out = pd.DataFrame()\n",
    "    def cleaner2(doc):\n",
    "        txt = [token.lemma_ for token in doc if not token.is_stop]\n",
    "        if len(txt) > 2:\n",
    "            return ' '.join(txt)\n",
    "    for i in range(db.shape[1]):\n",
    "        print(i)\n",
    "        brief_clean = (re.sub(\"[^A-Za-z']+\", ' ', str(row)).lower() for row in db.iloc[:, i])\n",
    "        txt = [cleaner2(doc) for doc in nlp.pipe(brief_clean, batch_size=5000, n_process=-1)]\n",
    "        df_part = pd.DataFrame({'reply_'+str(i): txt})\n",
    "        df_out = pd.concat([df_out, df_part], axis=1)\n",
    "        df_out.columns = ['source_tweet' if x=='reply_0' else x for x in df_out.columns]\n",
    "    return df_out"
   ],
   "metadata": {
    "collapsed": false,
    "pycharm": {
     "name": "#%%\n"
    }
   }
  },
  {
   "cell_type": "code",
   "execution_count": 190,
   "outputs": [
    {
     "data": {
      "text/plain": "(2, 2)"
     },
     "execution_count": 190,
     "metadata": {},
     "output_type": "execute_result"
    }
   ],
   "source": [
    "# Making short df for testing\n",
    "\n",
    "df_test_df = df_true_precean.loc[:, ['source_tweet', 'reply_1']]\n",
    "df_test_df.shape"
   ],
   "metadata": {
    "collapsed": false,
    "pycharm": {
     "name": "#%%\n"
    }
   }
  },
  {
   "cell_type": "code",
   "execution_count": 191,
   "outputs": [
    {
     "data": {
      "text/plain": "0    There are no verses in the Quran about Me want...\n1    Mosques, synagogues and churches are inviting ...\nName: source_tweet, dtype: object"
     },
     "execution_count": 191,
     "metadata": {},
     "output_type": "execute_result"
    }
   ],
   "source": [
    "df_test_df.iloc[:, 0]"
   ],
   "metadata": {
    "collapsed": false,
    "pycharm": {
     "name": "#%%\n"
    }
   }
  },
  {
   "cell_type": "code",
   "execution_count": 192,
   "outputs": [
    {
     "name": "stdout",
     "output_type": "stream",
     "text": [
      "0\n",
      "0    There are no verses in the Quran about Me want...\n",
      "1    Mosques, synagogues and churches are inviting ...\n",
      "Name: source_tweet, dtype: object\n",
      "<generator object finalise_cleaning.<locals>.<genexpr> at 0x7fb09300e7b0>\n",
      "['verse quran want hold hostage chocolate shop sydney terrorist fuck', 'mosque synagogue church invite public pray sydney hostage']\n",
      "                                                col0\n",
      "0  verse quran want hold hostage chocolate shop s...\n",
      "1  mosque synagogue church invite public pray syd...\n",
      "(2, 1)\n",
      "1\n",
      "0    no shit sherlock. are you for real? and you sa...\n",
      "1    I'm surprised he hasn't been taken down by the...\n",
      "Name: reply_1, dtype: object\n",
      "<generator object finalise_cleaning.<locals>.<genexpr> at 0x7fb09300e740>\n",
      "['shit sherlock real say decade try millenia learn history', 'surprised take hostage outnumber badly']\n",
      "                                                col1\n",
      "0  shit sherlock real say decade try millenia lea...\n",
      "1             surprised take hostage outnumber badly\n",
      "(2, 2)\n",
      "Time to clean up everything: 3.13 mins\n"
     ]
    }
   ],
   "source": [
    "t = time()\n",
    "df_test = finalise_cleaning(df_test_df)\n",
    "print('Time to clean up everything: {} mins'.format(round((time() - t) / 60, 2)))"
   ],
   "metadata": {
    "collapsed": false,
    "pycharm": {
     "name": "#%%\n"
    }
   }
  },
  {
   "cell_type": "code",
   "execution_count": 238,
   "outputs": [
    {
     "data": {
      "text/plain": "                                                col0  \\\n0  verse quran want hold hostage chocolate shop s...   \n1  mosque synagogue church invite public pray syd...   \n\n                                                col1  \n0  shit sherlock real say decade try millenia lea...  \n1             surprised take hostage outnumber badly  ",
      "text/html": "<div>\n<style scoped>\n    .dataframe tbody tr th:only-of-type {\n        vertical-align: middle;\n    }\n\n    .dataframe tbody tr th {\n        vertical-align: top;\n    }\n\n    .dataframe thead th {\n        text-align: right;\n    }\n</style>\n<table border=\"1\" class=\"dataframe\">\n  <thead>\n    <tr style=\"text-align: right;\">\n      <th></th>\n      <th>col0</th>\n      <th>col1</th>\n    </tr>\n  </thead>\n  <tbody>\n    <tr>\n      <th>0</th>\n      <td>verse quran want hold hostage chocolate shop s...</td>\n      <td>shit sherlock real say decade try millenia lea...</td>\n    </tr>\n    <tr>\n      <th>1</th>\n      <td>mosque synagogue church invite public pray syd...</td>\n      <td>surprised take hostage outnumber badly</td>\n    </tr>\n  </tbody>\n</table>\n</div>"
     },
     "execution_count": 238,
     "metadata": {},
     "output_type": "execute_result"
    }
   ],
   "source": [
    "df_test"
   ],
   "metadata": {
    "collapsed": false,
    "pycharm": {
     "name": "#%%\n"
    }
   }
  },
  {
   "cell_type": "code",
   "execution_count": 206,
   "outputs": [
    {
     "data": {
      "text/plain": "10"
     },
     "execution_count": 206,
     "metadata": {},
     "output_type": "execute_result"
    }
   ],
   "source": [
    "# Df -> Df of modules\n",
    "#df_test.col0.str.len().max() # finds max value of symbols in column\n",
    "df_test.iloc[:,0].str.split().str.len().max() # Find longest sentence in column"
   ],
   "metadata": {
    "collapsed": false,
    "pycharm": {
     "name": "#%%\n"
    }
   }
  },
  {
   "cell_type": "code",
   "execution_count": 269,
   "outputs": [
    {
     "data": {
      "text/plain": "['verse',\n 'quran',\n 'want',\n 'hold',\n 'hostage',\n 'chocolate',\n 'shop',\n 'sydney',\n 'terrorist',\n 'fuck']"
     },
     "execution_count": 269,
     "metadata": {},
     "output_type": "execute_result"
    }
   ],
   "source": [
    "#str(df_test.iloc[:1,0][0]).split()[0]\n",
    "str(df_test.iloc[:,0][0]).split()"
   ],
   "metadata": {
    "collapsed": false,
    "pycharm": {
     "name": "#%%\n"
    }
   }
  },
  {
   "cell_type": "code",
   "execution_count": 345,
   "outputs": [],
   "source": [
    "def word_separator(df):\n",
    "    df_out = pd.DataFrame()\n",
    "    for i in range(df.shape[0]):\n",
    "        k_max = df.iloc[:,i].str.split().str.len().max() # max No of words in set column\n",
    "        print(str(k_max))\n",
    "        name = str(df.columns[i])\n",
    "        listing = df.iloc[:,i]\n",
    "        df_part = pd.DataFrame()\n",
    "        for j in range(df.shape[1]):\n",
    "            sentence = listing[j]\n",
    "            print(str(sentence))\n",
    "            df_part_0 = pd.DataFrame()\n",
    "            for k in range(k_max):\n",
    "                subname = name + '_' + str(k)\n",
    "                words = str(sentence).split()\n",
    "                if k < len(words):\n",
    "                    word = words[k]\n",
    "                else:\n",
    "                    word = ''\n",
    "                print(str(subname))\n",
    "                print(str(word))\n",
    "                df_part_1 = pd.DataFrame({subname: [word]})\n",
    "                df_part_0 = pd.concat([df_part_0, df_part_1], axis=1)\n",
    "                print(df_part_0.shape)\n",
    "            print(df_part_0.shape)\n",
    "            #return df_part_0\n",
    "            df_part = pd.concat([df_part, df_part_0], axis=0)\n",
    "        #return df_part\n",
    "        df_out = pd.concat([df_out, df_part], axis=1)\n",
    "    return df_out\n"
   ],
   "metadata": {
    "collapsed": false,
    "pycharm": {
     "name": "#%%\n"
    }
   }
  },
  {
   "cell_type": "code",
   "execution_count": 346,
   "outputs": [
    {
     "name": "stdout",
     "output_type": "stream",
     "text": [
      "10\n",
      "verse quran want hold hostage chocolate shop sydney terrorist fuck\n",
      "col0_0\n",
      "verse\n",
      "(1, 1)\n",
      "col0_1\n",
      "quran\n",
      "(1, 2)\n",
      "col0_2\n",
      "want\n",
      "(1, 3)\n",
      "col0_3\n",
      "hold\n",
      "(1, 4)\n",
      "col0_4\n",
      "hostage\n",
      "(1, 5)\n",
      "col0_5\n",
      "chocolate\n",
      "(1, 6)\n",
      "col0_6\n",
      "shop\n",
      "(1, 7)\n",
      "col0_7\n",
      "sydney\n",
      "(1, 8)\n",
      "col0_8\n",
      "terrorist\n",
      "(1, 9)\n",
      "col0_9\n",
      "fuck\n",
      "(1, 10)\n",
      "(1, 10)\n",
      "mosque synagogue church invite public pray sydney hostage\n",
      "col0_0\n",
      "mosque\n",
      "(1, 1)\n",
      "col0_1\n",
      "synagogue\n",
      "(1, 2)\n",
      "col0_2\n",
      "church\n",
      "(1, 3)\n",
      "col0_3\n",
      "invite\n",
      "(1, 4)\n",
      "col0_4\n",
      "public\n",
      "(1, 5)\n",
      "col0_5\n",
      "pray\n",
      "(1, 6)\n",
      "col0_6\n",
      "sydney\n",
      "(1, 7)\n",
      "col0_7\n",
      "hostage\n",
      "(1, 8)\n",
      "col0_8\n",
      "\n",
      "(1, 9)\n",
      "col0_9\n",
      "\n",
      "(1, 10)\n",
      "(1, 10)\n",
      "9\n",
      "shit sherlock real say decade try millenia learn history\n",
      "col1_0\n",
      "shit\n",
      "(1, 1)\n",
      "col1_1\n",
      "sherlock\n",
      "(1, 2)\n",
      "col1_2\n",
      "real\n",
      "(1, 3)\n",
      "col1_3\n",
      "say\n",
      "(1, 4)\n",
      "col1_4\n",
      "decade\n",
      "(1, 5)\n",
      "col1_5\n",
      "try\n",
      "(1, 6)\n",
      "col1_6\n",
      "millenia\n",
      "(1, 7)\n",
      "col1_7\n",
      "learn\n",
      "(1, 8)\n",
      "col1_8\n",
      "history\n",
      "(1, 9)\n",
      "(1, 9)\n",
      "surprised take hostage outnumber badly\n",
      "col1_0\n",
      "surprised\n",
      "(1, 1)\n",
      "col1_1\n",
      "take\n",
      "(1, 2)\n",
      "col1_2\n",
      "hostage\n",
      "(1, 3)\n",
      "col1_3\n",
      "outnumber\n",
      "(1, 4)\n",
      "col1_4\n",
      "badly\n",
      "(1, 5)\n",
      "col1_5\n",
      "\n",
      "(1, 6)\n",
      "col1_6\n",
      "\n",
      "(1, 7)\n",
      "col1_7\n",
      "\n",
      "(1, 8)\n",
      "col1_8\n",
      "\n",
      "(1, 9)\n",
      "(1, 9)\n"
     ]
    }
   ],
   "source": [
    "df_ttest = word_separator(df_test)"
   ],
   "metadata": {
    "collapsed": false,
    "pycharm": {
     "name": "#%%\n"
    }
   }
  },
  {
   "cell_type": "code",
   "execution_count": 347,
   "outputs": [
    {
     "data": {
      "text/plain": "   col0_0     col0_1  col0_2  col0_3   col0_4     col0_5  col0_6   col0_7  \\\n0   verse      quran    want    hold  hostage  chocolate    shop   sydney   \n0  mosque  synagogue  church  invite   public       pray  sydney  hostage   \n\n      col0_8 col0_9     col1_0    col1_1   col1_2     col1_3  col1_4 col1_5  \\\n0  terrorist   fuck       shit  sherlock     real        say  decade    try   \n0                    surprised      take  hostage  outnumber   badly          \n\n     col1_6 col1_7   col1_8  \n0  millenia  learn  history  \n0                            ",
      "text/html": "<div>\n<style scoped>\n    .dataframe tbody tr th:only-of-type {\n        vertical-align: middle;\n    }\n\n    .dataframe tbody tr th {\n        vertical-align: top;\n    }\n\n    .dataframe thead th {\n        text-align: right;\n    }\n</style>\n<table border=\"1\" class=\"dataframe\">\n  <thead>\n    <tr style=\"text-align: right;\">\n      <th></th>\n      <th>col0_0</th>\n      <th>col0_1</th>\n      <th>col0_2</th>\n      <th>col0_3</th>\n      <th>col0_4</th>\n      <th>col0_5</th>\n      <th>col0_6</th>\n      <th>col0_7</th>\n      <th>col0_8</th>\n      <th>col0_9</th>\n      <th>col1_0</th>\n      <th>col1_1</th>\n      <th>col1_2</th>\n      <th>col1_3</th>\n      <th>col1_4</th>\n      <th>col1_5</th>\n      <th>col1_6</th>\n      <th>col1_7</th>\n      <th>col1_8</th>\n    </tr>\n  </thead>\n  <tbody>\n    <tr>\n      <th>0</th>\n      <td>verse</td>\n      <td>quran</td>\n      <td>want</td>\n      <td>hold</td>\n      <td>hostage</td>\n      <td>chocolate</td>\n      <td>shop</td>\n      <td>sydney</td>\n      <td>terrorist</td>\n      <td>fuck</td>\n      <td>shit</td>\n      <td>sherlock</td>\n      <td>real</td>\n      <td>say</td>\n      <td>decade</td>\n      <td>try</td>\n      <td>millenia</td>\n      <td>learn</td>\n      <td>history</td>\n    </tr>\n    <tr>\n      <th>0</th>\n      <td>mosque</td>\n      <td>synagogue</td>\n      <td>church</td>\n      <td>invite</td>\n      <td>public</td>\n      <td>pray</td>\n      <td>sydney</td>\n      <td>hostage</td>\n      <td></td>\n      <td></td>\n      <td>surprised</td>\n      <td>take</td>\n      <td>hostage</td>\n      <td>outnumber</td>\n      <td>badly</td>\n      <td></td>\n      <td></td>\n      <td></td>\n      <td></td>\n    </tr>\n  </tbody>\n</table>\n</div>"
     },
     "execution_count": 347,
     "metadata": {},
     "output_type": "execute_result"
    }
   ],
   "source": [
    "df_ttest"
   ],
   "metadata": {
    "collapsed": false,
    "pycharm": {
     "name": "#%%\n"
    }
   }
  },
  {
   "cell_type": "code",
   "execution_count": null,
   "outputs": [],
   "source": [
    "#Creating list of words\n",
    "\n",
    "sent_all = []\n",
    "for i in range(df_test.shape[1]):\n",
    "    sent2 = [row.split() for row in df_test.iloc[:, i]]\n",
    "    print(sent2)\n",
    "    sent_all.extend(sent2)\n",
    "    print(sent_all)"
   ],
   "metadata": {
    "collapsed": false,
    "pycharm": {
     "name": "#%%\n"
    }
   }
  },
  {
   "cell_type": "code",
   "execution_count": 169,
   "outputs": [],
   "source": [
    "sent_all2 = sent_all"
   ],
   "metadata": {
    "collapsed": false,
    "pycharm": {
     "name": "#%%\n"
    }
   }
  },
  {
   "cell_type": "code",
   "execution_count": 179,
   "outputs": [],
   "source": [
    "sent_combined\n",
    "#sent3\n"
   ],
   "metadata": {
    "collapsed": false,
    "pycharm": {
     "name": "#%%\n"
    }
   }
  },
  {
   "cell_type": "code",
   "execution_count": 180,
   "outputs": [
    {
     "data": {
      "text/plain": "['surprised',\n 'take',\n 'hostage',\n 'outnumber',\n 'badly',\n ['verse',\n  'quran',\n  'want',\n  'hold',\n  'hostage',\n  'chocolate',\n  'shop',\n  'sydney',\n  'terrorist',\n  'fuck'],\n ['mosque',\n  'synagogue',\n  'church',\n  'invite',\n  'public',\n  'pray',\n  'sydney',\n  'hostage'],\n ['shit',\n  'sherlock',\n  'real',\n  'say',\n  'decade',\n  'try',\n  'millenia',\n  'learn',\n  'history'],\n ['surprised', 'take', 'hostage', 'outnumber', 'badly'],\n ['verse',\n  'quran',\n  'want',\n  'hold',\n  'hostage',\n  'chocolate',\n  'shop',\n  'sydney',\n  'terrorist',\n  'fuck'],\n ['mosque',\n  'synagogue',\n  'church',\n  'invite',\n  'public',\n  'pray',\n  'sydney',\n  'hostage'],\n ['shit',\n  'sherlock',\n  'real',\n  'say',\n  'decade',\n  'try',\n  'millenia',\n  'learn',\n  'history'],\n ['surprised', 'take', 'hostage', 'outnumber', 'badly']]"
     },
     "execution_count": 180,
     "metadata": {},
     "output_type": "execute_result"
    }
   ],
   "source": [
    "sent_all.extend(sent_all2)\n",
    "sent_all"
   ],
   "metadata": {
    "collapsed": false,
    "pycharm": {
     "name": "#%%\n"
    }
   }
  },
  {
   "cell_type": "code",
   "execution_count": 181,
   "outputs": [
    {
     "name": "stderr",
     "output_type": "stream",
     "text": [
      "INFO - 12:57:54: collecting all words and their counts\n",
      "INFO - 12:57:54: PROGRESS: at sentence #0, processed 0 words and 0 word types\n",
      "INFO - 12:57:54: collected 103 token types (unigram + bigrams) from a corpus of 98 words and 13 sentences\n",
      "INFO - 12:57:54: merged Phrases<103 vocab, min_count=30, threshold=10.0, max_vocab_size=40000000>\n",
      "INFO - 12:57:54: Phrases lifecycle event {'msg': 'built Phrases<103 vocab, min_count=30, threshold=10.0, max_vocab_size=40000000> in 0.01s', 'datetime': '2022-08-16T12:57:54.932667', 'gensim': '4.2.0', 'python': '3.8.6 (v3.8.6:db455296be, Sep 23 2020, 13:31:39) \\n[Clang 6.0 (clang-600.0.57)]', 'platform': 'macOS-10.16-x86_64-i386-64bit', 'event': 'created'}\n"
     ]
    }
   ],
   "source": [
    "phrases = Phrases(sent_all, min_count=30, progress_per=10000)"
   ],
   "metadata": {
    "collapsed": false,
    "pycharm": {
     "name": "#%%\n"
    }
   }
  },
  {
   "cell_type": "code",
   "execution_count": 182,
   "outputs": [
    {
     "name": "stderr",
     "output_type": "stream",
     "text": [
      "INFO - 12:57:58: exporting phrases from Phrases<103 vocab, min_count=30, threshold=10.0, max_vocab_size=40000000>\n",
      "INFO - 12:57:58: FrozenPhrases lifecycle event {'msg': 'exported FrozenPhrases<0 phrases, min_count=30, threshold=10.0> from Phrases<103 vocab, min_count=30, threshold=10.0, max_vocab_size=40000000> in 0.00s', 'datetime': '2022-08-16T12:57:58.925418', 'gensim': '4.2.0', 'python': '3.8.6 (v3.8.6:db455296be, Sep 23 2020, 13:31:39) \\n[Clang 6.0 (clang-600.0.57)]', 'platform': 'macOS-10.16-x86_64-i386-64bit', 'event': 'created'}\n"
     ]
    }
   ],
   "source": [
    "\n",
    "bigram = Phraser(phrases)"
   ],
   "metadata": {
    "collapsed": false,
    "pycharm": {
     "name": "#%%\n"
    }
   }
  },
  {
   "cell_type": "code",
   "execution_count": 183,
   "outputs": [
    {
     "ename": "TypeError",
     "evalue": "unhashable type: 'list'",
     "output_type": "error",
     "traceback": [
      "\u001B[0;31m---------------------------------------------------------------------------\u001B[0m",
      "\u001B[0;31mTypeError\u001B[0m                                 Traceback (most recent call last)",
      "\u001B[0;32m/var/folders/8y/yq5dpggj5gq0006wv9sxbx1h0000gn/T/ipykernel_39017/2609820854.py\u001B[0m in \u001B[0;36m<module>\u001B[0;34m\u001B[0m\n\u001B[0;32m----> 1\u001B[0;31m \u001B[0msentences\u001B[0m \u001B[0;34m=\u001B[0m \u001B[0mbigram\u001B[0m\u001B[0;34m[\u001B[0m\u001B[0msent_all\u001B[0m\u001B[0;34m]\u001B[0m\u001B[0;34m\u001B[0m\u001B[0;34m\u001B[0m\u001B[0m\n\u001B[0m\u001B[1;32m      2\u001B[0m \u001B[0;34m\u001B[0m\u001B[0m\n",
      "\u001B[0;32m/Library/Frameworks/Python.framework/Versions/3.8/lib/python3.8/site-packages/gensim/models/phrases.py\u001B[0m in \u001B[0;36m__getitem__\u001B[0;34m(self, sentence)\u001B[0m\n\u001B[1;32m    300\u001B[0m             \u001B[0;32mreturn\u001B[0m \u001B[0mself\u001B[0m\u001B[0;34m.\u001B[0m\u001B[0m_apply\u001B[0m\u001B[0;34m(\u001B[0m\u001B[0msentence\u001B[0m\u001B[0;34m)\u001B[0m\u001B[0;34m\u001B[0m\u001B[0;34m\u001B[0m\u001B[0m\n\u001B[1;32m    301\u001B[0m \u001B[0;34m\u001B[0m\u001B[0m\n\u001B[0;32m--> 302\u001B[0;31m         \u001B[0;32mreturn\u001B[0m \u001B[0;34m[\u001B[0m\u001B[0mtoken\u001B[0m \u001B[0;32mfor\u001B[0m \u001B[0mtoken\u001B[0m\u001B[0;34m,\u001B[0m \u001B[0m_\u001B[0m \u001B[0;32min\u001B[0m \u001B[0mself\u001B[0m\u001B[0;34m.\u001B[0m\u001B[0manalyze_sentence\u001B[0m\u001B[0;34m(\u001B[0m\u001B[0msentence\u001B[0m\u001B[0;34m)\u001B[0m\u001B[0;34m]\u001B[0m\u001B[0;34m\u001B[0m\u001B[0;34m\u001B[0m\u001B[0m\n\u001B[0m\u001B[1;32m    303\u001B[0m \u001B[0;34m\u001B[0m\u001B[0m\n\u001B[1;32m    304\u001B[0m     \u001B[0;32mdef\u001B[0m \u001B[0mfind_phrases\u001B[0m\u001B[0;34m(\u001B[0m\u001B[0mself\u001B[0m\u001B[0;34m,\u001B[0m \u001B[0msentences\u001B[0m\u001B[0;34m)\u001B[0m\u001B[0;34m:\u001B[0m\u001B[0;34m\u001B[0m\u001B[0;34m\u001B[0m\u001B[0m\n",
      "\u001B[0;32m/Library/Frameworks/Python.framework/Versions/3.8/lib/python3.8/site-packages/gensim/models/phrases.py\u001B[0m in \u001B[0;36m<listcomp>\u001B[0;34m(.0)\u001B[0m\n\u001B[1;32m    300\u001B[0m             \u001B[0;32mreturn\u001B[0m \u001B[0mself\u001B[0m\u001B[0;34m.\u001B[0m\u001B[0m_apply\u001B[0m\u001B[0;34m(\u001B[0m\u001B[0msentence\u001B[0m\u001B[0;34m)\u001B[0m\u001B[0;34m\u001B[0m\u001B[0;34m\u001B[0m\u001B[0m\n\u001B[1;32m    301\u001B[0m \u001B[0;34m\u001B[0m\u001B[0m\n\u001B[0;32m--> 302\u001B[0;31m         \u001B[0;32mreturn\u001B[0m \u001B[0;34m[\u001B[0m\u001B[0mtoken\u001B[0m \u001B[0;32mfor\u001B[0m \u001B[0mtoken\u001B[0m\u001B[0;34m,\u001B[0m \u001B[0m_\u001B[0m \u001B[0;32min\u001B[0m \u001B[0mself\u001B[0m\u001B[0;34m.\u001B[0m\u001B[0manalyze_sentence\u001B[0m\u001B[0;34m(\u001B[0m\u001B[0msentence\u001B[0m\u001B[0;34m)\u001B[0m\u001B[0;34m]\u001B[0m\u001B[0;34m\u001B[0m\u001B[0;34m\u001B[0m\u001B[0m\n\u001B[0m\u001B[1;32m    303\u001B[0m \u001B[0;34m\u001B[0m\u001B[0m\n\u001B[1;32m    304\u001B[0m     \u001B[0;32mdef\u001B[0m \u001B[0mfind_phrases\u001B[0m\u001B[0;34m(\u001B[0m\u001B[0mself\u001B[0m\u001B[0;34m,\u001B[0m \u001B[0msentences\u001B[0m\u001B[0;34m)\u001B[0m\u001B[0;34m:\u001B[0m\u001B[0;34m\u001B[0m\u001B[0;34m\u001B[0m\u001B[0m\n",
      "\u001B[0;32m/Library/Frameworks/Python.framework/Versions/3.8/lib/python3.8/site-packages/gensim/models/phrases.py\u001B[0m in \u001B[0;36manalyze_sentence\u001B[0;34m(self, sentence)\u001B[0m\n\u001B[1;32m    242\u001B[0m         \u001B[0mstart_token\u001B[0m\u001B[0;34m,\u001B[0m \u001B[0min_between\u001B[0m \u001B[0;34m=\u001B[0m \u001B[0;32mNone\u001B[0m\u001B[0;34m,\u001B[0m \u001B[0;34m[\u001B[0m\u001B[0;34m]\u001B[0m\u001B[0;34m\u001B[0m\u001B[0;34m\u001B[0m\u001B[0m\n\u001B[1;32m    243\u001B[0m         \u001B[0;32mfor\u001B[0m \u001B[0mword\u001B[0m \u001B[0;32min\u001B[0m \u001B[0msentence\u001B[0m\u001B[0;34m:\u001B[0m\u001B[0;34m\u001B[0m\u001B[0;34m\u001B[0m\u001B[0m\n\u001B[0;32m--> 244\u001B[0;31m             \u001B[0;32mif\u001B[0m \u001B[0mword\u001B[0m \u001B[0;32mnot\u001B[0m \u001B[0;32min\u001B[0m \u001B[0mself\u001B[0m\u001B[0;34m.\u001B[0m\u001B[0mconnector_words\u001B[0m\u001B[0;34m:\u001B[0m\u001B[0;34m\u001B[0m\u001B[0;34m\u001B[0m\u001B[0m\n\u001B[0m\u001B[1;32m    245\u001B[0m                 \u001B[0;31m# The current word is a normal token, not a connector word, which means it's a potential\u001B[0m\u001B[0;34m\u001B[0m\u001B[0;34m\u001B[0m\u001B[0;34m\u001B[0m\u001B[0m\n\u001B[1;32m    246\u001B[0m                 \u001B[0;31m# beginning (or end) of a phrase.\u001B[0m\u001B[0;34m\u001B[0m\u001B[0;34m\u001B[0m\u001B[0;34m\u001B[0m\u001B[0m\n",
      "\u001B[0;31mTypeError\u001B[0m: unhashable type: 'list'"
     ]
    }
   ],
   "source": [
    "sentences = bigram[sent_all]"
   ],
   "metadata": {
    "collapsed": false,
    "pycharm": {
     "name": "#%%\n"
    }
   }
  },
  {
   "cell_type": "code",
   "execution_count": 175,
   "outputs": [
    {
     "data": {
      "text/plain": "29"
     },
     "execution_count": 175,
     "metadata": {},
     "output_type": "execute_result"
    }
   ],
   "source": [
    "word_freq = defaultdict(int)\n",
    "for sent_all in sentences:\n",
    "    for i in sent_all:\n",
    "        word_freq[i] += 1\n",
    "len(word_freq)"
   ],
   "metadata": {
    "collapsed": false,
    "pycharm": {
     "name": "#%%\n"
    }
   }
  },
  {
   "cell_type": "code",
   "execution_count": 176,
   "outputs": [
    {
     "data": {
      "text/plain": "['hostage',\n 'sydney',\n 'verse',\n 'quran',\n 'want',\n 'hold',\n 'chocolate',\n 'shop',\n 'terrorist',\n 'fuck']"
     },
     "execution_count": 176,
     "metadata": {},
     "output_type": "execute_result"
    }
   ],
   "source": [
    "sorted(word_freq, key=word_freq.get, reverse=True)[:10]"
   ],
   "metadata": {
    "collapsed": false,
    "pycharm": {
     "name": "#%%\n"
    }
   }
  },
  {
   "cell_type": "code",
   "execution_count": null,
   "outputs": [],
   "source": [
    "\n",
    "from gensim.models.phrases import Phrases, Phraser"
   ],
   "metadata": {
    "collapsed": false,
    "pycharm": {
     "name": "#%%\n"
    }
   }
  },
  {
   "cell_type": "code",
   "execution_count": 34,
   "outputs": [],
   "source": [
    "sent = [row.split() for row in df_cleaned['clean']]"
   ],
   "metadata": {
    "collapsed": false,
    "pycharm": {
     "name": "#%%\n"
    }
   }
  },
  {
   "cell_type": "code",
   "execution_count": 149,
   "outputs": [
    {
     "data": {
      "text/plain": "['send',\n 'love',\n 'sydney',\n 'illridewithyou',\n 'sydneysiege',\n 'http_t',\n 'co',\n 'cfdtyzehdp']"
     },
     "execution_count": 149,
     "metadata": {},
     "output_type": "execute_result"
    }
   ],
   "source": [
    "sent"
   ],
   "metadata": {
    "collapsed": false,
    "pycharm": {
     "name": "#%%\n"
    }
   }
  },
  {
   "cell_type": "code",
   "execution_count": null,
   "outputs": [],
   "source": [
    "phrases = Phrases(sent, min_count=30, progress_per=10000)"
   ],
   "metadata": {
    "collapsed": false,
    "pycharm": {
     "name": "#%%\n"
    }
   }
  },
  {
   "cell_type": "code",
   "execution_count": 36,
   "outputs": [
    {
     "name": "stderr",
     "output_type": "stream",
     "text": [
      "INFO - 15:44:35: exporting phrases from Phrases<1480 vocab, min_count=30, threshold=10.0, max_vocab_size=40000000>\n",
      "INFO - 15:44:35: FrozenPhrases lifecycle event {'msg': 'exported FrozenPhrases<2 phrases, min_count=30, threshold=10.0> from Phrases<1480 vocab, min_count=30, threshold=10.0, max_vocab_size=40000000> in 0.00s', 'datetime': '2022-08-15T15:44:35.333348', 'gensim': '4.2.0', 'python': '3.8.6 (v3.8.6:db455296be, Sep 23 2020, 13:31:39) \\n[Clang 6.0 (clang-600.0.57)]', 'platform': 'macOS-10.16-x86_64-i386-64bit', 'event': 'created'}\n"
     ]
    }
   ],
   "source": [
    "bigram = Phraser(phrases)"
   ],
   "metadata": {
    "collapsed": false,
    "pycharm": {
     "name": "#%%\n"
    }
   }
  },
  {
   "cell_type": "code",
   "execution_count": 37,
   "outputs": [],
   "source": [
    "sentences = bigram[sent]"
   ],
   "metadata": {
    "collapsed": false,
    "pycharm": {
     "name": "#%%\n"
    }
   }
  },
  {
   "cell_type": "code",
   "execution_count": 38,
   "outputs": [
    {
     "data": {
      "text/plain": "572"
     },
     "execution_count": 38,
     "metadata": {},
     "output_type": "execute_result"
    }
   ],
   "source": [
    "word_freq = defaultdict(int)\n",
    "for sent in sentences:\n",
    "    for i in sent:\n",
    "        word_freq[i] += 1\n",
    "len(word_freq)"
   ],
   "metadata": {
    "collapsed": false,
    "pycharm": {
     "name": "#%%\n"
    }
   }
  },
  {
   "cell_type": "code",
   "execution_count": 39,
   "outputs": [
    {
     "data": {
      "text/plain": "['sydneysiege',\n 'http_t',\n 'co',\n 'sydney',\n 'hostage',\n 'illridewithyou',\n 'muslim',\n 'police',\n 'people',\n 'cafe']"
     },
     "execution_count": 39,
     "metadata": {},
     "output_type": "execute_result"
    }
   ],
   "source": [
    "sorted(word_freq, key=word_freq.get, reverse=True)[:10]"
   ],
   "metadata": {
    "collapsed": false,
    "pycharm": {
     "name": "#%%\n"
    }
   }
  },
  {
   "cell_type": "code",
   "execution_count": null,
   "outputs": [],
   "source": [],
   "metadata": {
    "collapsed": false,
    "pycharm": {
     "name": "#%%\n"
    }
   }
  }
 ],
 "metadata": {
  "kernelspec": {
   "name": "pycharm-99298bfd",
   "language": "python",
   "display_name": "PyCharm (_project)"
  },
  "language_info": {
   "codemirror_mode": {
    "name": "ipython",
    "version": 2
   },
   "file_extension": ".py",
   "mimetype": "text/x-python",
   "name": "python",
   "nbconvert_exporter": "python",
   "pygments_lexer": "ipython2",
   "version": "2.7.6"
  }
 },
 "nbformat": 4,
 "nbformat_minor": 0
}